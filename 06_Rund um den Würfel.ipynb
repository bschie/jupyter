{
 "cells": [
  {
   "cell_type": "markdown",
   "id": "3d61cf4e-f672-47b4-9b36-1d37f1357109",
   "metadata": {},
   "source": [
    "# Rund um den Würfel\n",
    "\n",
    "In den folgenden Aufgaben geht es um verschiedene Fragestellungen und Spiele mit dem Würfel. In den Aufgaben werden die dir bekannten Kontrollstrukturen zunächst einzeln, später auch kombiniert vorkommen.\n",
    "\n",
    "Für diese Aufgaben benötigst du Zufallszahlen und damit das Paket random."
   ]
  },
  {
   "cell_type": "markdown",
   "id": "23306ac6-259d-4b1c-b272-569cd9f5f4db",
   "metadata": {},
   "source": [
    "### Aufgabe 1: Sechser würfeln (Schwierigkeitsgrad: einfach)\n",
    "\n",
    "#### Wie viele Versuche benötigt man, um eine 6 zu würfeln?\n",
    "Dieser Frage wollen wir mit Hilfe eines Python-Programms nachgehen. Dazu schreiben wir ein Programm, welches so lange \"würfelt\" (d.h. eine Zufallszahl zwischen 1 und 6 erzeugt), bis eine 6 gefallen ist.\n",
    "\n",
    "Im folgenden Abschnitt wurde bereits der Versuch unternommen, ein solches Programm zu schreiben - leider hat sich dabei ein Fehler eingeschlichen. \n",
    "\n",
    "**Aufgabe 1.1** Finde und behebe den Fehler."
   ]
  },
  {
   "cell_type": "code",
   "execution_count": 3,
   "id": "b6982bbe-09b5-4700-a7a5-3b797f64a916",
   "metadata": {},
   "outputs": [
    {
     "name": "stdout",
     "output_type": "stream",
     "text": [
      "Ich werde nun so lange würfeln, bis ich eine 6 gewürfelt habe.\n"
     ]
    },
    {
     "ename": "NameError",
     "evalue": "name 'wuerfel' is not defined",
     "output_type": "error",
     "traceback": [
      "\u001b[1;31m---------------------------------------------------------------------------\u001b[0m",
      "\u001b[1;31mNameError\u001b[0m                                 Traceback (most recent call last)",
      "\u001b[1;32m~\\AppData\\Local\\Temp/ipykernel_13864/124703746.py\u001b[0m in \u001b[0;36m<module>\u001b[1;34m\u001b[0m\n\u001b[0;32m      1\u001b[0m \u001b[1;32mfrom\u001b[0m \u001b[0mrandom\u001b[0m \u001b[1;32mimport\u001b[0m \u001b[1;33m*\u001b[0m\u001b[1;33m\u001b[0m\u001b[1;33m\u001b[0m\u001b[0m\n\u001b[0;32m      2\u001b[0m \u001b[0mprint\u001b[0m\u001b[1;33m(\u001b[0m\u001b[1;34m\"Ich werde nun so lange würfeln, bis ich eine 6 gewürfelt habe.\"\u001b[0m\u001b[1;33m)\u001b[0m\u001b[1;33m\u001b[0m\u001b[1;33m\u001b[0m\u001b[0m\n\u001b[1;32m----> 3\u001b[1;33m \u001b[1;32mwhile\u001b[0m \u001b[1;32mnot\u001b[0m\u001b[1;33m(\u001b[0m\u001b[0mwuerfel\u001b[0m \u001b[1;33m==\u001b[0m \u001b[1;36m6\u001b[0m\u001b[1;33m)\u001b[0m\u001b[1;33m:\u001b[0m\u001b[1;33m\u001b[0m\u001b[1;33m\u001b[0m\u001b[0m\n\u001b[0m\u001b[0;32m      4\u001b[0m     \u001b[0mwuerfel\u001b[0m \u001b[1;33m=\u001b[0m \u001b[0mrandint\u001b[0m\u001b[1;33m(\u001b[0m\u001b[1;36m1\u001b[0m\u001b[1;33m,\u001b[0m\u001b[1;36m6\u001b[0m\u001b[1;33m)\u001b[0m\u001b[1;33m\u001b[0m\u001b[1;33m\u001b[0m\u001b[0m\n\u001b[0;32m      5\u001b[0m \u001b[0mprint\u001b[0m\u001b[1;33m(\u001b[0m\u001b[1;34m\"Hurra, eine Sechs!\"\u001b[0m\u001b[1;33m)\u001b[0m\u001b[1;33m\u001b[0m\u001b[1;33m\u001b[0m\u001b[0m\n",
      "\u001b[1;31mNameError\u001b[0m: name 'wuerfel' is not defined"
     ]
    }
   ],
   "source": [
    "from random import *\n",
    "print(\"Ich werde nun so lange würfeln, bis ich eine 6 gewürfelt habe.\")\n",
    "while not(wuerfel == 6):\n",
    "    wuerfel = randint(1,6)\n",
    "print(\"Hurra, eine Sechs!\")"
   ]
  },
  {
   "cell_type": "markdown",
   "id": "cc363bfe-43fb-41db-a6c7-471fb50a9994",
   "metadata": {},
   "source": [
    "**Hinweis (Achtung, Spoiler für Aufgabe 1.1!)**\n",
    "\n",
    "Die Schleife beginnt mit der Bedingung, dass noch keine 6 gewürfelt wurde. Dazu wird die Variable `wuerfel` mit der Zahl 6 verglichen und das Ergebnis negiert. Allerdings wurde davor die Variable `wuerfel` noch nie erwähnt, somit kann das Programm mit dem Namen nichts anfangen.\n",
    "\n",
    "**Abhilfe**: Wir müssen vor Eintritt in die Schleife 1x \"würfeln\", d.h. eine Zufallszahl zwischen 1 und 6 erzeugen und in `wuerfel` speichern. Dann ist die Variable bekannt und ihr Wert kann abgefragt und benutzt werden.\n",
    "\n",
    "##### Das verbesserte Programm: "
   ]
  },
  {
   "cell_type": "code",
   "execution_count": 4,
   "id": "794639c4-502c-4783-8b23-f5d8cd29fb48",
   "metadata": {},
   "outputs": [
    {
     "name": "stdout",
     "output_type": "stream",
     "text": [
      "Ich werde nun so lange würfeln, bis ich eine 6 gewürfelt habe.\n",
      "Hurra, eine Sechs!\n"
     ]
    }
   ],
   "source": [
    "from random import *\n",
    "print(\"Ich werde nun so lange würfeln, bis ich eine 6 gewürfelt habe.\")\n",
    "wuerfel = randint(1,6)\n",
    "while not(wuerfel == 6):\n",
    "    wuerfel = randint(1,6)\n",
    "print(\"Hurra, eine Sechs!\")"
   ]
  },
  {
   "cell_type": "markdown",
   "id": "d1052dd7-788c-4dc5-9300-d118b9b650f6",
   "metadata": {},
   "source": [
    "Nun läuft das Programm zwar, aber es bietet uns noch keine Information darüber, wie viele Versuche nun eigentlich benötigt wurden. Dazu benötigen wir eine weitere Variable, welche die Anzahl der Versuche mitzählt. Denke daran, auch dieser Variablen vor dem Eintritt in die Schleife einen Wert zu geben.\n",
    "\n",
    "**Aufgabe 1.2** Ergänze das obige Programm so, dass die Versuche bis zum Erreichen der 6 mitgezählt und am Ende ausgegeben werden. Teste das Programm mehrfach.\n",
    "\n",
    "#### Unterprogramm fürs Würfeln\n",
    "\n",
    "Für wiederkehrende Teilaufgaben können wir Unterprogramme definieren. Das bietet sich an dieser Stelle für die Aufgabe \"würfeln\" an. \n",
    "\n",
    "Unterprogramme werden zu Beginn des Quelltextes - also vor dem eigentlichen Hauptprogramm - definiert. Ein Unterprogramm wird durch das Schlüsselwort `def` eingeleitet, gefolgt vom Namen des Unterprogramms, einer Auflistung der Parameter (Platzhalter für Informationen, welche das Unterprogramm zur Ausführung seiner Aufgabe benötigt) in Klammern und einem Doppelpunkt. In unserem Fall soll nur gewürfelt werden, es sind keine zusätzlichen Informationen nötig, und die Klammern bleiben leer.\n",
    "\n",
    "Am Ende des Unterprogramms erfolgt die Rückkehr zum Hauptprogramm mit der return-Anweisung, bestehend aus dem Schlüsselwort `return` gefolgt von einem Wert oder Ausdruck (in unserem Fall die gewünschte Zufallszahl).\n",
    "\n",
    "Das im Folgenden entstehende Unterprogramm `wuerfeln()` kannst du in allen folgenden Programmieraufgaben einfügen und verwenden.\n",
    "\n",
    "**Aufgabe 1.3** Ergänze das folgende Programm um ein Unterprogramm `wuerfeln()`, welches eine Zufallszahl zwischen 1 und 6 zurückliefert. Ersetze dann die Aufrufe von randint(...) im Quelltext des Hauptprogramms durch Aufrufe von `wuerfeln()`.\n",
    "\n",
    "**Hinweis:** Der folgende Quelltext enthält im Hauptprogramm die Lösung für Aufgabe 1.2!"
   ]
  },
  {
   "cell_type": "code",
   "execution_count": null,
   "id": "86c2ba65-959f-4009-aa19-0a314195ff9d",
   "metadata": {},
   "outputs": [],
   "source": [
    "from random import *\n",
    "\n",
    "def wuerfeln():\n",
    "    return ...\n",
    "\n",
    "#Hauptprogramm\n",
    "print(\"Ich werde nun so lange würfeln, bis ich eine 6 gewürfelt habe.\")\n",
    "wuerfel = randint(1,6)\n",
    "anzahlVersuche = 1\n",
    "while not(wuerfel == 6):\n",
    "    wuerfel = randint(1,6)\n",
    "    AnzahlVersuche = anzahlVersuche + 1\n",
    "print(\"Hurra, eine Sechs!\")\n",
    "print(\"Ich habe\",anzahlVersuche,\"Versuche gebraucht.\")"
   ]
  },
  {
   "cell_type": "markdown",
   "id": "09ae971b-8e87-452c-bc79-04e205d1cd67",
   "metadata": {},
   "source": [
    "### Aufgabe 2: Dreierpasch würfeln\n",
    "\n",
    "Wir betrachten nun eine ganz ähnliche Aufgabenstellung wie zuvor, allerdings werden nun 3 Würfel geworfen und wir zählen die nötigen Versuche bis zu einem Dreierpasch (d.h. alle drei Würfel zeigen die gleiche Augenzahl, egal welche).\n",
    "\n",
    "**Aufgabe 2.1** Überlege dir zunächst, wie man einen Dreierpasch (also drei gleiche Würfel) erkennt. Beachte dabei, dass man immer nur zwei Variablenwerte direkt miteinander vergleichen kann.\n",
    "\n",
    "**Aufgabe 2.2** Schreibe ein Python-Programm, welches einen Wurf mit 3 Würfeln simuliert und ausgibt, ob es sich beim Ergebnis um einen Dreierpasch handelt."
   ]
  },
  {
   "cell_type": "code",
   "execution_count": null,
   "id": "baafb006-e88f-4016-a19e-b073fb9cc374",
   "metadata": {},
   "outputs": [],
   "source": [
    "from random import *\n",
    "print(\"Ich würfele mit 3 Würfeln und sage dir, ob das Ergebnis ein Dreierpasch ist oder nicht.\")\n",
    "..."
   ]
  },
  {
   "cell_type": "markdown",
   "id": "7c37d9b9-dc8e-4587-b4b1-1ffb4b60a3d0",
   "metadata": {},
   "source": [
    "**Aufgabe 2.3** Ergänze das folgende Python-Programm. Teste das Programm mehrfach.\n",
    "\n",
    "**Hinweis:** Der folgende Quelltext enthält einen Teil der Lösung für Aufgabe 1.3!"
   ]
  },
  {
   "cell_type": "code",
   "execution_count": null,
   "id": "6779ec3f-a982-4828-a4cc-c3106b8c13be",
   "metadata": {},
   "outputs": [],
   "source": [
    "from random import *\n",
    "\n",
    "def wuerfeln():\n",
    "    return randint(1,6)\n",
    "\n",
    "print(\"Ich werde nun so lange würfeln, bis ich einen Dreierpasch habe.\")\n",
    "#jetzt müssen 3 Würfel geworfen werden, und natürlich werden wieder die Versuche mitgezählt:\n",
    "...\n",
    "while not(...):\n",
    "    ...\n",
    "print(\"Endlich, ein Dreierpasch!\")\n",
    "print(\"Ich habe\",anzahlVersuche,\"Versuche gebraucht.\")"
   ]
  },
  {
   "cell_type": "markdown",
   "id": "5ebc06d4-e508-427d-94a3-e931f6236d1e",
   "metadata": {},
   "source": [
    "### Aufgabe 3: Würfelstatistiken (Schwierigkeitsgrad: mittel)\n",
    "\n",
    "Wir verändern die Fragestellung aus der ersten Aufgabe ein wenig und fragen nun:\n",
    "\n",
    "#### Wie viele Sechser fallen in 100 Würfen?\n",
    "\n",
    "**Aufgabe 3.1** Schreibe ein Python-Programm, welches 100x \"würfelt\" und das jeweilige Ergebnis ausgibt. Auch hier kannst du das zuvor erstellte Unterprogramm `wuerfeln()` für den Würfelvorgang nutzen."
   ]
  },
  {
   "cell_type": "code",
   "execution_count": null,
   "id": "67dd2ffc-6678-458b-b58c-ffc7c53ed053",
   "metadata": {},
   "outputs": [],
   "source": [
    "from random import *\n",
    "print(\"Ich würfele 100mal.\")\n",
    "\n",
    "#100x würfeln und Ergebnis ausgeben:\n",
    "..."
   ]
  },
  {
   "cell_type": "markdown",
   "id": "0a69deea-29da-4aa9-8c3a-6c60b43b34f9",
   "metadata": {},
   "source": [
    "Nun könnten wir natürlich selbst die gefallenen 6er zählen, aber warum sich die Mühe machen, wenn das Programm das gleich mit erledigen kann? Außerdem müssen wir dann nicht mehr die Ergebnisse ausgeben lassen. \n",
    "\n",
    "Wir nutzen dazu eine Variable, in der wir die Anzahl der Sechser speichern. Deren Wert wird fortlaufend aktualisiert, und zwar immer dann, wenn im aktuellen Wurf eine 6 gewürfelt wurde.\n",
    "\n",
    "**Aufgabe 3.2** Ergänze das obige Programm so, dass die gewürfelten Zahlen nicht mehr ausgegeben werden und die Anzahl der 6er mit Hilfe einer Variablen mitgezählt und ausgegeben wird.\n",
    "\n",
    "**Aufgabe 3.3** Erweitere das Programm, sodass der Anwender die Anzahl der Würfe selbst festlegen kann.\n",
    "\n",
    "**Hinweis**: Die Lösung zu dieser Aufgabe ist im vorgegebenen Quelltext von Aufgabe 3.4 enthalten.\n",
    "\n",
    "**Aufgabe 3.4** Wandle das Programm so ab, dass n-mal mit zwei Würfeln gewürfelt wird und dabei mitgezählt wird, \n",
    "* wie oft ein Pasch fällt und \n",
    "* wie oft die Würfel zwei benachbarte Zahlen zeigen."
   ]
  },
  {
   "cell_type": "code",
   "execution_count": null,
   "id": "2ec4a9a3-77a2-4bf6-83f9-b572c41d9a9c",
   "metadata": {},
   "outputs": [],
   "source": [
    "from random import *\n",
    "def wuerfeln()\n",
    "    return randint(1,6)\n",
    "\n",
    "#Hauptprogramm\n",
    "print(\"Ich würfele n-mal mit zwei Würfeln und zähle dabei mit, wie oft ein Pasch fällt und wie oft zwei benachbarte Zahlen gewürfelt werden.\")\n",
    "n = int(input(\"Wie oft soll gewürfelt werden?\"))\n",
    "for i in range n:\n",
    "    ...\n"
   ]
  },
  {
   "cell_type": "markdown",
   "id": "bc9a0710-4e5c-49cb-808c-aed4994d049e",
   "metadata": {},
   "source": [
    "Weitere mögliche Aufgaben: \n",
    "* craps (schwierig)\n",
    "* Kniffel (schwierig; wie umgehen mit Listen, da noch nicht bekannt?)"
   ]
  },
  {
   "cell_type": "code",
   "execution_count": null,
   "id": "fa8505a1-09fc-451c-9d77-3b65e95c2b67",
   "metadata": {},
   "outputs": [],
   "source": []
  }
 ],
 "metadata": {
  "kernelspec": {
   "display_name": "Python 3 (ipykernel)",
   "language": "python",
   "name": "python3"
  },
  "language_info": {
   "codemirror_mode": {
    "name": "ipython",
    "version": 3
   },
   "file_extension": ".py",
   "mimetype": "text/x-python",
   "name": "python",
   "nbconvert_exporter": "python",
   "pygments_lexer": "ipython3",
   "version": "3.9.7"
  }
 },
 "nbformat": 4,
 "nbformat_minor": 5
}
