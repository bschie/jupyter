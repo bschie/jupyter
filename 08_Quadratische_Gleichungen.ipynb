{
 "cells": [
  {
   "cell_type": "markdown",
   "id": "5b1f4a0b-c763-4835-ba3a-c277ebe01a92",
   "metadata": {},
   "source": [
    "# Quadratische Gleichungen\n",
    "*Schwierigkeitsgrad: einfach bis mittel, je nachdem, wie vertraut man noch mit der Mathematik dahinter ist :-)*  \n",
    "\n",
    "Quadratische Gleichungen begegnen jedem irgendwann im Matheunterricht. Um sie zu lösen, gibt es verschiedene Verfahren. Eines der universell einsetzbaren Verfahren ist die sogenannte \"Mitternachtsformel\". Um sie benutzen zu können, muss die Gleichung in folgende Form gebracht werden:\n",
    "\n",
    "$$ax^2+bx+c=0$$\n",
    "\n",
    "wobei $a, b$ und $c$ reelle Zahlen sind und $a\\neq 0$ gelten muss (klar, sonst wäre es ja keine quadratische Gleichung mehr).\n",
    "\n",
    "Hat die Gleichung nun die genannte Form, so lassen sich die beiden Lösungen der Gleichung - sofern vorhanden - mit den folgenden Formeln berechnen:\n",
    "\n",
    "$$x_1 = \\frac{-b+\\sqrt{b^2-4ac}}{2a}$$ und $$x_2 = \\frac{-b-\\sqrt{b^2-4ac}}{2a}$$\n",
    "\n",
    "Beachte: Die beiden Formeln unterscheiden sich nur durch das Rechenzeichen unmittelbar vor der Wurzel. Daher fasst man die beiden Fälle oft zu einer Formel (der \"Mitternachtsformel\") zusammen:\n",
    "\n",
    "$$x_{1/2} = \\frac{-b\\pm\\sqrt{b^2-4ac}}{2a}$$\n",
    "\n",
    "Die Formel hat diesen Beinamen erhalten, weil es oft heißt, man müsse die Formel so gut auswendig wissen, dass man sie auch um Mitternacht - aus dem Schlaf gerissen - aufsagen könnte.\n",
    "\n",
    "**Aufgabe 1**  Schreibe ein Python-Programm, welches die drei Zahlen a, b und c einliest, als Werte vom Typ float abspeichert und anschließend die beiden Lösungen der Gleichung ($x_1$ und $x_2$) mit den oben angegebenen Formeln direkt berechnet und ausgibt.\n",
    "Teste dein Programm mit folgenden Eingaben:\n",
    "1. a = 2, b = -1, c = -1\n",
    "2. a = 3, b = 18, c = 27\n",
    "3. a = 1, b = -4, c = 5"
   ]
  },
  {
   "cell_type": "code",
   "execution_count": null,
   "id": "826b1006-5f30-4e5c-bb8e-afd78865c262",
   "metadata": {},
   "outputs": [],
   "source": [
    "from math import *\n",
    "#Quadratische Gleichungen der Form ax² + bx + c = 0 lösen (unter Verwendung der Mitternachts-Formel - Version 1 (ohne Fallunterscheidung)\n",
    "\n",
    "print(\"Dieses Programm berechnet die Lösung(en) für eine quadratische Gleichung der Form ax² + bx + c = 0.\")\n",
    "\n",
    "#..."
   ]
  },
  {
   "cell_type": "markdown",
   "id": "a3bdbe38-8152-43b7-ad7e-255f8b6c0ec8",
   "metadata": {
    "tags": []
   },
   "source": [
    "Wie man sieht, funktioniert das Programm noch nicht in allen Fällen reibungslos - manchmal werden zwei identische Lösungen ausgegeben, oder es kommt zu Fehlermeldungen. Wir verbessern das Programm durch eine Fallunterscheidung.\n",
    "\n",
    "### Mögliche Fälle\n",
    "Eine quadratische Gleichung kann (in der Menge der reellen Zahlen) eine, zwei oder auch gar keine Lösung haben. Wie viele Lösungen es gibt, lässt sich an einem Teil der Mitternachtsformel erkennen, der sogenannten **Diskriminanten $d$**, das ist der Term unter der Wurzel: $d = b^2-4ac$.\n",
    "\n",
    "#### 1. $d>0$\n",
    "Wenn die Diskriminante positiv ist, dann kann man auch die Wurzel daraus berechnen, ohne dass es zu Fehlermeldungen kommt. Somit ergeben sich mit der Mitternachtsformel zwei unterschiedliche Lösungen, wie im ersten Testfall. Der funktioniert, also müssen wir in diesem Fall nichts an der Berechnung verändern.\n",
    "\n",
    "#### 2. $d=0$\n",
    "Ist die Diskriminante gleich Null, so fällt der Teil mit der Wurzel weg (denn $\\sqrt{0} = 0$) und damit liefern beide Formeln das gleiche Ergebnis. Ohne die Wurzel sieht die Formel dann so aus:\n",
    "\n",
    "$$x = \\frac{-b}{2a}$$\n",
    "\n",
    "Es muss dann also nur noch eine Lösung berechnet und ausgegeben werden.\n",
    "\n",
    "#### 3. $d<0$\n",
    "In diesem Fall ist der Wert der Mitternachtsformel undefiniert, denn um den Wert zu berechnen, müsste man die Wurzel aus einer negativen Zahl ziehen ( \n",
    "was in der Menge der reellen Zahlen nicht möglich ist). Also gibt es in diesem Fall keine Lösung.\n",
    "\n",
    "**Aufgabe 2.1** Füge eine Fallunterscheidung in das Programm ein, indem du zunächst aus den Eingaben den Wert der Diskriminanten $d$ berechnest und dann die jeweiligen Berechnungen und Ausgaben in Abhängigkeit vom Ergebnis durchführst."
   ]
  },
  {
   "cell_type": "code",
   "execution_count": null,
   "id": "6ca1c527-5de5-41e7-9da8-4fabcebfc0b2",
   "metadata": {},
   "outputs": [],
   "source": [
    "from math import *\n",
    "#Quadratische Gleichungen der Form ax² + bx + c = 0 lösen (unter Verwendung der Mitternachts-Formel - Version 2 (mit Fallunterscheidung)\n",
    "\n",
    "print(\"Dieses Programm berechnet die Lösung(en) für eine quadratische Gleichung der Form ax² + bx + c = 0.\")\n",
    "\n",
    "#..."
   ]
  },
  {
   "attachments": {
    "aad33d8c-1d9b-4e60-a9bb-4ab6c7d170b8.png": {
     "image/png": "[encoded data removed]"
    }
   },
   "cell_type": "markdown",
   "id": "f88c4538-4999-4a00-ae9b-01444bcabe8a",
   "metadata": {
    "tags": []
   },
   "source": [
    "**Aufgabe 2.2** Füge etwas \"Kosmetik\" hinzu: Sorge dafür, dass das Programm vor Ausgabe der Lösungen zunächst die eingegebene Gleichung noch einmal ausgibt und gib die Lösung(en) in Form einer Lösungsmenge an.  \n",
    "Beispiel für eine mögliche Ausgabe im Testfall 1:  \n",
    "![grafik.png](attachment:aad33d8c-1d9b-4e60-a9bb-4ab6c7d170b8.png)"
   ]
  }
 ],
 "metadata": {
  "kernelspec": {
   "display_name": "Python 3 (ipykernel)",
   "language": "python",
   "name": "python3"
  },
  "language_info": {
   "codemirror_mode": {
    "name": "ipython",
    "version": 3
   },
   "file_extension": ".py",
   "mimetype": "text/x-python",
   "name": "python",
   "nbconvert_exporter": "python",
   "pygments_lexer": "ipython3",
   "version": "3.9.7"
  }
 },
 "nbformat": 4,
 "nbformat_minor": 5
}
