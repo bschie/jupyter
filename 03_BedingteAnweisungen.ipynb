{
 "cells": [
  {
   "cell_type": "markdown",
   "id": "8c5406e8",
   "metadata": {},
   "source": [
    "# Bedingte Anweisungen\n",
    "\n",
    "Programme sollen sich bei Bedarf unterschiedlich verhalten können. Dazu dienen bedingte Anweisungen. Wir unterscheiden bedingte Anweisungen ohne Alternative, mit einer Alternative und mit mehreren Alternativen.\n",
    "\n",
    "## Bedingte Anweisungen ohne Alternative\n",
    "\n",
    "Betrachte dazu das folgende Beispiel."
   ]
  },
  {
   "cell_type": "code",
   "execution_count": 1,
   "id": "b6ad88aa",
   "metadata": {},
   "outputs": [
    {
     "name": "stdout",
     "output_type": "stream",
     "text": [
      "Nenne mir eine Zahl kleiner als 10: 5\n",
      "Danke!\n",
      "Du hast mir die Zahl 5 genannt.\n"
     ]
    }
   ],
   "source": [
    "# Beispiel einer bedingten Anweisung ohne Alternative\n",
    "\n",
    "Antwort = int( input ( \"Nenne mir eine Zahl kleiner als 10: \") )\n",
    "print( \"Danke!\")\n",
    "\n",
    "if Antwort > 9:\n",
    "    print( \"Das war aber zuviel des Guten.\")\n",
    "    \n",
    "print( \"Du hast mir die Zahl\", Antwort, \"genannt.\")"
   ]
  },
  {
   "cell_type": "markdown",
   "id": "1ebfaa17",
   "metadata": {},
   "source": [
    "Das Programm ist so höflich, sich immer zu bedanken. Ist die Eingabe jedoch größer als gewünscht, so gibt es eine zusätzliche Ausgabe mit dem entsprechenden Hinweis.\n",
    "\n",
    "**Aufgabe:**\n",
    "Teste Das Programm mit den Eingaben -11, 0, 5, 9, 10 und 11.\n",
    "\n",
    "Programme verhalten sich oft fehlerhaft bei Eingaben von negativen Zahlen oder der Null. Diese werden halt manchmal schlicht vergessen. Hier klappt aber alles.\n",
    "\n",
    "<div class=\"alert alert-block alert-info\"><b>Syntax:</b>\n",
    "Ein bedingte Anweisung wird mit dem Schlüsselwort <b>if</b> eingeleitet, gefolgt von einer Bedingung und einem Doppelpunkt.\n",
    "Alle Zeilen, die anschließend gegenüber dem Schlüsselwort <b>if</b> eingerückt sind, werden nur dann ausgeführt, falls die Bedingung erfüllt ist. \n",
    "</div>\n",
    "\n",
    "\n",
    "## Bedingte Anweisungen mit einer Alternative\n",
    "\n",
    "Möchte man im Falle, dass die Bedingung nicht erfüllt ist, eine oder mehrere Anweisungen als Alternative ausführen lassen, so nutzt man das Schlüsselwort **else**.\n",
    "\n",
    "<div class=\"alert alert-block alert-info\"><b>Syntax:</b>\n",
    "Das Schlüsselwort <b>else</b> wird ebenfalls gefolgt von einem Doppelpunkt. Analog zu den Anweisungen, die ausgeführt werden, falls die Bedingung erfüllt ist, so sind auch die alternativen Anweisungen gegenüber dem Schlüsselwort <b>else</b> eingerückt. Die Schlüsselwörter <b>if</b> und <b>else</b> befinden sich auf gleicher Einrücktiefe. \n",
    "</div>\n",
    "\n",
    "\n",
    "\n",
    "Wir erweitern das Beispiel entsprechend. Teste es wieder mit mehreren Eingaben aus, so dass Du beide Fälle beobachten kannst.\n",
    " "
   ]
  },
  {
   "cell_type": "code",
   "execution_count": 2,
   "id": "de9afc1f",
   "metadata": {},
   "outputs": [
    {
     "name": "stdout",
     "output_type": "stream",
     "text": [
      "Nenne mir eine Zahl kleiner als 10: 5\n",
      "Danke!\n",
      "brav!\n",
      "Die Zahl 5 ist wirklich kleiner als 10.\n",
      "Du hast mir die Zahl 5 genannt.\n"
     ]
    }
   ],
   "source": [
    "# Beispiel einer bedingten Anweisung mit Alternative\n",
    "\n",
    "Antwort = int( input ( \"Nenne mir eine Zahl kleiner als 10: \") )\n",
    "print( \"Danke!\")\n",
    "\n",
    "if Antwort > 9:\n",
    "    print( \"Das war aber zuviel des Guten.\")\n",
    "    print( \"Versuche das Programm erneut.\")\n",
    "else :\n",
    "    print( \"brav!\")\n",
    "    print( \"Die Zahl\",Antwort,\"ist wirklich kleiner als 10.\")\n",
    "    \n",
    "print( \"Du hast mir die Zahl\", Antwort, \"genannt.\")"
   ]
  },
  {
   "cell_type": "markdown",
   "id": "be54ae40",
   "metadata": {},
   "source": [
    "## Bedingte Anweisungen mit mehreren Alternativen (Fallunterscheidungen)\n",
    "\n",
    "Manchmal genügt uns eine einzelne Alternative nicht, wir möchten mehrere Fälle unterscheiden. Als Beispiel dazu betrachten wir ein Programm, das sich eine natürliche Zahl kleiner als Tausend eingeben lässt und uns die Anzahl der Stellen der Zahl verrät. \n",
    "\n",
    "**Hinweis:** Da die Zeichen $\\le$ und $\\ge$ auf Tastaturen nicht vorhanden sind, schreibt man in Programmiersprachen üblicherweise <= und >= dafür. "
   ]
  },
  {
   "cell_type": "code",
   "execution_count": 3,
   "id": "5d3f12a2",
   "metadata": {},
   "outputs": [
    {
     "name": "stdout",
     "output_type": "stream",
     "text": [
      "Nenne mir eine natürliche Zahl kleiner als Tausend: 55\n",
      "Die Zahl 55 ist zweistellig.\n"
     ]
    }
   ],
   "source": [
    "# Beispiel einer bedingten Anweisung mit mehreren Alternativen\n",
    "\n",
    "Antwort = int( input ( \"Nenne mir eine natürliche Zahl kleiner als Tausend: \") )\n",
    "\n",
    "if Antwort < 0 or 1000 <= Antwort :\n",
    "    print( \"Die Eingabe entspricht nicht den Anforderungen.\")\n",
    "elif Antwort < 10:\n",
    "    print( \"Die Zahl\",Antwort,\"ist einstellig.\")\n",
    "elif Antwort < 100:\n",
    "    print( \"Die Zahl\",Antwort,\"ist zweistellig.\")\n",
    "else :\n",
    "    print( \"Die Zahl\",Antwort,\"ist dreistellig.\")\n"
   ]
  },
  {
   "cell_type": "markdown",
   "id": "2f09226f",
   "metadata": {},
   "source": [
    "<div class=\"alert alert-block alert-info\"><b>Syntax:</b>\n",
    "Die letzte Alternative wird immer durch das Schlüsselwort <b>else</b> eingeleitet. Zwischen <b>if</b> und diesem <b>else</b> können beliebig viele (also auch keine) Zeilen mit dem Schlüsselwort <b>elif</b> folgen, die jeweils eine Bedingung und den obligatorischen Doppelpunkt enthalten. Das Schlüsselwort <b>elif</b> ist eine Abkürzung für die beiden Schlüsselwörter <b>else if</b>.\n",
    "</div>\n",
    "\n",
    "\n",
    "**Aufgabe:** Teste das Programm mit den Eingaben -5, 5, 55, 555 und 5555."
   ]
  },
  {
   "cell_type": "markdown",
   "id": "107c6241",
   "metadata": {},
   "source": [
    "## Bedingungen\n",
    "\n",
    "Im letzten Beispiel ist uns erstmals eine zusammengesetze Bedingung begegnet. Sie besteht aus der Bedingung `Antwort < 0` und der Bedingung `1000 <= Antwort`, verbunden zur Bedingung  `Antwort < 0 or 1000 <= Antwort`.\n",
    "Mit etwas Übung gelingt eine solche Zusammensetzung, daher wollen wir nun üben und vertiefen.\n",
    "\n",
    "Python ist an vielen Stellen toleranter, als andere Sprachen. Dies kann für Programmier-Anfänger:innen sehr vorteilhaft sein.  Eine gemeine Klippe in anderen Sprachen liegt etwa in der Bedingung *zwischen 10 und 20*.\n",
    "\n",
    "**Aufgabe** Ergänze den Code gemäß der Vorgabe im Kommentar, so dass er ohne Fehlermeldung ausgeführt wird."
   ]
  },
  {
   "cell_type": "code",
   "execution_count": null,
   "id": "a31457ee",
   "metadata": {},
   "outputs": [],
   "source": [
    "# Beispiel für eine zusammengesetzte Bedingung\n",
    "\n",
    "x = 15\n",
    "\n",
    "if False : # Ändere die Bedingung auf: x liegt zwischen 10 und 20\n",
    "    print( \"Die Zahl\", x, \"liegt zwischen 10 und 20.\" )\n",
    "else :\n",
    "    print( \"Die Zahl\", x, \"liegt nicht zwischen 10 und 20.\" )"
   ]
  },
  {
   "cell_type": "markdown",
   "id": "1826b908",
   "metadata": {},
   "source": [
    "**Hinweis (Achtung Spoiler der Lösung)**\n",
    "\n",
    "Viele Schüler:innen versuchen an dieser Stelle die Bedingung `10 < x < 20` aus, die sie in dieser Form aus dem Mathematikunterricht kennen. Python akzeptiert diese Form, während andere Sprachen auf die gewöhnungsbedürftige Aufteilung in `10 < x and x < 20` bestehen. Ein echter Pluspunkt für Python! \n",
    "\n",
    "Nach so viel Lob, ist jetzt Zeit für Kritik. Dazu wieder eine kleine Aufgabenstellung:\n",
    "\n",
    "**Aufgabe** Ergänze den Code gemäß der Vorgabe im Kommentar, so dass er ohne Fehlermeldung ausgeführt wird."
   ]
  },
  {
   "cell_type": "code",
   "execution_count": null,
   "id": "b0c1f904",
   "metadata": {},
   "outputs": [],
   "source": [
    "# Achtung Klippe\n",
    "\n",
    "x = 15\n",
    "\n",
    "if True : # Ändere die Bedingung auf: x ist exakt zehn.\n",
    "    print( \"Die Zahl\", x, \"ist genau zehn.\" )\n",
    "else :\n",
    "    print( \"Die Zahl\", x, \"ist nicht zehn.\" )"
   ]
  },
  {
   "cell_type": "markdown",
   "id": "7c696039",
   "metadata": {},
   "source": [
    "**Hinweis (Achtung Spoiler der Lösung)**\n",
    "\n",
    "Viele Schüler:innen probieren hier die Anweisung `if x = 10 :` aus und wundern sich über den Laufzeitfehler. In Python ist `x = 10` allerdings eine Anweisung, nämlich die Zuweisung des Wertes 10 an die Variable x. Der Vergleich dieser Variable mit der Zahl 10 muss sich davon syntaktisch unterscheiden. Man hat sich, wie in vielen anderen Sprachen auch, für die Verdopplung des Gleichheitszeichens entschieden. Korrekt lautet die Anweisung daher `if x == 10 :`\n",
    "\n",
    "Dies ist für Anfänger:innen gewöhnungsbedürftig und leider durchaus fehleranfällig. \n",
    "Das ist tatsächlich ein kleiner Malus der Sprache Python gegenüber beispielsweise der zu Lehrzwecken entwickelten Sprache *Pascal*, bei der die Zuweisung - entsprechend der mathematischen Definition - als `x := 10` und daher die bedingte Anweisung dann auch `ìf x=10 then`lauten kann.\n",
    "\n",
    "**Aufgabe**\n",
    "Übung macht den Meister, also schreiten wir zur Vertiefung. Ergänze dazu die fehlenden Teile, die jeweils mit einem `# todo` markiert sind. Teste, ob Deine Bedingen auch für andere Belegungen der Variablen funktionieren."
   ]
  },
  {
   "cell_type": "code",
   "execution_count": null,
   "id": "cd8147be",
   "metadata": {},
   "outputs": [],
   "source": [
    "# Weitere Beispiele zu Bedingungen (mit einer Musterlösung am Ende des Kapitels)\n",
    "\n",
    "x = 10\n",
    "y = 6\n",
    "\n",
    "# 1. Ausgabe der kleineren der beiden Zahlen oder Hinweis auf Gleichheit\n",
    "\n",
    "# todo\n",
    "\n",
    "# 2. Prüfe, ob x gerade ist\n",
    "if x % 2 == 0 : # ist der Rest der Division durch 2 gleich Null?\n",
    "    print ( \"x ist gerade.\" )\n",
    "\n",
    "# 3. Prüfe, ob y durch drei teilbar ist\n",
    "\n",
    "# todo\n",
    "\n",
    "h = \"Hallo\"\n",
    "w = \"Welt\"\n",
    "\n",
    "# 4. Prüfe, ob h im Alphabet vor w steht\n",
    "if h < w :\n",
    "    print ( h, \"steht im Alphabet vor\", w )\n",
    "\n",
    "# 5. Prüfe, ob h kürzer als w ist\n",
    "if len(h) < len(w) :\n",
    "    print ( h, \"ist kürzer als\", w )\n",
    "    \n",
    "# 6. Prüfe, ob h die gleiche Zeichenkette als w ist\n",
    "\n",
    "# todo"
   ]
  },
  {
   "cell_type": "markdown",
   "id": "0358ff5a",
   "metadata": {},
   "source": [
    "Die Zusammensetzung zweier Bedingungen durch den Operator `or` ist uns bereits in einem Beispiel begegnet. Daneben gibt es natürlich euch den Operator `and` und die Verneinung `not.` \n",
    "\n",
    "Wird die Verneinung auf die Prüfung der Gleichheit angewendet, so gibt es noch eine abkürzende Schreibweise, statt `not( a == b )` darf man auch kürzer `a != b` schreiben.\n",
    "\n",
    "**Aufgabe** Welche Ausgabe erwartest Du von folgendem Programm? Der ^ - Operator in den beiden letzten Ausgabe ist uns bisher nicht begegnet, aber vielleicht hast Du eine Vermutung aus anderen Erfahrungen der Nutzung des Zeichens?"
   ]
  },
  {
   "cell_type": "code",
   "execution_count": null,
   "id": "051ad168",
   "metadata": {},
   "outputs": [],
   "source": [
    "# Beispiele zu den Logikoperatoren \n",
    "\n",
    "a = 2\n",
    "b = 4\n",
    "c = 3\n",
    "\n",
    "print ( 1, a<b and b<c )\n",
    "print ( 2, a<b or b<c )\n",
    "print ( 3, not a<b  )\n",
    "print ( 4, not a<b and b<c )\n",
    "print ( 5, not (a<b and b<c) )\n",
    "print ( 6, (not a<b) and b<c )\n",
    "print ( 7, a^c )\n",
    "print ( 8, (a<b) ^ (b<c) )\n",
    "\n"
   ]
  },
  {
   "cell_type": "markdown",
   "id": "ee02649b",
   "metadata": {},
   "source": [
    "Logik wird für Menschen dann schwer, sobald die Verneinung ins Spiel kommt. Ohne Verneinung bleibt es überschaubar.\n",
    "Daher sollten die ersten beiden Ausgaben kein Problem gewesen sein. Auch mit der einzelnen Verneinung in der dritten Zeile kann man noch gut umgehen.\n",
    "\n",
    "In der vierten Zeile wird es jedoch unklar. Worauf bezieht sich denn die Verneinung? Nur auf die Bedingung `a<b` (wie in Zeile 6) oder auf die zusammengesetzte Bedingung `a<b and b<c` (wie in Zeile 5)?\n",
    "\n",
    "Es gibt zwar ähnlich der Regel *Punkt vor Strich* für Rechenoperatoren auch Vorfahrtsregeln für logische Operatoren, aber die Klammersetzung zur Verdeutlichung ist hier immer vorzuziehen. Wirklich nur für die ganz Neugierigen: Die Negation bindet am stärksten, es folgt die Konjunktion und zuletzt die Disjunktion: Die Vorfahrtsregel lautet also *Nicht* vor *und* und *oder*.\n",
    "\n",
    "Die Ausgabe zu Zeile 7 erscheint jedoch rätselhaft, wenn man beim Operator ^ an die Potenz denkt, so wie das Zeichen ja auch oft verwendet wird. In Python steht der Operator ^ jedoch für das logische *entweder oder*, das man auch gerne als xor (von exclusive or) bezeichnet. Das erklärt zwar die Ausgabe der Zeile 8, aber wieso ist der ^ - Operator auch auf Zahlen anwendbar? Die Antwort dazu lautet, dass der Entweder - Oder - Operator parallel auf jedes einzelne Bit der beiden Zahlen angewendet wird. Das ist zwar sehr effizient, werden wir wohl aber eher nicht wieder benötigen. Es ist hier nur deshalb aufgeführt, weil die Verwendung des ^ - Operators auf Zahlen nicht zu einer Fehlermeldung führt. Wer also statt der in Python verwendeten Potenz \\*\\* zum vertrauten ^ greift. könnte sehr lange nach seinem Fehler suchen."
   ]
  },
  {
   "cell_type": "code",
   "execution_count": null,
   "id": "9c192feb",
   "metadata": {},
   "outputs": [],
   "source": [
    "# Würfelaufgaben (mit einer Musterlösung am Ende des Kapitels)\n",
    "\n",
    "import random\n",
    "\n",
    "Wuerfel1 = random.randint(1,6) # eine zufällige Zahl aus der Menge {1,2,3,4,5,6}\n",
    "print( \"Der erste Wurf ist eine\", Wuerfel1)\n",
    "\n",
    "Wuerfel2 = random.randint(1,6) # eine weitere zufällige Zahl aus der Menge {1,2,3,4,5,6}\n",
    "print( \"Der zweite Wurf ist eine\", Wuerfel2)\n",
    "\n",
    "# Aufgabenstellung 1: Ist eine eins dabei?\n",
    "\n",
    "\n",
    "# Aufgabenstellung 2: Sechserpasch bejubeln\n",
    "\n",
    "    \n",
    "# Aufgabenstellung 3: Ist keine vier dabei?\n",
    "\n",
    "\n",
    "# Aufgabenstellung 4: Mäxchen? Wer es wirklich nicht kennt: eine 1 und eine zwei :-)\n"
   ]
  },
  {
   "cell_type": "markdown",
   "id": "475cbc5a",
   "metadata": {},
   "source": [
    "# Musterlösungen"
   ]
  },
  {
   "cell_type": "code",
   "execution_count": 1,
   "id": "1b61643d",
   "metadata": {},
   "outputs": [
    {
     "name": "stdout",
     "output_type": "stream",
     "text": [
      "Die Zahl 6 ist kleiner als 10\n",
      "x ist gerade.\n",
      "y ist durch drei teilbar.\n",
      "Hallo steht im Alphabet vor Welt\n"
     ]
    }
   ],
   "source": [
    "# Musterlösung zu: Weitere Beispiele zu Bedingungen\n",
    "\n",
    "x = 10\n",
    "y = 6\n",
    "\n",
    "# 1. Ausgabe der kleineren der beiden Zahlen oder Hinweis auf Gleichheit\n",
    "if x < y :\n",
    "    print (\"Die Zahl\",x,\"ist kleiner als\", y)\n",
    "elif y < x :\n",
    "    print (\"Die Zahl\",y,\"ist kleiner als\", x)\n",
    "else :\n",
    "    print (\"Die beiden Zahlen sind gleich.\")\n",
    "    \n",
    "\n",
    "# 2. Prüfe, ob x gerade ist\n",
    "if x % 2 == 0 : # ist der Rest der Division durch 2 gleich Null?\n",
    "    print ( \"x ist gerade.\" )\n",
    "\n",
    "# 3. Prüfe, ob y durch drei teilbar ist\n",
    "if y % 3 == 0 : # ist der Rest der Division durch 3 gleich Null?\n",
    "    print ( \"y ist durch drei teilbar.\" )\n",
    "\n",
    "h = \"Hallo\"\n",
    "w = \"Welt\"\n",
    "\n",
    "# 4. Prüfe, ob h im Alphabet vor w steht\n",
    "if h < w :\n",
    "    print ( h, \"steht im Alphabet vor\", w )\n",
    "\n",
    "# 5. Prüfe, ob h kürzer als w ist\n",
    "if len(h) < len(w) :\n",
    "    print ( h, \"ist kürzer als\", w )\n",
    "    \n",
    "# 6. Prüfe, ob h die gleiche Zeichenkette als w ist\n",
    "if h  == w :\n",
    "    print ( h, \"ist identisch zu \", w )\n"
   ]
  },
  {
   "cell_type": "code",
   "execution_count": null,
   "id": "33146117",
   "metadata": {},
   "outputs": [],
   "source": [
    "# Musterlösung zu: Würfelaufgaben\n",
    "\n",
    "import random\n",
    "\n",
    "Wuerfel1 = random.randint(1,6) # eine zufällige Zahl aus der Menge {1,2,3,4,5,6}\n",
    "print( \"Der erste Wurf ist eine\", Wuerfel1)\n",
    "\n",
    "Wuerfel2 = random.randint(1,6) # eine weitere zufällige Zahl aus der Menge {1,2,3,4,5,6}\n",
    "print( \"Der zweite Wurf ist eine\", Wuerfel2)\n",
    "\n",
    "# Aufgabenstellung 1: Ist eine eins dabei?\n",
    "if Wuerfel1 == 1 or Wuerfel2 == 1:\n",
    "    print( \"es ist eine Eins dabei.\")\n",
    "\n",
    "# Aufgabenstellung 2: Sechserpasch bejubeln\n",
    "if Wuerfel1 == 6 and Wuerfel2 == 6:\n",
    "    print( \"Hurra, ein Sechserpasch!\")\n",
    "    \n",
    "# Aufgabenstellung 3: Ist keine vier dabei?\n",
    "if not( Wuerfel1 == 4 or Wuerfel2 == 4):\n",
    "    print( \"es ist keine vier dabei.\")\n",
    "# gleichwertige Alternative\n",
    "if (not Wuerfel1 == 4) and (not Wuerfel2 == 4) :\n",
    "    print( \"es ist keine vier dabei.\")\n",
    "# abgekürzte Alternative\n",
    "if Wuerfel1 != 4 and Wuerfel2 != 4 :\n",
    "    print( \"es ist keine vier dabei.\")\n",
    "    \n",
    "    \n",
    "# Aufgabenstellung 4: Mäxchen? Wer es wirklich nicht kennt: eine 1 und eine zwei :-)\n",
    "if (Wuerfel1 == 1 and Wuerfel2 == 2) or (Wuerfel1 == 2 and Wuerfel2 == 1):\n",
    "    print( \"Mäxchen!\")"
   ]
  }
 ],
 "metadata": {
  "kernelspec": {
   "display_name": "Python 3 (ipykernel)",
   "language": "python",
   "name": "python3"
  },
  "language_info": {
   "codemirror_mode": {
    "name": "ipython",
    "version": 3
   },
   "file_extension": ".py",
   "mimetype": "text/x-python",
   "name": "python",
   "nbconvert_exporter": "python",
   "pygments_lexer": "ipython3",
   "version": "3.10.4"
  }
 },
 "nbformat": 4,
 "nbformat_minor": 5
}
