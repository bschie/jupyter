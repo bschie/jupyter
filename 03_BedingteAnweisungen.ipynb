{
 "cells": [
  {
   "cell_type": "markdown",
   "id": "8c5406e8",
   "metadata": {},
   "source": [
    "### Bedingte Anweisungen\n",
    "\n",
    "Programme sollen sich bei Bedarf unterschiedlich verhalten können. Dazu dienen bedingte Anweisungen\n",
    "Betrachte dazu das folgende Beispiel."
   ]
  },
  {
   "cell_type": "code",
   "execution_count": 4,
   "id": "b6ad88aa",
   "metadata": {},
   "outputs": [
    {
     "name": "stdout",
     "output_type": "stream",
     "text": [
      "Nenne mir eine Zahl kleiner als 10: -11\n",
      "Danke!\n",
      "Du hast mir die Zahl -11 genannt.\n"
     ]
    }
   ],
   "source": [
    "# Beispiel einer bedingten Anweisung\n",
    "\n",
    "Antwort = int( input ( \"Nenne mir eine Zahl kleiner als 10: \") )\n",
    "print( \"Danke!\")\n",
    "\n",
    "if Antwort > 9:\n",
    "    print( \"Das war aber zuviel des Guten.\")\n",
    "    \n",
    "print( \"Du hast mir die Zahl\", Antwort, \"genannt.\")"
   ]
  },
  {
   "cell_type": "markdown",
   "id": "1ebfaa17",
   "metadata": {},
   "source": [
    "Das Programm ist so höflich, sich immer zu bedanken. Ist die Eingabe jedoch größer als gewünscht, so gibt es eine zusätzliche Ausgabe mit dem entsprechenden Hinweis.\n",
    "\n",
    "**Aufgabe:**\n",
    "Teste Das Programm mit den Eingaben -11, 0, 5, 9, 10 und 11.\n",
    "\n",
    "Programme verhalten sich oft fehlerhaft bei Eingaben von negativen Zahlen oder der Null. Diese werden halt oft vergessen. Hier klappt aber alles.\n",
    "\n",
    "Ein bedingte Anweisung wird mit dem Schlüsselwort **if** eingeleitet, gefolgt von einer Bedingung und einem Doppelpunkt.\n",
    "Alle Zeilen, die anschließend gegenüber dem Schlüsselwort **if** eingerückt sind, werden nur dann ausgeführt, falls die Bedingung erfüllt ist. \n",
    "\n",
    "Möchte man im Falle, dass die Bedingung nicht erfüllt ist, eine oder mehrere alternative Anweisungen ausführen lassen, so nutzt man das Schlüsselwort **else**, ebenfalls gefolgt von einem Doppelpunkt. Analog zu den Anweisungen, die ausgeführt werden, falls die Bedingung erfüllt ist, so sind auch die alternativen Anweisungen gegenüber dem Schlüsselwort **else** eingerückt. Die Schlüsselwörter **if** und **else** befinden sich auf gleicher Einrücktiefe. \n",
    "\n",
    "Wir erweitern das Beispiel entsprechend. Teste es wieder mit mehreren Eingaben aus, so dass Du beide Fälle beobachten kannst.\n",
    " "
   ]
  },
  {
   "cell_type": "code",
   "execution_count": 2,
   "id": "de9afc1f",
   "metadata": {},
   "outputs": [
    {
     "name": "stdin",
     "output_type": "stream",
     "text": [
      "Nenne mir eine Zahl kleiner als 10:  -77\n"
     ]
    },
    {
     "name": "stdout",
     "output_type": "stream",
     "text": [
      "Danke!\n",
      "brav!\n",
      "Die Zahl -77 ist wirklich kleiner als 10.\n",
      "Du hast mir die Zahl -77 genannt.\n"
     ]
    }
   ],
   "source": [
    "# Beispiel einer bedingten Anweisung mit Alternative\n",
    "\n",
    "Antwort = int( input ( \"Nenne mir eine Zahl kleiner als 10: \") )\n",
    "print( \"Danke!\")\n",
    "\n",
    "if Antwort > 9:\n",
    "    print( \"Das war aber zuviel des Guten.\")\n",
    "    print( \"Versuche das Programm erneut.\")\n",
    "else :\n",
    "    print( \"brav!\")\n",
    "    print( \"Die Zahl\",Antwort,\"ist wirklich kleiner als 10.\")\n",
    "    \n",
    "print( \"Du hast mir die Zahl\", Antwort, \"genannt.\")"
   ]
  },
  {
   "cell_type": "markdown",
   "id": "be54ae40",
   "metadata": {},
   "source": [
    "to be continued ..."
   ]
  }
 ],
 "metadata": {
  "kernelspec": {
   "display_name": "Python 3 (ipykernel)",
   "language": "python",
   "name": "python3"
  },
  "language_info": {
   "codemirror_mode": {
    "name": "ipython",
    "version": 3
   },
   "file_extension": ".py",
   "mimetype": "text/x-python",
   "name": "python",
   "nbconvert_exporter": "python",
   "pygments_lexer": "ipython3",
   "version": "3.10.4"
  }
 },
 "nbformat": 4,
 "nbformat_minor": 5
}
