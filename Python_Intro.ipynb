{
  "cells": [
    {
      "cell_type": "markdown",
      "id": "7ff322cf",
      "metadata": {
        "id": "7ff322cf"
      },
      "source": [
        "# Eine kurze Einführung in die Sprache Python\n",
        "\n",
        "\n",
        "Python ist eine interpretierte Sprache. Das bedeutet, dass man Python-Programme ohne Vorbereitung direkt Testen kann. Dies ist bei compilierten Sprachen nicht möglich. Diese müssen erst in einen Maschinencode übersetzt werden. Im Unterricht ist es von großem Vorteil, wenn dieses fehleranfällige Handling entfällt. Starte die Programme durch einen Klick auf das kleine Dreieck links davon. Löschen lassen sich die darunter entstehenden Ein- und Ausgaben durch Klick auf das Symbol links davor.  \n"
      ]
    },
    {
      "cell_type": "code",
      "execution_count": null,
      "id": "4f54a7d4",
      "metadata": {
        "id": "4f54a7d4"
      },
      "outputs": [],
      "source": [
        "# Tradition ist Tradition\n",
        "\n",
        "# eine neue Sprache probiert man üblicherweise durch ein Program aus,\n",
        "# das nichts weiter tut, als die Welt zu begrüßen.\n",
        "\n",
        "# der Rest einer Zeile, rechts von einem Hashtag ist in Python ein Kommentar\n",
        "# und wird bei der Ausführung ignoriert.\n",
        "# Bis zu dieser Zeile ist also noch nichts passiert.\n",
        "\n",
        "print (\"Hallo Welt\")"
      ]
    },
    {
      "cell_type": "markdown",
      "id": "67dc16ea",
      "metadata": {
        "id": "67dc16ea"
      },
      "source": [
        "Der Befehl `print()` kann Informationen, wie zum Beispiel die Zeichenkette \"Hallo Welt\" ausgeben. Falls mehr als eine Information ausgegeben werden soll, dann werden diese durch Kommata voneinander getrennt.\n",
        "\n",
        "`print (\"Hallo\",\"Welt\")` gäbe also die beiden Zeichenketten \"Hallo\" und \"Welt\" aus.\n",
        "\n",
        "Dieses wundervolle Programm soll nun erweitert werden, so dass es nicht die ganze Welt, sondern nur die Nutzer:in an der Eingabe begrüßt.\n",
        "Dazu verwenden wir eine Variable, die sich deren Namen merken kann. Wir nennen diese Variable *Anwender*."
      ]
    },
    {
      "cell_type": "code",
      "execution_count": null,
      "id": "6a033272",
      "metadata": {
        "id": "6a033272"
      },
      "outputs": [],
      "source": [
        "# Individuelle Begrüßung\n",
        "\n",
        "Anwender = input( \"Wie lautet Dein werter Name, Fremder? \")\n",
        "\n",
        "print (\"Sei gegrüßt,\", Anwender)"
      ]
    },
    {
      "cell_type": "markdown",
      "source": [
        "Wenden wir uns nach der Eingabe von Zeichenketten nun auch der Eingabe ganzer Zahlen zu."
      ],
      "metadata": {
        "id": "Xg3dBAl7VHcp"
      },
      "id": "Xg3dBAl7VHcp"
    },
    {
      "cell_type": "code",
      "source": [
        "# Unterscheide Zeichenketten und ganze Zahlen\n",
        "\n",
        "# + als Addition ganzer Zahlen\n",
        "a = 1\n",
        "b = 2\n",
        "print (\"1+2=\",a+b)\n",
        "\n",
        "# + als Konkatenation von Zeichenketten\n",
        "a = \"1\"\n",
        "b = \"2\"\n",
        "print ('\"1\"+\"2\"=',a+b)\n",
        "\n",
        "# Eingaben gelten als Zeichenketten\n",
        "a = input( \"Bitte eine 1 eingeben: \")\n",
        "b = input( \"Bitte eine 2 eingeben: \")\n",
        "print (a+b)\n",
        "\n",
        "# Umwandeln (casten) in ganze Zahlen\n",
        "a = int( input( \"Bitte eine 1 eingeben: \") )\n",
        "b = int( input( \"Bitte eine 2 eingeben: \") )\n",
        "print (a+b)\n"
      ],
      "metadata": {
        "id": "BaJwcpZgwNSt"
      },
      "id": "BaJwcpZgwNSt",
      "execution_count": null,
      "outputs": []
    },
    {
      "cell_type": "markdown",
      "source": [
        "Das Casten einer Zeichenkette in eine ganze Zahl erledigt die Funktion `int()`, der man die Zeichenkette as Parameter übergibt.\n",
        "\n",
        "Aufgabe:\n",
        "Ergänze das unvollständige Programm *Summe*, derart, dass die Summe der beiden Zahlen a und b ausgegeben wird.\n"
      ],
      "metadata": {
        "id": "fS7MHsGZx7x_"
      },
      "id": "fS7MHsGZx7x_"
    },
    {
      "cell_type": "code",
      "source": [
        "# Die Summe zweier Zahlen\n",
        "\n",
        "# Eingabe der beiden Summanden\n",
        "a = int( input(\"Die erste Zahl lauetet: \") )\n",
        "b = \"todo\"\n",
        "print (\"Die Summe der beiden Zahlen lautet\", a)"
      ],
      "metadata": {
        "id": "kMXOwWajXe7r"
      },
      "id": "kMXOwWajXe7r",
      "execution_count": null,
      "outputs": []
    },
    {
      "cell_type": "markdown",
      "source": [
        "Bitte Testen, ob jeder seine eigene Instanz hat oder sich die Änderungen der Anwender gegenseitig überschreiben."
      ],
      "metadata": {
        "id": "9GB7mKvwaGvV"
      },
      "id": "9GB7mKvwaGvV"
    }
  ],
  "metadata": {
    "kernelspec": {
      "display_name": "Python 3 (ipykernel)",
      "language": "python",
      "name": "python3"
    },
    "language_info": {
      "codemirror_mode": {
        "name": "ipython",
        "version": 3
      },
      "file_extension": ".py",
      "mimetype": "text/x-python",
      "name": "python",
      "nbconvert_exporter": "python",
      "pygments_lexer": "ipython3",
      "version": "3.10.4"
    },
    "colab": {
      "name": "Python.Intro.ipynb",
      "provenance": [],
      "private_outputs": true,
      "collapsed_sections": []
    }
  },
  "nbformat": 4,
  "nbformat_minor": 5
}