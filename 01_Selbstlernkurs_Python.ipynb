{
 "cells": [
  {
   "cell_type": "markdown",
   "id": "6c54896f",
   "metadata": {},
   "source": [
    "# Eine kurze Einführung in die Sprache Python\n",
    "\n",
    "\n",
    "Python ist eine interpretierte Sprache. Das bedeutet, dass man Python-Programme ohne Vorbereitung direkt Testen kann. Dies ist bei compilierten Sprachen nicht möglich. Diese müssen erst in einen Maschinencode übersetzt werden. Im Unterricht ist es von großem Vorteil, wenn dieses fehleranfällige Handling entfällt.\n",
    "\n",
    "Die Dokumente dieses Selbstlernkurses zur Sprache Python sind als **Jupyter** - Dateien erstellt. In diesen können sich  Textstücke und Codefragmente abwechseln. Charmant an Jupyter ist, dass man diese Codefragmente ausführen kann ohne in ein anderes Programm zu wechseln. Es ist ebenfalls möglich, dass Du die Codefragmente änderst oder ergänzst und Du Dein Werk direkt austesten kannst.\n",
    "\n",
    "\n",
    "Ausführliche Informationen zu **Jupyter** findest Du auf der Webseite https://jupyter.org.\n",
    "\n",
    "Wir nutzen https://mybinder.org als Laufzeitumgebung der Jypiter-Dateien. \n",
    "\n",
    "Dieser Selbstlernkurs wird aufgerufen durch https://mybinder.org/v2/gh/bschie/jupyter/main.\n",
    "\n",
    "Du kannst die Dateien in dieser Umgebung starten und auch verändern. Diese Veränderungen werden jedoch nicht dauerhaft gespeichert. Wenn Du Deine Änderungen dennoch sichern möchtest, musst Du Dir die bearbeiteten oder auch neu erstellten Jupyter - Dateien auf Deinen eigenen Rechner downloaden. \n",
    "\n",
    "## Alternative Umgebungen\n",
    "\n",
    "1. Mybinder erstellt eine virtuelle Maschine aus den Dateien des öffentlichen GitLab Repositorys https://github.com/bschie/jupyter. Wenn Du die Abhängigkeit von einem externen Anbieter vermeiden möchtest, kannst Du Dir die Jupyter-Software auch auf Deinem Rechner lokal installieren und die Jupyter - Dateien dort starten.\n",
    "\n",
    "2. Google bietet auf der Seite https://colab.research.google.com eine eigene Implementierung der Jupyter - Software an. Das Handling ist sehr ähnlich und die Dateien sind kompatibel. Der Haken: Zwar kann man die Jupyter - Dateien auf diesem Weg veröffentlichen, aber ohne Anmeldung bei einem Google-Konto werden die Codefragmente nur angezeigt und können nicht ausgeführt werden. \n",
    "\n",
    "3. Es gibt auch eine Testumgebung für **Jupiter** - Dateien, auf der man hochgeladene Dateien ausführen kann: https://jupyter.org/try-jupyter/lab. Diese Testumgebung kann aber keine Bibliotheken einbinden, die nicht schon vorinstalliert sind. Diese Seite gilt als experimentell."
   ]
  },
  {
   "cell_type": "code",
   "execution_count": null,
   "id": "ca7565c0",
   "metadata": {},
   "outputs": [],
   "source": [
    "# Dies ist ein Pythonprogramm, das nur aus einem Kommentar besteht.\n",
    "# :-)\n",
    "\n",
    "# have fun!"
   ]
  },
  {
   "cell_type": "markdown",
   "id": "08d6068b",
   "metadata": {},
   "source": [
    "## Inhalt\n",
    "\n",
    "1. Die Datei *01_Selbstlernkurs_Python.ipynb* ist dieses Dokument selbst.\n",
    "2. Die Datei *02_Eingabe_Ausgabe.ipynb* erklärt die Ein- und Ausgabe von Informationen, die vier Basistypen und elementare Ausdrücke.\n",
    "3. Die Datei *03_BedingteAnweisungen.ipynb* beschäftigt sich mit Befehlen, die nur unter bestimmten Voraussetzungen ausgeführt werden sollen.\n"
   ]
  }
 ],
 "metadata": {
  "kernelspec": {
   "display_name": "Python 3 (ipykernel)",
   "language": "python",
   "name": "python3"
  },
  "language_info": {
   "codemirror_mode": {
    "name": "ipython",
    "version": 3
   },
   "file_extension": ".py",
   "mimetype": "text/x-python",
   "name": "python",
   "nbconvert_exporter": "python",
   "pygments_lexer": "ipython3",
   "version": "3.10.4"
  }
 },
 "nbformat": 4,
 "nbformat_minor": 5
}
