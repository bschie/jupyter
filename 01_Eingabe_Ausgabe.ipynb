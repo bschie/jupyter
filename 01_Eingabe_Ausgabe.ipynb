{
 "cells": [
  {
   "cell_type": "markdown",
   "id": "7ff322cf",
   "metadata": {
    "id": "7ff322cf"
   },
   "source": [
    "# Eine kurze Einführung in die Sprache Python\n",
    "\n",
    "\n",
    "Python ist eine interpretierte Sprache. Das bedeutet, dass man Python-Programme ohne Vorbereitung direkt Testen kann. Dies ist bei compilierten Sprachen nicht möglich. Diese müssen erst in einen Maschinencode übersetzt werden. Im Unterricht ist es von großem Vorteil, wenn dieses fehleranfällige Handling entfällt.\n",
    "In diesem Dokument wechseln sich Textstücke und Codefragmente.\n",
    "\n",
    "\n",
    "## Ein- und Ausgabe\n",
    "Um mit uns Anwendern zu kommunizieren, können Programme Informationen ausgeben und bei uns anfragen. Starten wir mit der Ausgabe des Textes *Hallo Welt*.\n",
    "\n",
    "### Der Basistyp Zeichenkette (String)\n",
    "Eine sehr einfache Form von Information ist eine Folge von Zeichen, die wir Zeichenkette oder englisch String nennen. Wir markieren den Beginn und das Ende einer Zeichenkette in Python jeweils mit einem Anführungszeichen.\n",
    "\n",
    "**Beispiele:**\n",
    "\"Dies ist eine Zeichenkette.\"\n",
    "\"Hurra\"\n",
    "\"das ist sehr einfach!\"\n",
    "\n",
    "So, und hier kommt nun endlich unser erstes Programm in Python:"
   ]
  },
  {
   "cell_type": "code",
   "execution_count": 1,
   "id": "4f54a7d4",
   "metadata": {
    "id": "4f54a7d4"
   },
   "outputs": [
    {
     "name": "stdout",
     "output_type": "stream",
     "text": [
      "Hallo Welt\n"
     ]
    }
   ],
   "source": [
    "# Tradition ist Tradition\n",
    "\n",
    "# eine neue Sprache probiert man üblicherweise durch ein Program aus,\n",
    "# das nichts weiter tut, als die Welt zu begrüßen.\n",
    "\n",
    "# der Rest einer Zeile, rechts von einem Hashtag ist in Python ein Kommentar\n",
    "# und wird bei der Ausführung ignoriert.\n",
    "# Bis zu dieser Zeile ist also noch nichts passiert.\n",
    "\n",
    "print (\"Hallo Welt\")"
   ]
  },
  {
   "cell_type": "markdown",
   "id": "67dc16ea",
   "metadata": {
    "id": "67dc16ea"
   },
   "source": [
    "**Aufgabe:**\n",
    "Wähle den Code oberhalb dieser Aufgabe aus und starte ihn durch Klick auf den Befehl `Run` mit dem kleinen Dreieck davor oben im Menu. Die Ausgabe des Programms findest Du dann direkt darunter.\n",
    "\n",
    "\n",
    "Der Befehl `print()` kann Informationen, wie zum Beispiel die Zeichenkette *Hallo Welt* ausgeben. Falls mehr als eine Information ausgegeben werden soll, dann werden diese durch Kommata voneinander getrennt.\n",
    "\n",
    "`print (\"Hallo\",\"Welt\")` gäbe also die beiden Zeichenketten *Hallo* und *Welt* aus.\n",
    "\n",
    "Dieses wundervolle Programm soll nun erweitert werden, so dass es nicht die ganze Welt, sondern nur die Nutzer:in an der Eingabe begrüßt.\n",
    "Dazu verwenden wir eine **Variable**, die sich deren Namen merken kann. Wir nennen diese Variable *Anwender*."
   ]
  },
  {
   "cell_type": "code",
   "execution_count": null,
   "id": "6a033272",
   "metadata": {
    "id": "6a033272"
   },
   "outputs": [],
   "source": [
    "# Individuelle Begrüßung\n",
    "\n",
    "Anwender = input( \"Wie lautet Dein werter Name, Fremder? \")\n",
    "\n",
    "print (\"Sei gegrüßt,\", Anwender)"
   ]
  },
  {
   "cell_type": "markdown",
   "id": "Xg3dBAl7VHcp",
   "metadata": {
    "id": "Xg3dBAl7VHcp"
   },
   "source": [
    "**Aufgabe**\n",
    "Starte auch diesen Code und wähle einen Namen Deiner Wahl zur angefragten Eingabe. Er wird dann in der Begrüßung verwendet werden.\n",
    "\n",
    "### Der Basistyp Ganzzahl (Integer)\n",
    "\n",
    "Wenden wir uns nach der Eingabe von Zeichenketten nun auch der Eingabe ganzer Zahlen zu."
   ]
  },
  {
   "cell_type": "code",
   "execution_count": null,
   "id": "BaJwcpZgwNSt",
   "metadata": {
    "id": "BaJwcpZgwNSt"
   },
   "outputs": [],
   "source": [
    "# Unterscheide Zeichenketten und ganze Zahlen\n",
    "\n",
    "# + als Addition ganzer Zahlen\n",
    "a = 1\n",
    "b = 2\n",
    "print (\"1+2=\",a+b)\n",
    "\n",
    "# + als Konkatenation von Zeichenketten\n",
    "a = \"1\"\n",
    "b = \"2\"\n",
    "print ('\"1\"+\"2\"=',a+b)\n",
    "\n",
    "# Eingaben gelten als Zeichenketten\n",
    "a = input( \"Bitte eine 1 eingeben: \")\n",
    "b = input( \"Bitte eine 2 eingeben: \")\n",
    "print ( a, \"+\", b, \"ergibt\",a+b)\n",
    "\n",
    "# Umwandeln (casten) in ganze Zahlen\n",
    "a = int( input( \"Bitte eine 1 eingeben: \") )\n",
    "b = int( input( \"Bitte eine 2 eingeben: \") )\n",
    "print ( a, \"+\", b, \"ergibt mit cast\", a+b)\n"
   ]
  },
  {
   "cell_type": "markdown",
   "id": "fS7MHsGZx7x_",
   "metadata": {
    "id": "fS7MHsGZx7x_"
   },
   "source": [
    "Das Casten einer Zeichenkette in eine ganze Zahl erledigt die Funktion `int()`, der man die Zeichenkette als Parameter übergibt.\n",
    "\n",
    "**Aufgabe:**\n",
    "Ergänze das unvollständige Programm *Summe*, derart, dass die Summe der beiden Zahlen a und b ausgegeben wird. Du kannst dazu einfach den Quellcode verändern und ergänzen.\n"
   ]
  },
  {
   "cell_type": "code",
   "execution_count": null,
   "id": "kMXOwWajXe7r",
   "metadata": {
    "id": "kMXOwWajXe7r"
   },
   "outputs": [],
   "source": [
    "# Die Summe zweier Zahlen\n",
    "\n",
    "# Eingabe der beiden Summanden\n",
    "a = int( input(\"Die erste Zahl lautet: \") )\n",
    "b = \"todo\"\n",
    "print (\"Die Summe der beiden Zahlen lautet\", a)"
   ]
  },
  {
   "cell_type": "markdown",
   "id": "9GB7mKvwaGvV",
   "metadata": {
    "id": "9GB7mKvwaGvV"
   },
   "source": [
    "### Der Basistyp Fließkommazahl (Float)\n",
    "\n",
    "Nach den Zeichenketten und den ganzen Zahlen schauen wir uns nun die Ein- und Ausgabe von Fließkommazahlen an.\n",
    "\n",
    "**Aufgabe:**\n",
    "Im folgenden Quellcode ist ein typischer Fehler enthalten. Er führt zu einem Typfehler. Achtung: Der angezeigte Ort des Fehlers ist schon eine Zeile über den wirklichen Fehler hinaus.\n",
    "Probiere den Code aus und korrigiere den Fehler. Falls Du ihn nicht findest, lies den Hinweis im Anschluss."
   ]
  },
  {
   "cell_type": "code",
   "execution_count": 4,
   "id": "3da24f0f",
   "metadata": {
    "scrolled": true
   },
   "outputs": [
    {
     "ename": "TypeError",
     "evalue": "can't multiply sequence by non-int of type 'float'",
     "output_type": "error",
     "traceback": [
      "\u001b[0;31m---------------------------------------------------------------------------\u001b[0m",
      "\u001b[0;31mTypeError\u001b[0m                                 Traceback (most recent call last)",
      "Input \u001b[0;32mIn [4]\u001b[0m, in \u001b[0;36m<cell line: 7>\u001b[0;34m()\u001b[0m\n\u001b[1;32m      3\u001b[0m Pi \u001b[38;5;241m=\u001b[39m \u001b[38;5;241m3.141592654\u001b[39m \u001b[38;5;66;03m# zumindest gerundet auf 9 Nachkommastellen\u001b[39;00m\n\u001b[1;32m      5\u001b[0m Radius \u001b[38;5;241m=\u001b[39m \u001b[38;5;241m3\u001b[39m,\u001b[38;5;241m5\u001b[39m\n\u001b[0;32m----> 7\u001b[0m Umfang \u001b[38;5;241m=\u001b[39m \u001b[38;5;241;43m2\u001b[39;49m\u001b[43m \u001b[49m\u001b[38;5;241;43m*\u001b[39;49m\u001b[43m \u001b[49m\u001b[43mPi\u001b[49m\u001b[43m \u001b[49m\u001b[38;5;241;43m*\u001b[39;49m\u001b[43m \u001b[49m\u001b[43mRadius\u001b[49m\n\u001b[1;32m      9\u001b[0m \u001b[38;5;28mprint\u001b[39m( \u001b[38;5;124m\"\u001b[39m\u001b[38;5;124mEin Kreis mit Radius\u001b[39m\u001b[38;5;124m\"\u001b[39m, Radius, \u001b[38;5;124m\"\u001b[39m\u001b[38;5;124mEinheiten hat einen Umfang von\u001b[39m\u001b[38;5;124m\"\u001b[39m, Umfang,\u001b[38;5;124m\"\u001b[39m\u001b[38;5;124mEinheiten.\u001b[39m\u001b[38;5;124m\"\u001b[39m )\n",
      "\u001b[0;31mTypeError\u001b[0m: can't multiply sequence by non-int of type 'float'"
     ]
    }
   ],
   "source": [
    "# Der Umfang eines Kreises\n",
    "\n",
    "Pi = 3.141592654 # zumindest gerundet auf 9 Nachkommastellen\n",
    "\n",
    "Radius = 3,5\n",
    "\n",
    "Umfang = 2 * Pi * Radius\n",
    "\n",
    "print( \"Ein Kreis mit Radius\", Radius, \"Einheiten hat einen Umfang von\", Umfang,\"Einheiten.\" )"
   ]
  },
  {
   "cell_type": "markdown",
   "id": "55636f7b",
   "metadata": {
    "id": "9GB7mKvwaGvV"
   },
   "source": [
    "**Hinweis:** (Achtung Spoiler, Auflösung zur obigen Aufgabe)\n",
    "\n",
    "Die Fehlermeldung bezieht sich auf den Versuch, die beiden Variablen Pi und Radius zu multiplizieren. Der Fehler steckt jedoch bereits in der Zuweisung des Radius. Die englische Schreibweise für Kommazahlen verwendet einen Punkt statt des in Deutschland üblichen Kommas. Korrekt lautet die Zuweisung daher `Radius = 3.5` statt `Radius = 3,5`.\n"
   ]
  },
  {
   "cell_type": "code",
   "execution_count": 6,
   "id": "d2b99354",
   "metadata": {},
   "outputs": [
    {
     "name": "stdout",
     "output_type": "stream",
     "text": [
      "Gib den Radius des Kreises ohne Einheit an: 3.5\n",
      "Ein Kreis mit Radius 3.5 Einheiten hat einen Umfang von 21.991148578 Einheiten.\n"
     ]
    }
   ],
   "source": [
    "# Der Umfang eines Kreises mit Eingabe des Radius\n",
    "\n",
    "Pi = 3.141592654 # zumindest gerundet auf 9 Nachkommastellen\n",
    "\n",
    "Radius = float( input( \"Gib den Radius des Kreises ohne Einheit an: \") )\n",
    "\n",
    "Umfang = 2 * Pi * Radius\n",
    "\n",
    "print( \"Ein Kreis mit Radius\", Radius, \"Einheiten hat einen Umfang von\", Umfang,\"Einheiten.\" )"
   ]
  },
  {
   "cell_type": "markdown",
   "id": "0e0e0c5e",
   "metadata": {
    "id": "9GB7mKvwaGvV"
   },
   "source": [
    "Auch hier wird die Eingabe als Zeichenkette interpretiert und muss erst durch den cast `float()`analog dem cast `ìnt()` für ganze Zahlen in eine Fließkommazahl umgewandelt werden.\n",
    "\n",
    "**Aufgabe:**\n",
    "Editiere den obigen Code und entferne den cast `float()`. Zur Laufzeit erscheint nun wieder eine Fehlermeldung.\n",
    "\n",
    "### Der Basistyp Wahrheitswert (Boolean)\n",
    "\n",
    "Der letzte uns noch fehlende der vier Basistypen ist der Wahrheitswert. Eine Eingabe eines Wahrheitswertes durch den Anwender ist eher ungewöhnlich. Er entsteht üblicherweise aus anderen Informationen.\n",
    "\n",
    "**Aufgabe:**\n",
    "Ändere die Deklaration der drei Variablen a, b und c im folgenden Programm nach Belieben auf wahr (True) oder belasse sie bei falsch (False). Ziel ist es jedoch, dass das Programm den Wahrheitswert True ausgibt. \n",
    "Notfalls hilt Probieren, es gibt ja nur acht Möglichkeiten ...\n",
    "\n"
   ]
  },
  {
   "cell_type": "code",
   "execution_count": 27,
   "id": "628f3931",
   "metadata": {},
   "outputs": [
    {
     "name": "stdout",
     "output_type": "stream",
     "text": [
      "False\n"
     ]
    }
   ],
   "source": [
    "# Finde die passende Belegung der drei booleschen Variablen a, b und c.\n",
    "# Die Ausgabe des Programms soll True sein.\n",
    "a = False # darf auf True verändert werden\n",
    "b = False # darf auf True verändert werden\n",
    "c = False # darf auf True verändert werden\n",
    "\n",
    "# Finger weg vom weiteren Code\n",
    "# print (True) gilt nicht!\n",
    "\n",
    "d = a and b\n",
    "e = (not b) and c\n",
    "f = not d\n",
    "\n",
    "print (e and f and a)"
   ]
  }
 ],
 "metadata": {
  "colab": {
   "collapsed_sections": [],
   "name": "Python.Intro.ipynb",
   "private_outputs": true,
   "provenance": []
  },
  "kernelspec": {
   "display_name": "Python 3 (ipykernel)",
   "language": "python",
   "name": "python3"
  },
  "language_info": {
   "codemirror_mode": {
    "name": "ipython",
    "version": 3
   },
   "file_extension": ".py",
   "mimetype": "text/x-python",
   "name": "python",
   "nbconvert_exporter": "python",
   "pygments_lexer": "ipython3",
   "version": "3.10.4"
  }
 },
 "nbformat": 4,
 "nbformat_minor": 5
}
