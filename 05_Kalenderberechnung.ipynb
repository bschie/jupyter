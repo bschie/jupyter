{
 "cells": [
  {
   "cell_type": "markdown",
   "id": "f3928396-0018-4528-abe1-57fa78494714",
   "metadata": {},
   "source": [
    "## Kalenderberechnung (Schwierigkeitsgrad: einfach)\n",
    "\n",
    "Schon vor mehr als 100 Jahren haben Mathematiker sich damit beschäftigt, die Wochentage früherer Datumsangaben zu bestimmen. Einer der bekanntesten Algorithmen zur Wochentagsberechnung stammt von Carl Friedrich Gauß und liegt auch dieser Aufgabe zu Grunde. (Quelle: https://www.straub.as/java/basic/Uwochentag.html)\n",
    "\n",
    "### Der Algorithmus\n",
    "Als Eingabe benötigt der Algorithmus das genaue Datum (Tag, Monat, vierstellige Jahreszahl). Für jedes Datum ab dem 1.1.1582 (= Einführung des Gregorianischen Kalenders) und auch für in der Zukunft liegende Datumsangaben bis zum 31.12.3000 wurde die Korrektheit des Algorithmus nachgewiesen. \n",
    "\n",
    "Das Ergebnis ist zunächst eine Zahl zwischen 0 und 6, die dann wiederum als Wochentag interpretiert wird: 0 steht für Sonntag, 1 für Montag usw. \n",
    "\n",
    "Im folgenden Abschnitt ist der Wochentagsalgorithmus nach Gauß in Pseudocode dargestellt und ein Programmgerüst vorgegeben. Keine Sorge, der Algorithmus ist zwar etwas länger, aber nicht schwierig zu befolgen :-)\n",
    "\n",
    "**Aufgabe 1** Spiele den Algorithmus zunächst von Hand für das heutige Datum durch.\n",
    "\n",
    "**Aufgabe 2** Ergänze den zugehörigen Python-Code.\n",
    "\n"
   ]
  },
  {
   "cell_type": "code",
   "execution_count": null,
   "id": "af9a993b-43ed-48a8-a773-d2916153bfd8",
   "metadata": {},
   "outputs": [],
   "source": [
    "#Wir berechnen mit dem Wochentagalgorithmus von C.F.Gauß, auf welchen Wochentag ein gegebenes Datum fällt.\n",
    "\n",
    "print(\"Hallo! Ich berechne den Wochentag, auf den ein beliebiges Datum zwischen dem 1.1.1582 und dem 31.12.3000 fällt.\")\n",
    "\n",
    "#---Eingabe---\n",
    "print(\"Welches Datum darf es denn sein?\")\n",
    "#Eingabe und Speicherung der Jahreszahl (vierstellig), z.B. 2022\n",
    "\n",
    "#Eingabe und Speicherung der Monatszahl, z. B. 5\n",
    "\n",
    "#Eingabe und Speicherung der Tageszahl, z.B. 10\n",
    "\n",
    "\n",
    "#---Verarbeitung---\n",
    "#Wenn der Monat Januar oder Februar ist, dann vermindere die Jahreszahl um 1 und addiere 12 zur Monatszahl.\n",
    "\n",
    "#Merke dir in s die Summe von Tag und Jahreszahl.\n",
    "\n",
    "#Merke dir in a, wie oft 100 in die Jahreszahl passt. Tipp: Ganzzahldivision verwenden, die Nachkommastellen sind irrelevant!\n",
    "\n",
    "#Subtrahiere a von s (und merke dir das Ergebnis wieder in s).\n",
    "\n",
    "#Merke dir:\n",
    "#in b, wie oft 400 in die Jahreszahl passt\n",
    "\n",
    "#in c das Doppelte der Monatszahl\n",
    "\n",
    "#in d das Dreifache der Monatszahl plus 3\n",
    "\n",
    "#Dividiere d ganzzahlig durch 5 (und speichere das Ergebnis wieder in d).\n",
    "\n",
    "#Merke dir in e, wie oft 4 in die Jahreszahl passt.\n",
    "\n",
    "#Addiere diese vier Zahlen (b bis e) zu deinem vorherigen Ergebnis (s).\n",
    "\n",
    "#Addiere 1.\n",
    "\n",
    "#Berechne den Rest von s bei der Division durch 7 (und speichere das Ergebnis wieder in S).\n",
    "\n",
    "\n",
    "#---Ausgabe---\n",
    "#Gib in Abhängigkeit von deinem Ergebnis s den Wochentag aus: 0 = Sonntag, 1 = Montag usw.\n",
    "if s == 0:\n",
    "    ..."
   ]
  },
  {
   "cell_type": "markdown",
   "id": "276e2ec5-4f30-451d-9995-e2f7d5d12cb5",
   "metadata": {},
   "source": [
    "## Musterlösungen"
   ]
  },
  {
   "cell_type": "code",
   "execution_count": 2,
   "id": "32d7fa6c-ed2b-4311-b1d0-47d1930855da",
   "metadata": {},
   "outputs": [
    {
     "name": "stdout",
     "output_type": "stream",
     "text": [
      "Hallo! Ich berechne den Wochentag, auf den ein beliebiges Datum zwischen dem 1.1.1582 und dem 31.12.3000 fällt.\n",
      "Welches Datum darf es denn sein?\n"
     ]
    },
    {
     "name": "stdin",
     "output_type": "stream",
     "text": [
      "Gib die vierstellige Jahreszahl ein (z.B. 2022): 2022\n",
      "Gib die Monatszahl ein (z.B. 5 für Mai): 5\n",
      "Gib den Tag an (z.B. 10): 8\n"
     ]
    },
    {
     "name": "stdout",
     "output_type": "stream",
     "text": [
      "Das angegebene Datum fällt auf einen Sonntag.\n"
     ]
    }
   ],
   "source": [
    "#Aufgabe 1 - Kalenderberechnungen\n",
    "#Wir berechnen mit dem Wochentagalgorithmus von C.F.Gauß, auf welchen Wochentag ein gegebenes Datum fällt.\n",
    "\n",
    "print(\"Hallo! Ich berechne den Wochentag, auf den ein beliebiges Datum zwischen dem 1.1.1582 und dem 31.12.3000 fällt.\")\n",
    "\n",
    "#---Eingabe---\n",
    "print(\"Welches Datum darf es denn sein?\")\n",
    "#Eingabe und Speicherung der Jahreszahl (vierstellig), z.B. 2022\n",
    "jahr = int(input(\"Gib die vierstellige Jahreszahl ein (z.B. 2022):\"))\n",
    "#Eingabe und Speicherung der Monatszahl, z. B. 5\n",
    "monat = int(input(\"Gib die Monatszahl ein (z.B. 5 für Mai):\"))\n",
    "#Eingabe und Speicherung der Tageszahl, z.B. 10\n",
    "tag = int(input(\"Gib den Tag an (z.B. 10):\"))\n",
    "\n",
    "#---Verarbeitung---\n",
    "#Wenn der Monat Januar oder Februar ist, dann vermindere die Jahreszahl um 1 und addiere 12 zur Monatszahl.\n",
    "if (monat == 1) or (monat == 2):\n",
    "    jahr = jahr-1\n",
    "    monat = monat + 12\n",
    "#Merke dir in s die Summe von Tag und Jahreszahl.\n",
    "s = tag+jahr\n",
    "#Merke dir in a, wie oft 100 in die Jahreszahl passt.\n",
    "a = jahr//100\n",
    "#Subtrahiere a von s (und merke dir das Ergebnis in s).\n",
    "s = s-a\n",
    "#Merke dir:\n",
    "#in b, wie oft 400 in die Jahreszahl passt\n",
    "b = jahr //400\n",
    "#in c das Doppelte der Monatszahl\n",
    "c = 2* monat\n",
    "#in d das Dreifache der Monatszahl plus 3\n",
    "d = 3*monat + 3\n",
    "#Dividiere d ganzzahlig durch 5 (und speichere das Ergebnis wieder in d).\n",
    "d = d//5\n",
    "#Merke dir in e, wie oft 4 in die Jahreszahl passt.\n",
    "e = jahr//4\n",
    "#Addiere diese vier Zahlen (b bis e) zu deinem vorherigen Ergebnis (s).\n",
    "s = s+b+c+d+e\n",
    "#Addiere 1.\n",
    "s = s+1\n",
    "#Berechne den Rest von s bei der Division durch 7 (und speichere das Ergebnis wieder in S).\n",
    "s = s%7\n",
    "\n",
    "#---Ausgabe---\n",
    "#Gib in Abhängigkeit von deinem Ergebnis s den Wochentag aus: 0 = Sonntag, 1 = Montag usw.\n",
    "if s == 0:\n",
    "    wochentag = \"Sonntag\"\n",
    "elif s == 1:\n",
    "    wochentag = \"Montag\"\n",
    "elif s == 2:\n",
    "    wochentag = \"Dienstag\"\n",
    "elif s == 3:\n",
    "    wochentag = \"Mittwoch\"\n",
    "elif s == 4:\n",
    "    wochentag = \"Donnerstag\"\n",
    "elif s == 5:\n",
    "    wochentag = \"Freitag\"\n",
    "elif s == 6: \n",
    "    wochentag = \"Samstag\"\n",
    "else:\n",
    "    wochentag = \"da ist etwas schiefgelaufen!\"\n",
    "\n",
    "print(\"Das angegebene Datum fällt auf einen\", wochentag+\".\")"
   ]
  },
  {
   "cell_type": "code",
   "execution_count": null,
   "id": "2a30614b-f759-41a9-869d-afa7308a091b",
   "metadata": {},
   "outputs": [],
   "source": []
  }
 ],
 "metadata": {
  "kernelspec": {
   "display_name": "Python 3 (ipykernel)",
   "language": "python",
   "name": "python3"
  },
  "language_info": {
   "codemirror_mode": {
    "name": "ipython",
    "version": 3
   },
   "file_extension": ".py",
   "mimetype": "text/x-python",
   "name": "python",
   "nbconvert_exporter": "python",
   "pygments_lexer": "ipython3",
   "version": "3.9.7"
  }
 },
 "nbformat": 4,
 "nbformat_minor": 5
}
