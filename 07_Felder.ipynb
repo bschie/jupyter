{
 "cells": [
  {
   "cell_type": "markdown",
   "id": "71d7a75a",
   "metadata": {},
   "source": [
    "# Felder\n",
    "\n",
    "Wir haben gelernt, Variablen zum Merken von Informationen zu verwenden. Wir betrachten als Beispiel einen Farbenwürfel. Schau Dir das folgende kleine Programm an und probiere es aus."
   ]
  },
  {
   "cell_type": "code",
   "execution_count": null,
   "id": "05ba2330",
   "metadata": {},
   "outputs": [],
   "source": [
    "# Farbenwürfel\n",
    "\n",
    "Farbe1 = \"blau\"\n",
    "Farbe2 = \"rot\"\n",
    "Farbe3 = \"grün\"\n",
    "Farbe4 = \"gelb\"\n",
    "Farbe5 = \"weiß\"\n",
    "Farbe6 = \"schwarz\"\n",
    "\n",
    "import random\n",
    "\n",
    "Wuerfel = random.randint(1,6) # zufällige Werte aus {1,2,3,4,5,6}\n",
    "\n",
    "if Wuerfel == 1 :\n",
    "    print( \"ich habe die Farbe\",Farbe1, \"gewürfelt.\" )\n",
    "\n",
    "if Wuerfel == 2 :\n",
    "    print( \"ich habe die Farbe\",Farbe2, \"gewürfelt.\" )\n",
    "    \n",
    "if Wuerfel == 3 :\n",
    "    print( \"ich habe die Farbe\",Farbe3, \"gewürfelt.\" )\n",
    "    \n",
    "if Wuerfel == 4 :\n",
    "    print( \"ich habe die Farbe\",Farbe4, \"gewürfelt.\" )\n",
    "    \n",
    "if Wuerfel == 5 :\n",
    "    print( \"ich habe die Farbe\",Farbe5, \"gewürfelt.\" )\n",
    "\n",
    "if Wuerfel == 6 :\n",
    "    print( \"ich habe die Farbe\",Farbe6, \"gewürfelt.\" )    "
   ]
  },
  {
   "cell_type": "markdown",
   "id": "d119c772",
   "metadata": {},
   "source": [
    "Wenn man etwas Positives sagen möchte, so könnte man loben, dass das Programm korrekt funktioniert. Aber elegant ist es sicherlich nicht.\n",
    "\n",
    "Es wiederholen sich viele, sehr ähnliche Bestandteile.\n",
    "Zum Merken vieler gleichartige Objekte nutzen Computer **Felder**. Man kann sie sich als eine Kommode mit nummerierten Schubladen vorstellen. Jede Schublade kann wie eine einzelne Variable genutzt werden. Diese haben aber keine eigenen Namen, sondern werden über die Nummer der Schublade ausgewählt (referenziert).\n",
    "\n",
    "Statt sechs einzelne Variablen mit Namen Farbe1, Farbe2, ..., Farbe6 kann man dann eine Kommode (Feld) mit Namen *Farben* anlegen, die sechs Schubladen, nummeriert von 0 bis 5 hat.\n",
    "\n",
    "Betrachte und teste das derart veränderte Programm."
   ]
  },
  {
   "cell_type": "code",
   "execution_count": null,
   "id": "39a93770",
   "metadata": {},
   "outputs": [],
   "source": [
    "# Farbenwürfel mit einem Feld\n",
    "\n",
    "Farben = [\"blau\", \"rot\", \"grün\", \"gelb\", \"weiß\", \"schwarz\"]\n",
    "\n",
    "import random\n",
    "\n",
    "Wuerfel = random.randint(1,6) # zufällige Werte aus {1,2,3,4,5,6}\n",
    "\n",
    "if Wuerfel == 1 :\n",
    "    print( \"ich habe die Farbe\",Farben[0], \"gewürfelt.\" )\n",
    "\n",
    "if Wuerfel == 2 :\n",
    "    print( \"ich habe die Farbe\",Farben[1], \"gewürfelt.\" )\n",
    "    \n",
    "if Wuerfel == 3 :\n",
    "    print( \"ich habe die Farbe\",Farben[2], \"gewürfelt.\" )\n",
    "    \n",
    "if Wuerfel == 4 :\n",
    "    print( \"ich habe die Farbe\",Farben[3], \"gewürfelt.\" )\n",
    "    \n",
    "if Wuerfel == 5 :\n",
    "    print( \"ich habe die Farbe\",Farben[4], \"gewürfelt.\" )\n",
    "\n",
    "if Wuerfel == 6 :\n",
    "    print( \"ich habe die Farbe\",Farben[5], \"gewürfelt.\" )   "
   ]
  },
  {
   "cell_type": "markdown",
   "id": "ee4a3935",
   "metadata": {},
   "source": [
    "Das ist schon ein kleines bisschen besser, aber wir haben die Kraft eines Feldes gegenüber einzelnen Variablen noch nicht richtig ausgenutzt!\n",
    "\n",
    "Um die einzelnen Variablen Farbe1, Farbe2, ..., Farbe6 abhängig vom Wert des Würfels aus zu wählen, benötigten wir zwingend die vielen if-Abfragen. In einem Feld wäre dies aber gar nicht nötig. Denn wir können Schubladen auch in Abhängigkeit vom Wert einer Variablen öffnen und kommen so zu einer viel eleganteren Lösung:   "
   ]
  },
  {
   "cell_type": "code",
   "execution_count": null,
   "id": "185c2d25",
   "metadata": {},
   "outputs": [],
   "source": [
    "# Farbenwürfel mit einem Feld\n",
    "\n",
    "Farben = [\"blau\", \"rot\", \"grün\", \"gelb\", \"weiß\", \"schwarz\"]\n",
    "\n",
    "import random\n",
    "\n",
    "Wuerfel = random.randint(0,5) # zufällige Werte aus {0,1,2,3,4,5}\n",
    "\n",
    "print( \"ich habe die Farbe\",Farben[ Wuerfel ], \"gewürfelt.\" )"
   ]
  },
  {
   "cell_type": "markdown",
   "id": "992a7c3b",
   "metadata": {},
   "source": [
    "Wir nutzen hier den Wert der Variablen *Wuerfel* zur Auswahl des Feld-Elementes (der Schublade in der bildlichen Vorstellung). Dies ist mit den einzelnen Variablen Farbe1, Farbe2, ... , Farbe6 nicht möglich. Daher mussten wir dort eine aufwändige Fallunterscheidung machen. Felder bieten uns also sehr angenehme Möglichkeiten zum Merken mehrerer gleichartiger Informationen.\n",
    "\n",
    "<div class=\"alert alert-block alert-info\"><b>Zugriff auf ein Feldelement:</b>\n",
    "In einem Feld mit n Elemente sind diese von 0 bis zu n-1 nummeriert.\n",
    "Wir greifen auf ein einzelnes Feld mit dem Namen des Feldes und seiner Nummer in eckigen Klammern zu.\n",
    "</div>\n",
    "\n",
    "\n",
    "**Aufgabe:** Ergänze die angegeben todos durch den korrekten Zugriff auf das entsprechende Feldelement."
   ]
  },
  {
   "cell_type": "code",
   "execution_count": null,
   "id": "11f4f6cc",
   "metadata": {},
   "outputs": [],
   "source": [
    "# Zugriff auf das Feld der Farben\n",
    "\n",
    "Farben = [\"blau\", \"rot\", \"grün\", \"gelb\", \"weiß\", \"schwarz\"]\n",
    "\n",
    "print( \"die erste Farbe im Feld ist \", todo )\n",
    "print( \"die letzte Farbe im Feld ist \", todo )\n"
   ]
  },
  {
   "cell_type": "markdown",
   "id": "eee58601",
   "metadata": {},
   "source": [
    "## Fortune\n",
    "\n",
    "Im letzten Jahrtausend, als Computer meist keinen grafischen Bildschirm, sondern nur reine Textkonsolen hatten (und der Autor dieser Zeilen noch jung war), da begrüßte einem der Zentralcomputer der Uni beim täglich Anmelden mit einem Spruch des Tages. Dazu diente ein kleines Programm namen fortune. Weitere Informationen dazu auf [Wikipedia-Eintrag zu fortune](https://de.wikipedia.org/wiki/Fortune_(Computerprogramm)).\n",
    "\n",
    "Wir lassen diese alte Tradition nun wieder aufleben:"
   ]
  },
  {
   "cell_type": "code",
   "execution_count": null,
   "id": "fc96d809",
   "metadata": {},
   "outputs": [],
   "source": [
    "# Die gute Tat\n",
    "\n",
    "from random import *\n",
    " \n",
    "Taten = [\"Ich lobe meinen Bruder oder meine Schwester.\",\n",
    "         \"Ich helfe meiner Mutter.\",\n",
    "         \"Ich besuche meine Großeltern.\",\n",
    "         \"Ich spare eine Autofahrt durch öffentliche Verkehrsmittel, Fahrrad oder Fußmarsch.\" ]\n",
    "\n",
    "Index = randint(0, 3) \n",
    "print( \"Deine gute Tat für heute:  \", Taten[Index] )\n",
    "    "
   ]
  },
  {
   "cell_type": "markdown",
   "id": "b9a0f302",
   "metadata": {},
   "source": [
    "Es kommt ist nun an der Zeit zu gestehen, dass Python an dieser Stelle etwas schummelt. Felder werden als zusammenhängende Speicherbereiche im Hauptspeicher eines Computers realisiert. Dadurch sind Zugriffe auf ihre Elemente sehr schnell. Allerdings muss man beim Anlegen eines Feldes bereits wissen, wie groß es maximal werden kann. Da Geschwindigkeit bei heutigen Rechnern nicht mehr so entscheidend ist, realisiert Python Felder als sogenannte Listen. Wir werden diese zu einem späteren zeitpunkt noch kennen lernen. Im Unterschied zu Feldern können Listen beliebig im Hauptspeicher des Rechners verteilt sein und sich daher auch zur Laufzeit noch vergrößern. Der Zugriff auf die einzelnen Elemente ist weniger effizient, aber das spüren wir bei den kleinen Programmen in der Schule nicht.\n",
    "\n",
    "Da Python Felder als Listen realisiert, können wir neue gute Taten anhängen:"
   ]
  },
  {
   "cell_type": "code",
   "execution_count": null,
   "id": "16704293",
   "metadata": {},
   "outputs": [],
   "source": [
    "# Die gute Tat \n",
    "\n",
    "from random import *\n",
    " \n",
    "Taten = [\"Ich lobe meinen Bruder oder meine Schwester.\",\n",
    "         \"Ich helfe meiner Mutter.\",\n",
    "         \"Ich besuche meine Großeltern.\",\n",
    "         \"Ich spare eine Autofahrt durch öffentliche Verkehrsmittel, Fahrrad oder Fußmarsch.\" ]\n",
    "\n",
    "Taten.append( \"Ich lerne 15 Minuten Vokabeln.\" )\n",
    "\n",
    "Index = randint(0, 4) \n",
    "print( \"Deine gute Tat für heute:  \", Taten[Index] )"
   ]
  },
  {
   "cell_type": "markdown",
   "id": "db96d3f4",
   "metadata": {},
   "source": [
    "**Aufgabe** Nutze die Möglichkeit zum Anhängen weiterer Elemente in einer Schleife, so dass der Anwender vor dem Losen beliebig viele neue Taten hinzufügen kann. Durch die Eingabe einer leeren Zeichenkette endet die Eingabe neuer Taten. Achtung: Beim Würfeln der guten Tat ist die geänderte Länge des Feldes zu beachten! \n",
    "\n",
    "Tipp: Wer die Eingabe nicht in einer Variblen mitzählen möchte, kann auch die Anzahl der Elemente durch `len(Taten)` ermitteln.\n",
    "\n",
    "Zur Kontrolle: [Musterlösung](#Musterlösung-Fortune-mit-Eingabe)\n"
   ]
  },
  {
   "cell_type": "code",
   "execution_count": null,
   "id": "cc45516c",
   "metadata": {},
   "outputs": [],
   "source": [
    "# Die gute Tat mit der Möglichkeit zur Eingabe eigener Taten\n",
    "\n",
    "from random import *\n",
    " \n",
    "Taten = [\"Ich lobe meinen Bruder oder meine Schwester.\",\n",
    "         \"Ich helfe meiner Mutter.\",\n",
    "         \"Ich besuche meine Großeltern.\",\n",
    "         \"Ich spare eine Autofahrt durch öffentliche Verkehrsmittel, Fahrrad oder Fußmarsch.\" ]\n",
    "\n",
    "# Schleife bis zur Eingabe einer leeren Zeichenkette\n",
    "\n",
    "\n",
    "Index = randint(0, 3) \n",
    "print( \"Deine gute Tat für heute:  \", Taten[Index] )"
   ]
  },
  {
   "cell_type": "markdown",
   "id": "b92a671e",
   "metadata": {},
   "source": [
    "\n",
    "# Zeichenketten als Feld\n",
    "\n",
    "Zeichenketten bestehen aus einzelnen Buchstaben. In diesem Sinne kann man sie also auch als Feld ansehen. Und in der Tat erlauben viele Programmiersprachen - auch Python - den Zugriff auf die einzelnen Buchstaben einer Zeichenkette, analog dem Zugriff auf die einzelnen Elemente eines Feldes.\n",
    "\n",
    "**Aufgabe:** Bestimme zuerst die Ausgabe des Programms im Kopf und starte es erst dann zur Kontrolle."
   ]
  },
  {
   "cell_type": "code",
   "execution_count": null,
   "id": "03641b8c",
   "metadata": {},
   "outputs": [],
   "source": [
    "# Buchstabieren einer Zeichenkette\n",
    "\n",
    "hw = \"Hallo Welt\"\n",
    "\n",
    "for index in range( len(hw) ):\n",
    "    print(\"Der\", index+1, \". Buchstabe lautet:\\t\", hw[index] )"
   ]
  },
  {
   "cell_type": "markdown",
   "id": "2310ed25",
   "metadata": {},
   "source": [
    "Es gibt (zumindest in Python) bei Zeichenketten einen kleinen Unterschied zu sonstigen Feldern: Man kann in Python nicht einzelne Buchstaben einer Zeichenkette ändern. Das soll uns aber nicht daran hindern, eine sehr einfache Implementierung einer Cäsar Ver- und entschlüsselung zu wagen. Als Vereinfachung beachten wir (vorerst) nicht das Ende des Zeichensatzes, über den man ja gelangen kann und dann wieder von vorne beginnen müsste. Bei freien Eingaben des Klartextes und des Schlüssels wäre daher eine Ergänzung erforderlich. \n",
    "\n",
    "\n",
    "**Aufgabe** Ergänze den fehlenden Teil beim Entschlüsseln, das sich bei Cäsar ja kaum vom Verschlüsseln unterscheidet. Zur Kontrolle: [Musterlösung](#Musterlösung-Ave-Cäsar-editio-simplicis)\n"
   ]
  },
  {
   "cell_type": "code",
   "execution_count": null,
   "id": "cb132f1b",
   "metadata": {},
   "outputs": [],
   "source": [
    "# Ave Cäsar (editio simplicis)\n",
    "\n",
    "# Alice und Bob vereinbaren einen gemeinsamen Schlüssel\n",
    "schluessel  = 3\n",
    "\n",
    "# Teil 1: Alice chiffriert nachricht zu geheimtext\n",
    "nachricht   = \"Hallo Welt\"\n",
    "geheimtext  = \"\"\n",
    "\n",
    "\n",
    "for index in range( len(nachricht) ):                              # Buchstabe für Buchstabe durch nachricht\n",
    "    zeichenAlsZahl = ord(nachricht[index])                         # ord wandelt ein Zeichen in seine Position im Zeichensatz\n",
    "    geheimtext = geheimtext + chr( zeichenAlsZahl + schluessel  )  # chr liefert das Zeichen zur Position im Zeichensatz\n",
    "    \n",
    "print (\"Geheimtext\", geheimtext)\n",
    "\n",
    "# Der geheimtext kann über unsicheren  Kanal übertragen werden.\n",
    "\n",
    "# Teil 2: Bob dechriffriert geheimtext zu klartext\n",
    "\n",
    "klartext   = \"\" \n",
    "\n",
    "# hier                                                              # Buchstabe für Buchstabe durch geheimtext\n",
    "#      fehlt                                                        # Zeichen in Zahl umwandeln\n",
    "#            etwas                                                  # dechiffriertes Zeichen an klartext anhängen\n",
    "\n",
    "print (\"Klartext:\",klartext)"
   ]
  },
  {
   "cell_type": "markdown",
   "id": "3ba5ebd4",
   "metadata": {},
   "source": [
    "Für die Perfektionisten nun noch die verbesserte Version, die nach Erreichen des Ende des Alphabetes wieder von vorne beginnt. Wir beschränken uns auf kleine Buchstaben. \n",
    "\n",
    "**Aufgabe**\n",
    "Ergänze wieder die fehlenden Teile. Zur Kontrolle: [Musterlösung](#Musterlösung-Ave-Cäsar-editio-aureus)"
   ]
  },
  {
   "cell_type": "code",
   "execution_count": null,
   "id": "c3fecfc2",
   "metadata": {},
   "outputs": [],
   "source": [
    "# Ave Cäsar (editio aureus)\n",
    "\n",
    "# Alice und Bob vereinbaren einen gemeinsamen Schlüssel\n",
    "schluessel  = int(input (\"Schlüssel aus {0,1, ..., 25}: \"))\n",
    "\n",
    "start = ord('a')             # kleinster Buchstabe im Alphabet\n",
    "ende  = ord('z')             # größter Buchstabe im Alphabet\n",
    "anz   = ende - start + 1     # Anzahl der Buchstaben im Alphabet\n",
    "\n",
    "# nicht erlaubte Zeichen durch x ersetzen\n",
    "def filter(zeichen):\n",
    "    if start <= ord(zeichen) <= ende:\n",
    "        return zeichen\n",
    "    else:\n",
    "        return 'x'\n",
    "\n",
    "# Alphabet als endloser Ring\n",
    "def caesar(zeichen,verschiebung):\n",
    "    zeichenAlsZahl = ord(zeichen) + verschiebung\n",
    "    if zeichenAlsZahl < start:\n",
    "        zeichenAlsZahl = zeichenAlsZahl + anz\n",
    "    if zeichenAlsZahl > ende:\n",
    "        zeichenAlsZahl = zeichenAlsZahl - anz\n",
    "    return chr( zeichenAlsZahl )\n",
    "\n",
    "\n",
    "# Teil 1: Alice chiffriert nachricht zu geheimtext\n",
    "nachricht   = input( \"Nachricht: \")\n",
    "geheimtext  = \"\"\n",
    "\n",
    "for index in range( len(nachricht) ):                      # Buchstabe für Buchstabe durch nachricht\n",
    "    zeichen = filter(nachricht[index])                     # unerlaubte Zeichen heraus filtern\n",
    "    geheimtext = geheimtext + caesar(zeichen, schluessel)  # Caesar mit positivem Schlüssel\n",
    "    \n",
    "print (\"Geheimtext\", geheimtext)\n",
    "\n",
    "# Der geheimtext kann über unsicheren  Kanal übertragen werden.\n",
    "\n",
    "# Teil 2: Bob dechriffriert geheimtext zu klartext\n",
    "\n",
    "klartext   = \"\" \n",
    "\n",
    "# hier                                                   # Buchstabe für Buchstabe durch geheimtext\n",
    "#      fehlt                                             # keine unerlaubten Zeichen im geheimtext erwartet\n",
    "#            schon wieder etwas                          # Caesar mit negativem Schlüssel\n",
    "\n",
    "print (\"Klartext:\",klartext)"
   ]
  },
  {
   "cell_type": "markdown",
   "id": "cd56341a",
   "metadata": {},
   "source": [
    "# Musterlösungen\n",
    "\n",
    "## Musterlösung Fortune mit Eingabe"
   ]
  },
  {
   "cell_type": "code",
   "execution_count": null,
   "id": "7f1581ad",
   "metadata": {},
   "outputs": [],
   "source": [
    "# Die gute Tat mit der Möglichkeit zur Eingabe eigener Taten\n",
    "\n",
    "from random import *\n",
    " \n",
    "Taten = [\"Ich lobe meinen Bruder oder meine Schwester.\",\n",
    "         \"Ich helfe meiner Mutter.\",\n",
    "         \"Ich besuche meine Großeltern.\",\n",
    "         \"Ich spare eine Autofahrt durch öffentliche Verkehrsmittel, Fahrrad oder Fußmarsch.\" ]\n",
    "\n",
    "# Schleife bis zur Eingabe einer leeren Zeichenkette\n",
    "weiter = True\n",
    "while weiter:\n",
    "    eingabe = input(\"weitere gute Tat hinzufügen: \")\n",
    "    if eingabe == \"\":\n",
    "        weiter = False\n",
    "    else:\n",
    "        Taten.append(eingabe)\n",
    "    \n",
    "Index = randint(0, len(Taten)-1) \n",
    "print( \"Deine gute Tat für heute:  \", Taten[Index] )"
   ]
  },
  {
   "cell_type": "code",
   "execution_count": null,
   "id": "4db65791",
   "metadata": {},
   "outputs": [],
   "source": [
    "## Musterlösung Ave Cäsar editio simplicis"
   ]
  },
  {
   "cell_type": "code",
   "execution_count": null,
   "id": "ac3c2507",
   "metadata": {},
   "outputs": [],
   "source": [
    "# Ave Cäsar (editio simplicis)\n",
    "\n",
    "# Alice und Bob vereinbaren einen gemeinsamen Schlüssel\n",
    "schluessel  = 3\n",
    "\n",
    "# Teil 1: Alice chiffriert nachricht zu geheimtext\n",
    "nachricht   = \"Hallo Welt\"\n",
    "geheimtext  = \"\"\n",
    "\n",
    "for index in range( len(nachricht) ):                              # Buchstabe für Buchstabe durch nachricht\n",
    "    zeichenAlsZahl = ord(nachricht[index])                         # ord wandelt ein Zeichen in seine Position im Zeichensatz\n",
    "    geheimtext = geheimtext + chr( zeichenAlsZahl + schluessel  )  # chr liefert das Zeichen zur Position im Zeichensatz\n",
    "    \n",
    "print (\"Geheimtext\", geheimtext)\n",
    "\n",
    "# Der geheimtext kann über unsicheren  Kanal übertragen werden.\n",
    "\n",
    "# Teil 2: Bob dechriffriert geheimtext zu klartext\n",
    "\n",
    "klartext   = \"\" \n",
    "\n",
    "for index in range( len(geheimtext) ):                            # Buchstabe für Buchstabe durch geheimtext\n",
    "    zeichenAlsZahl = ord(geheimtext[index])                       # Zeichen in Zahl umwandeln\n",
    "    klartext = klartext + chr( zeichenAlsZahl - schluessel  )     # dechiffriertes Zeichen an klartext anhängen\n",
    "\n",
    "print (\"Klartext:\",klartext)"
   ]
  },
  {
   "cell_type": "markdown",
   "id": "4ef75efb",
   "metadata": {},
   "source": [
    "## Musterlösung Ave Cäsar editio aureus"
   ]
  },
  {
   "cell_type": "code",
   "execution_count": null,
   "id": "efff1a0e",
   "metadata": {},
   "outputs": [],
   "source": [
    "# Ave Cäsar (editio aureus)\n",
    "\n",
    "# Alice und Bob vereinbaren einen gemeinsamen Schlüssel\n",
    "schluessel  = int(input (\"Schlüssel aus {0,1, ..., 25}: \"))\n",
    "\n",
    "start = ord('a')             # kleinster Buchstabe im Alphabet\n",
    "ende  = ord('z')             # größter Buchstabe im Alphabet\n",
    "anz   = ende - start + 1     # Anzahl der Buchstaben im Alphabet\n",
    "\n",
    "# nicht erlaubte Zeichen durch x ersetzen\n",
    "def filter(zeichen):\n",
    "    if start <= ord(zeichen) <= ende:\n",
    "        return zeichen\n",
    "    else:\n",
    "        return 'x'\n",
    "\n",
    "# Alphabet als endloser Ring\n",
    "def caesar(zeichen,verschiebung):\n",
    "    zeichenAlsZahl = ord(zeichen) + verschiebung\n",
    "    if zeichenAlsZahl < start:\n",
    "        zeichenAlsZahl = zeichenAlsZahl + anz\n",
    "    if zeichenAlsZahl > ende:\n",
    "        zeichenAlsZahl = zeichenAlsZahl - anz\n",
    "    return chr( zeichenAlsZahl )\n",
    "\n",
    "\n",
    "# Teil 1: Alice chiffriert nachricht zu geheimtext\n",
    "nachricht   = input( \"Nachricht: \")\n",
    "geheimtext  = \"\"\n",
    "\n",
    "for index in range( len(nachricht) ):                      # Buchstabe für Buchstabe durch nachricht\n",
    "    zeichen = filter(nachricht[index])                     # unerlaubte Zeichen heraus filtern\n",
    "    geheimtext = geheimtext + caesar(zeichen, schluessel)  # Caesar mit positivem Schlüssel\n",
    "    \n",
    "print (\"Geheimtext\", geheimtext)\n",
    "\n",
    "# Der geheimtext kann über unsicheren  Kanal übertragen werden.\n",
    "\n",
    "# Teil 2: Bob dechriffriert geheimtext zu klartext\n",
    "\n",
    "klartext   = \"\" \n",
    "\n",
    "for index in range( len(geheimtext) ):                   # Buchstabe für Buchstabe durch geheimtext\n",
    "    zeichen = geheimtext[index]                          # keine unerlaubten Zeichen im geheimtext erwartet\n",
    "    klartext = klartext + caesar(zeichen, - schluessel)  # Caesar mit negativem Schlüssel\n",
    "\n",
    "print (\"Klartext:\",klartext)"
   ]
  },
  {
   "cell_type": "code",
   "execution_count": null,
   "id": "ef41fffd",
   "metadata": {},
   "outputs": [],
   "source": []
  }
 ],
 "metadata": {
  "kernelspec": {
   "display_name": "Python 3 (ipykernel)",
   "language": "python",
   "name": "python3"
  },
  "language_info": {
   "codemirror_mode": {
    "name": "ipython",
    "version": 3
   },
   "file_extension": ".py",
   "mimetype": "text/x-python",
   "name": "python",
   "nbconvert_exporter": "python",
   "pygments_lexer": "ipython3",
   "version": "3.10.4"
  }
 },
 "nbformat": 4,
 "nbformat_minor": 5
}
