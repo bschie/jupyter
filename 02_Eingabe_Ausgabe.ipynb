{
 "cells": [
  {
   "cell_type": "markdown",
   "id": "7ff322cf",
   "metadata": {
    "id": "7ff322cf",
    "tags": []
   },
   "source": [
    "# 2. Ausgabe, Eingabe und Variablen\n",
    "Um mit uns Anwendern zu kommunizieren, können Programme Informationen ausgeben und bei uns anfragen. Starten wir mit der Ausgabe des Textes *Hallo Welt*.\n",
    "\n",
    "## 2.1 Der Basistyp Zeichenkette (String)\n",
    "Eine sehr einfache Form von Information ist eine Folge von Zeichen, die wir Zeichenkette oder englisch String nennen. Wir markieren den Beginn und das Ende einer Zeichenkette in Python jeweils mit einem Anführungszeichen.\n",
    "\n",
    "**Beispiele:**\n",
    "\n",
    "1. \"Dies ist eine Zeichenkette.\"\n",
    "2. \"Hurra\"\n",
    "3. \"das ist sehr einfach!\"\n",
    "\n",
    "So, und hier kommt nun endlich unser erstes Programm in Python:"
   ]
  },
  {
   "cell_type": "code",
   "execution_count": null,
   "id": "4f54a7d4",
   "metadata": {
    "id": "4f54a7d4"
   },
   "outputs": [],
   "source": [
    "# Tradition ist Tradition\n",
    "\n",
    "# eine neue Sprache probiert man üblicherweise durch ein Program aus,\n",
    "# das nichts weiter tut, als die Welt zu begrüßen.\n",
    "\n",
    "# der Rest einer Zeile, rechts von einem Hashtag ist in Python ein Kommentar\n",
    "# und wird bei der Ausführung ignoriert.\n",
    "# Bis zu dieser Zeile ist also noch nichts passiert.\n",
    "\n",
    "print (\"Hallo Welt\")"
   ]
  },
  {
   "cell_type": "markdown",
   "id": "67dc16ea",
   "metadata": {
    "id": "67dc16ea"
   },
   "source": [
    "**Aufgabe 2.1.1:**\n",
    "Wähle den Code oberhalb dieser Aufgabe aus und starte ihn durch Klick auf den Befehl `Run` mit dem kleinen Dreieck davor oben im Menu. Die Ausgabe des Programms findest Du dann direkt darunter.\n",
    "\n",
    "\n",
    "Der Befehl `print()` kann Informationen, wie zum Beispiel die Zeichenkette *Hallo Welt* ausgeben. Falls mehr als eine Information ausgegeben werden soll, dann werden diese durch Kommata voneinander getrennt."
   ]
  },
  {
   "cell_type": "markdown",
   "id": "a3e6f82d-f45a-4fb7-8ccd-7f8436a026f2",
   "metadata": {},
   "source": [
    "**Aufgabe 2.1.2:**\n",
    "Die Ausgabe von Zeichenketten im print-Befehl kann auf unterschiedliche Art und Weise erfolgen. Probiere es aus:"
   ]
  },
  {
   "cell_type": "code",
   "execution_count": null,
   "id": "671c01f0-efdb-4227-a233-9a864234ceb2",
   "metadata": {
    "tags": []
   },
   "outputs": [],
   "source": [
    "print(\"Hallo Python!\") #als zusammenhängende Zeichenkette\n",
    "print(\"Hallo \" + \"Python!\") #eine mit dem +-Operator konkatenierte (verbundene) Zeichenketten\n",
    "print(\"Hallo\",\"Python!\") #als einzele Zeichenketten durch Komma getrennt\n",
    "print(\"Hallo\",\"Python!\", sep = \":-)\") # mit einem Trennzeichen (Seperator) zwischen jeder Zeichenkette"
   ]
  },
  {
   "cell_type": "markdown",
   "id": "1d37979c-a295-4bcc-bb52-eaa4d3c01100",
   "metadata": {},
   "source": [
    "Erzeuge anschließend die folgenden Ausgaben auf unterschiedliche Art und Weise:\n",
    "- Der Benutzer soll bei Start des Programmes begrüßt werden.\n",
    "- Erweitere um eine Mitteilung über das Ende des Programmes."
   ]
  },
  {
   "cell_type": "code",
   "execution_count": null,
   "id": "72e9c9a1-2c65-445e-8945-bdc0a66362ac",
   "metadata": {},
   "outputs": [],
   "source": [
    "#hier die Aufgabe 2.1.2 lösen und testen\n"
   ]
  },
  {
   "cell_type": "markdown",
   "id": "29eadfd5-ce0c-4951-b740-4cffe6031a09",
   "metadata": {},
   "source": [
    "**Aufgabe 2.1.3:**\n",
    "Nachfolgend ist die Ausgabe eines Login-Interfaces gegeben, implementiere dies mittels print-Befehlen:  \n",
    "`Benutzername: Admin`  \n",
    "`Passwort: *********`  \n",
    "`###################`  \n",
    "`Login erfolgreich!`"
   ]
  },
  {
   "cell_type": "code",
   "execution_count": null,
   "id": "f9a5cf75-89af-4d42-8eb0-0a71c18cf9f1",
   "metadata": {},
   "outputs": [],
   "source": [
    "#hier die Aufgabe 2.1.3 lösen und testen\n"
   ]
  },
  {
   "cell_type": "markdown",
   "id": "14077664-1e07-41de-a540-0a5b70d325b6",
   "metadata": {},
   "source": [
    "**Aufgabe 2.1.4:**\n",
    "In der vorherigen Aufgabe werden manche Zeichen mehrfach wiederholt. Dies kann in Python bei Zeichenketten mit einem *-Operator verkürzt werden, probiere das Beispiel aus und wende es anschließend auf die Aufgabe 2.1.3 an!"
   ]
  },
  {
   "cell_type": "code",
   "execution_count": null,
   "id": "07bfbe15-a92f-4019-9c9b-5e0d4dbf5157",
   "metadata": {},
   "outputs": [],
   "source": [
    "print(\"X\"*3)"
   ]
  },
  {
   "cell_type": "code",
   "execution_count": null,
   "id": "e3bc1bf5-3533-404e-bde2-1d8f15d55e8b",
   "metadata": {},
   "outputs": [],
   "source": [
    "#hier die Aufgabe 2.1.4 lösen und testen"
   ]
  },
  {
   "cell_type": "markdown",
   "id": "2cecca4b-d0aa-4ac3-bf68-05b6a5e9b706",
   "metadata": {},
   "source": [
    "**Aufgabe 2.1.5:**\n",
    "Die ausgegebenen Zeichenkette lassen sich noch weiter formatieren. Dazu wird ein Backslash \\, gefolgt von einem definierten Buchstaben/Zeichen verwendet:\n",
    "- \\n #Zeilenumbruch\n",
    "- \\t #Tabulatorsprung\n",
    "- \\\" #Anführungszeichen oben\n",
    "- \\' #Hochkomma oben\n",
    "Probiere die nachfolgenden Programmzeilen aus und verändere dein Programm aus Aufgabe 2.1.4 derart ab, sodass nur noch ein print-Befehl verwendet wird:"
   ]
  },
  {
   "cell_type": "code",
   "execution_count": null,
   "id": "36d9814a-71f5-411c-95f1-8a41b9a44918",
   "metadata": {},
   "outputs": [],
   "source": [
    "print(\"Hallo\\nPython!\")\n",
    "print(\"Hallo\\tPython!\")\n",
    "print(\"Hallo\\t\\tPython!\")\n",
    "print(\"Hallo\\\"Python\\\"!\")"
   ]
  },
  {
   "cell_type": "code",
   "execution_count": null,
   "id": "b6feb022-3cbb-4a57-baf6-13dcbc14b5f2",
   "metadata": {},
   "outputs": [],
   "source": [
    "#hier die Aufgabe 2.1.5 lösen und testen\n"
   ]
  },
  {
   "cell_type": "markdown",
   "id": "c3264b1f-feac-47f9-8ac4-9766bffe5956",
   "metadata": {},
   "source": [
    "**Aufgabe 2.1.6:**\n",
    "Erzeuge die folgende Ausgabe mit dem Ausschnitt deines Kollegiums unter Angabe von Name, Vorname und Fächer:  \n",
    "`Name              Vorname          Fächer`  \n",
    "`Mustermann        Max              De, En`  \n",
    "`Lieblingslehrerin Heidi            Ma, Ph`"
   ]
  },
  {
   "cell_type": "code",
   "execution_count": null,
   "id": "3af4ac18-eafd-49e5-b26d-fe13335ccfb7",
   "metadata": {},
   "outputs": [],
   "source": [
    "#hier die Aufgabe 2.1.6 lösen\n"
   ]
  },
  {
   "cell_type": "markdown",
   "id": "109eef1f-a541-4dc3-b446-28d80c9076aa",
   "metadata": {},
   "source": [
    "**Aufgabe 2.1.7:**\n",
    "Bereits die in Python integrierten Grundpakete ermöglichen die Verwendung mathematischer Operatoren und lassen Python somit für uns Rechnen. Führe die nachfolgenden Programmzeilen aus und kommentiere die Bedeutung des jeweiligen Operators (Hinweis: Sollte die Bedeutung eines Operators nicht klar sein, probiere andere Zahlen aus.):"
   ]
  },
  {
   "cell_type": "code",
   "execution_count": null,
   "id": "7a203046-d904-4ad4-80fd-5a9a0721f9b9",
   "metadata": {},
   "outputs": [],
   "source": [
    "#Aufgabe 2.1.7\n",
    "print(5+2)        #Bedeutung:\n",
    "print(5-2)        #Bedeutung:\n",
    "print(5*2)        #Bedeutung:\n",
    "print(5/2)        #Bedeutung:\n",
    "print(5//2)       #Bedeutung:\n",
    "print(5%2)        #Bedeutung:\n",
    "print(5**2)       #Bedeutung:\n",
    "print(round(5.6)) #Bedeutung:"
   ]
  },
  {
   "cell_type": "markdown",
   "id": "eadd3ccf-94b0-4169-944d-2a8bc6796500",
   "metadata": {},
   "source": [
    "**Aufgabe 2.1.8:**\n",
    "Deutlich dynamischer werden Programme durch die Verwendung von `Variablen`, sie dienen als ein Zwischenspeicher für Inhalte. So kann man den Benutzer zu einer Eingabe auffordern, diese Eingabe speichern und im Programm an anderer Stelle wieder aufrufen. Starte dazu das nachfolgende Programm."
   ]
  },
  {
   "cell_type": "code",
   "execution_count": null,
   "id": "6a033272",
   "metadata": {
    "id": "6a033272"
   },
   "outputs": [],
   "source": [
    "# Individuelle Begrüßung\n",
    "\n",
    "Anwender = input( \"Wie lautet Dein werter Name, Fremder? \")\n",
    "\n",
    "print (\"Sei gegrüßt,\", Anwender)"
   ]
  },
  {
   "cell_type": "markdown",
   "id": "Xg3dBAl7VHcp",
   "metadata": {
    "id": "Xg3dBAl7VHcp"
   },
   "source": [
    "Im obigen Beispiel heißt die Variable `Anwender`. Mithilfe des Zuweisungsoperator `=` wird ihr die Eingabe des input-Befehls zugewiesen. Wie du siehst, kannst in den input-Befehl in Anführungszeichen eine Information zur Eingabe hinzufügen, welche dem Benutzer angezeigt wird. Im print-Befehl wird die Variable aufgerufen und der zwischengespeicherte Wert gelesen und ausgegeben.\n",
    "\n",
    "<div class=\"alert alert-block alert-info\"><b>Merke:</b><br>\n",
    "Variablennamen sind frei wählbar, unterliegen aber ein paar Regeln:<br>  \n",
    "1. Variablennamen müssen mit einem Buchstaben `a-z` oder einem Unterstrich `_` beginnen. Unterstriche dürfen auch innerhalb des Namens vorkommen.<br> \n",
    "2. Python ist \"case-sensitive\", d.h. die Groß-/Kleinschreibung wird unterschieden (Beispiel: variable1 ist ungleich Variable1).<br>\n",
    "3. Variablennamen dürfen Ziffern `0-9` enthalten, aber nicht damit beginnen.<br>\n",
    "4. Interpunktionszeichen, wie `.` und `,`, sowie Sonderzeichen und alle Arten von Klammern (`$`,`§`,`%`,`()`,`{}`,`[]`) dürfen nicht verwendet werden.<br>\n",
    "5. Idealerweise sollte ihr sprechende Variablennamen verwendet, z.B. summand1 und nicht nur x1.<br>\n",
    "</div>"
   ]
  },
  {
   "cell_type": "markdown",
   "id": "97554045-f6db-4c00-922d-9eb925972749",
   "metadata": {},
   "source": [
    "**Aufgabe 2.1.9:**\n",
    "Gegeben ist nachfolgendes Programm. Kommentiere die Variablenbelegung, d.h. welcher Wert steht in der Variable nach Ausführung der Zeile. (Hinweis: Wenn du deine Lösung überprüfen möchtest, füge entweder am Ende oder nach jeder Zeile einen print-Befehl mit Ausgabe der Variablen ein.)"
   ]
  },
  {
   "cell_type": "code",
   "execution_count": null,
   "id": "46139e81-e394-4bf9-a10d-c4b2f7049f44",
   "metadata": {},
   "outputs": [],
   "source": [
    "#Aufgabe 2.1.9\n",
    "x = 5     #Inhalt x ist 5\n",
    "y = 12    #Inhalt x ist __ und y ist __\n",
    "x = x + x #Inhalt x ist __ und y ist __\n",
    "y = 2*y   #Inhalt x ist __ und y ist __\n",
    "x = y + x #Inhalt x ist __ und y ist __\n",
    "x = 5     #Inhalt x ist __ und y ist __\n",
    "y = x     #Inhalt x ist __ und y ist __\n",
    "print(x,y)"
   ]
  },
  {
   "cell_type": "markdown",
   "id": "08454f64-3e66-488f-9c1a-1662560180fc",
   "metadata": {},
   "source": [
    "**Aufgabe 2.1.10:**\n",
    "In der Schule werden im Bereich der Algorithmen Sortierverfahren betrachtet, d.h. eine unsortierte Zahlenfolge wird z.B. aufsteigend sortiert. Dabei werden die Inhalte zweier \"Variablen\" getauscht.\n",
    "Erläutere das Problem des nachfolgenden Programmcodes und korrigiere das Programm. (Hinweis: Du benötigst einen weiteren Zwischenspeicher.)"
   ]
  },
  {
   "cell_type": "code",
   "execution_count": null,
   "id": "bc5b0525-2e24-42c0-a868-b67e8a08b88d",
   "metadata": {},
   "outputs": [],
   "source": [
    "#Aufgabe 2.1.10\n",
    "zahl1 = 32\n",
    "zahl2 = 13\n",
    "print(\"Variableinhalte vor dem Tausch: \",\"Zahl1: \",zahl1, \"Zahl2: \", zahl2)\n",
    "zahl1 = zahl2\n",
    "zahl2 = zahl1\n",
    "print(\"Variableinhalte nach dem Tausch: \",\"Zahl1: \",zahl1, \"Zahl2: \", zahl2)\n",
    "\n",
    "#Problem: hier bitte das Problem beschreiben\n",
    "\n",
    "#Korrigiertes Programm:"
   ]
  },
  {
   "cell_type": "markdown",
   "id": "1a9661ca-ebd5-4d98-880b-d014a353054e",
   "metadata": {},
   "source": [
    "In der Aufgabe 2.1.10 wurde jetzt nicht nur der Datentyp Zeichenkette verwendet, sondern Integer (int) für ganze Zahlen.   \n",
    "Grundlegende Datentypen in jeder Programmiersprache sind:\n",
    "- str #Datentyp für Zeichenketten\n",
    "- int #Datentyp für ganze Zahlen\n",
    "- float #Datentyp für Fließkommazahlen\n",
    "- bool #Datentyp für Wahrheitswerte (True oder False, dazu später mehr)\n",
    "Datentypen kann man in Python anzeigen lassen mittels type-Befehl:  \n",
    "`print(type(variable))`"
   ]
  },
  {
   "cell_type": "markdown",
   "id": "c9ef1b7d-aa13-4ca6-bd0d-b5f28ff69634",
   "metadata": {},
   "source": [
    "Unterschiedliche Datentypen können zu Problemen führen, siehe zum Beispiel:"
   ]
  },
  {
   "cell_type": "code",
   "execution_count": null,
   "id": "5ed68a94-6945-488c-89a8-07676d202fce",
   "metadata": {},
   "outputs": [],
   "source": [
    "zahl1 = 32\n",
    "print(\"In der Variable zahl1 ist der Wert \" + zahl1 + \" zwischengespeichert\")"
   ]
  },
  {
   "cell_type": "markdown",
   "id": "555de756-0f89-4629-aaae-3ee72da5299d",
   "metadata": {},
   "source": [
    "<div class=\"alert alert-block alert-info\"><b>Merke:</b><br>\n",
    "Der +-Operator kann, z.B. in einem print-Befehl, nur zwischen Zeichenketten (Datentyp String) verwendet werden. Kommt eine Zahl als Zahl vor, so wird dies als mathematische Operation interpretiert und es wird einen Fehlermeldung angezeigt. Haben Daten eine gewisse Form, können sie ggfs. mittels Typumwandlung (type-casting) ineinander überführt werden, siehe unter 2.2.\n",
    "</div>"
   ]
  },
  {
   "cell_type": "markdown",
   "id": "3532f961-721b-443f-a152-626c5431764f",
   "metadata": {},
   "source": [
    "## 2.2 Der Basistyp Ganzzahl (Integer)\n",
    "\n",
    "Wenden wir uns nach der Eingabe von Zeichenketten nun auch der Eingabe ganzer Zahlen zu."
   ]
  },
  {
   "cell_type": "code",
   "execution_count": null,
   "id": "BaJwcpZgwNSt",
   "metadata": {
    "id": "BaJwcpZgwNSt"
   },
   "outputs": [],
   "source": [
    "# Unterscheide Zeichenketten und ganze Zahlen\n",
    "\n",
    "# + als Addition ganzer Zahlen\n",
    "a = 1\n",
    "b = 2\n",
    "print (\"1+2=\",a+b)\n",
    "\n",
    "# + als Konkatenation von Zeichenketten\n",
    "a = \"1\"\n",
    "b = \"2\"\n",
    "print ('\"1\"+\"2\"=',a+b)\n",
    "\n",
    "# Eingaben gelten als Zeichenketten\n",
    "a = input( \"Bitte eine 1 eingeben: \")\n",
    "b = input( \"Bitte eine 2 eingeben: \")\n",
    "print ( a, \"+\", b, \"ergibt\",a+b)\n",
    "\n",
    "# Umwandeln (casten) in ganze Zahlen\n",
    "a = int( input( \"Bitte eine 1 eingeben: \") )\n",
    "b = int( input( \"Bitte eine 2 eingeben: \") )\n",
    "print ( a, \"+\", b, \"ergibt mit cast\", a+b)\n"
   ]
  },
  {
   "cell_type": "markdown",
   "id": "fS7MHsGZx7x_",
   "metadata": {
    "id": "fS7MHsGZx7x_"
   },
   "source": [
    "Das Casten einer Zeichenkette in eine ganze Zahl erledigt die Funktion `int()`, der man die Zeichenkette als Parameter übergibt.\n",
    "\n",
    "**Aufgabe:**\n",
    "Ergänze das unvollständige Programm *Summe*, derart, dass die Summe der beiden Zahlen a und b ausgegeben wird. Du kannst dazu einfach den Quellcode verändern und ergänzen.\n"
   ]
  },
  {
   "cell_type": "code",
   "execution_count": null,
   "id": "kMXOwWajXe7r",
   "metadata": {
    "id": "kMXOwWajXe7r"
   },
   "outputs": [],
   "source": [
    "# Die Summe zweier Zahlen\n",
    "\n",
    "# Eingabe der beiden Summanden\n",
    "a = int( input(\"Die erste Zahl lautet: \") )\n",
    "b = \"todo\"\n",
    "print (\"Die Summe der beiden Zahlen lautet\", a)"
   ]
  },
  {
   "cell_type": "markdown",
   "id": "9GB7mKvwaGvV",
   "metadata": {
    "id": "9GB7mKvwaGvV"
   },
   "source": [
    "## 2.3 Der Basistyp Fließkommazahl (Float)\n",
    "\n",
    "Nach den Zeichenketten und den ganzen Zahlen schauen wir uns nun die Ein- und Ausgabe von Fließkommazahlen an.\n",
    "\n",
    "**Aufgabe:**\n",
    "Im folgenden Quellcode ist ein typischer Fehler enthalten. Er führt zu einem Typfehler. Achtung: Der angezeigte Ort des Fehlers ist schon eine Zeile über den wirklichen Fehler hinaus.\n",
    "Probiere den Code aus und korrigiere den Fehler. Falls Du ihn nicht findest, lies den Hinweis im Anschluss."
   ]
  },
  {
   "cell_type": "code",
   "execution_count": null,
   "id": "3da24f0f",
   "metadata": {
    "scrolled": true
   },
   "outputs": [],
   "source": [
    "# Der Umfang eines Kreises\n",
    "\n",
    "Pi = 3.141592654 # zumindest gerundet auf 9 Nachkommastellen\n",
    "\n",
    "Radius = 3,5\n",
    "\n",
    "Umfang = 2 * Pi * Radius\n",
    "\n",
    "print( \"Ein Kreis mit Radius\", Radius, \"Einheiten hat einen Umfang von\", Umfang,\"Einheiten.\" )"
   ]
  },
  {
   "cell_type": "markdown",
   "id": "55636f7b",
   "metadata": {
    "id": "9GB7mKvwaGvV"
   },
   "source": [
    "**Hinweis:** (Achtung Spoiler, Auflösung zur obigen Aufgabe)\n",
    "\n",
    "<div class=\"alert alert-block alert-info\"><b>Merke:</b><br>\n",
    "Die Fehlermeldung bezieht sich auf den Versuch, die beiden Variablen Pi und Radius zu multiplizieren. Der Fehler steckt jedoch bereits in der Zuweisung des Radius. Die englische Schreibweise für Kommazahlen verwendet einen Punkt statt des in Deutschland üblichen Kommas. Korrekt lautet die Zuweisung daher Radius = 3.5 statt Radius = 3,5.\n",
    "</div>"
   ]
  },
  {
   "cell_type": "code",
   "execution_count": null,
   "id": "d2b99354",
   "metadata": {},
   "outputs": [],
   "source": [
    "# Der Umfang eines Kreises mit Eingabe des Radius\n",
    "\n",
    "Pi = 3.141592654 # zumindest gerundet auf 9 Nachkommastellen\n",
    "\n",
    "Radius = float( input( \"Gib den Radius des Kreises ohne Einheit an: \") )\n",
    "\n",
    "Umfang = 2 * Pi * Radius\n",
    "\n",
    "print( \"Ein Kreis mit Radius\", Radius, \"Einheiten hat einen Umfang von\", Umfang,\"Einheiten.\" )"
   ]
  },
  {
   "cell_type": "markdown",
   "id": "0e0e0c5e",
   "metadata": {
    "id": "9GB7mKvwaGvV"
   },
   "source": [
    "Auch hier wird die Eingabe als Zeichenkette interpretiert und muss erst durch den cast `float()`analog dem cast `ìnt()` für ganze Zahlen in eine Fließkommazahl umgewandelt werden.\n",
    "\n",
    "**Aufgabe:**\n",
    "Editiere den obigen Code und entferne den cast `float()`. Zur Laufzeit erscheint nun wieder eine Fehlermeldung.\n",
    "\n",
    "## 2.4 Der Basistyp Wahrheitswert (Boolean)\n",
    "\n",
    "Der letzte uns noch fehlende der vier Basistypen ist der Wahrheitswert. Eine Eingabe eines Wahrheitswertes durch den Anwender ist eher ungewöhnlich. Er entsteht üblicherweise aus anderen Informationen.\n",
    "\n",
    "**Aufgabe:**\n",
    "Ändere die Deklaration der drei Variablen a, b und c im folgenden Programm nach Belieben auf wahr (True) oder belasse sie bei falsch (False). Ziel ist es jedoch, dass das Programm den Wahrheitswert True ausgibt. \n",
    "Notfalls hilt Probieren, es gibt ja nur acht Möglichkeiten ...\n",
    "\n"
   ]
  },
  {
   "cell_type": "code",
   "execution_count": null,
   "id": "628f3931",
   "metadata": {},
   "outputs": [],
   "source": [
    "# Finde die passende Belegung der drei booleschen Variablen a, b und c.\n",
    "# Die Ausgabe des Programms soll True sein.\n",
    "a = False # darf auf True verändert werden\n",
    "b = False # darf auf True verändert werden\n",
    "c = False # darf auf True verändert werden\n",
    "\n",
    "# Finger weg vom weiteren Code\n",
    "# print (True) gilt nicht!\n",
    "\n",
    "d = a and b\n",
    "e = (not b) and c\n",
    "f = not d\n",
    "\n",
    "print (e and f and a)"
   ]
  },
  {
   "cell_type": "markdown",
   "id": "c14090ed-a6ab-4b57-ae35-42a5adc17a05",
   "metadata": {},
   "source": [
    "# 2.5 Elementare Ausdrücke und mathematische Formeln\n",
    "\n",
    "Wir haben schon bemerkt, dass man mit dem Plus - Operator sowohl Zahlen addieren kann, als auch Zeichenketten miteinander verbinden. Der Fachbegriff dafür heißt Überladung von Operatoren. Es gibt Computersprachen, in denen man auch selbst Operatoren überladen kann, sich also seine eigene Addition definieren kann.\n",
    "Aber das ist für uns noch ferne Zukunftsmusik. Wir beschäftigen uns lieber mit weiteren, einfachen Beispielen von Berechnungen mit den Informationen, die wir nun ja schon ein- und ausgeben können.\n",
    "\n",
    "Hier noch einmal zur Wiederholung die Rechenoperatoren."
   ]
  },
  {
   "cell_type": "code",
   "execution_count": null,
   "id": "ca74ff76",
   "metadata": {},
   "outputs": [],
   "source": [
    "# Beispiel für diverse Rechenoperatoren\n",
    "\n",
    "a = 1 + 2      # Addition\n",
    "b = 3 - 4      # Subtraktion\n",
    "c = 5 * 6      # Multiplikation\n",
    "d = 7 // 8     # ganzzahlige Division\n",
    "e = 7 % 8      # Rest der ganzzahligen Division (Modulo - Operation)\n",
    "f = 7 / 8      # Fließkomma-Division\n",
    "g = 9 ** 10    # Potenzieren\n",
    "\n",
    "print( a, b, c, d, e, f, g)\n",
    "\n",
    "h = abs(-11)   # und als Zugabe der Betrag einer Zahl\n",
    "print (\"Zugabe:\",h)\n"
   ]
  },
  {
   "cell_type": "markdown",
   "id": "541d770c-591c-47f3-8d0e-d37c4c79dd6a",
   "metadata": {},
   "source": [
    "**Aufgabe 2.5.1:**\n",
    "Verändere das gegebene Beispiel darüber um die Eingabe der Operanden!"
   ]
  },
  {
   "cell_type": "code",
   "execution_count": null,
   "id": "56eb194c-8d8b-4817-aef9-7236a609a59b",
   "metadata": {},
   "outputs": [],
   "source": [
    "#löse die Aufgabe 2.5.1 und teste\n"
   ]
  },
  {
   "cell_type": "markdown",
   "id": "b4a18d80",
   "metadata": {},
   "source": [
    "**Aufgabe 2.5.2:** \n",
    "Nach den Rechenoperatoren schauen wir nun noch, was ein Taschenrechner, noch so zu bieten hat.\n",
    "Nicht alles davon werden wir brauchen, aber falls doch, so erspart Ihr Euch die Suche dannach."
   ]
  },
  {
   "cell_type": "code",
   "execution_count": null,
   "id": "f10ea422",
   "metadata": {},
   "outputs": [],
   "source": [
    "# Der eingebaute Taschenrechner\n",
    "\n",
    "import math #hier wird eine Bibliothek math mit zusätzlichen Rechenoperationen importiert\n",
    "\n",
    "print (math.sqrt(2))         # Quadratwurzelfunktion\n",
    "print (math.pi)              # Die Konstante Pi\n",
    "print (math.sin(math.pi))    # Die Sinus-Funktion\n",
    "print (math.cos(math.pi))    # Die Kosinus-Funktion\n",
    "print (math.tan(math.pi))    # Die Tangens-Funktion\n",
    "print (math.e)               # Die eulersche Zahl e\n",
    "print (math.log(math.e))     # natürlicher Logarithmus\n",
    "print (math.log(8,2))        # Logarithmus zur Basis 2\n",
    "print (math.factorial(4))    # Fakultät 4!"
   ]
  },
  {
   "cell_type": "markdown",
   "id": "84569d52-a5af-4c9d-bd2c-06ac370af9b1",
   "metadata": {},
   "source": [
    "**Aufgabe 2.5.3:**\n",
    "Eine wichtige Operation in der Programmierung ist den Wert einer Variablen zu erhöhen bzw. zu verringern. Dazu ist eine Lese-Schreibzugriff auf die gleiche Variable notwendig. Probier dazu das gegebene Beispiel und löse anschließend die folgenden Aufgaben:\n",
    "- Implementiere die Erhöhung einer Variablen um 3.\n",
    "- Implementiere die Verringerung um 1!\n",
    "Lasse dir jeweils den Inhalt deiner Variablen vor und nach der Operation anzeigen."
   ]
  },
  {
   "cell_type": "code",
   "execution_count": null,
   "id": "e58f2493-01b7-4eae-92d6-633d39286572",
   "metadata": {},
   "outputs": [],
   "source": [
    "#Beispiel zu Aufgabe 2.5.3\n",
    "zahl1 = 32\n",
    "print(zahl1)\n",
    "zahl1 = zahl1 + 1 #erst Lesezugriffs rechte Seite, dann Erhöhung um 1, danach Schreibzugriff und der \"alte\" Wert wird überschrieben\n",
    "print(zahl1)"
   ]
  },
  {
   "cell_type": "code",
   "execution_count": null,
   "id": "df1aee72-ea57-4e98-80e0-c7eb8db53f38",
   "metadata": {},
   "outputs": [],
   "source": [
    "#eigene Lösungen zur 2.5.3\n"
   ]
  },
  {
   "cell_type": "markdown",
   "id": "3341640a-fc59-49aa-bb6b-31ecbcfda5fc",
   "metadata": {},
   "source": [
    "**Aufgabe 2.5.4:**\n",
    "Implementiere ein Programm zur Eingabe von Länge und Breite, welche jeweils in einer passenden Variable gespeichert werden. Anschließend soll daraus der Flächeninhalt eines Rechtecks berechnet und ausgegeben werden."
   ]
  },
  {
   "cell_type": "code",
   "execution_count": null,
   "id": "298ad797-3fa9-4fe9-b4ce-974a33db23c1",
   "metadata": {},
   "outputs": [],
   "source": [
    "#Aufgabe 2.5.4\n"
   ]
  },
  {
   "cell_type": "markdown",
   "id": "eae5002c-817b-4491-ad09-0860a9ca8c0c",
   "metadata": {},
   "source": [
    "**Aufgabe 2.5.5:**\n",
    "Implementiere ein Programm zur Berechnung des Volumens eines Quaders."
   ]
  },
  {
   "cell_type": "code",
   "execution_count": null,
   "id": "b98c5e45-826d-489e-ae2c-87d70d0f17ac",
   "metadata": {},
   "outputs": [],
   "source": [
    "#Aufgabe 2.5.5\n"
   ]
  },
  {
   "cell_type": "markdown",
   "id": "95be14db-68a9-4640-bfc1-25fdef05dcdc",
   "metadata": {},
   "source": [
    "**Aufgabe 2.5.6:**\n",
    "Recherchiere im Internet nach einer Formeln zur Berechnung des Zinseszins und implementiere das zugehörige Programm."
   ]
  },
  {
   "cell_type": "code",
   "execution_count": null,
   "id": "7707bffe-3ea5-4d58-8308-2a591dd8acb0",
   "metadata": {},
   "outputs": [],
   "source": [
    "#Aufgabe 2.5.6\n"
   ]
  },
  {
   "cell_type": "markdown",
   "id": "48117035-4274-4d3d-ad26-899ddbd5820e",
   "metadata": {},
   "source": [
    "**Aufgabe 2.5.7: BMI-Rechner**\n",
    "Der Body-Mass-Index (kurz: BMI) ist die gebräuchlichste Formel zur Gewichtsberechnung. Er berechnet sich aus dem Quotienten Körpergewichts (in Kilogramm) und der Körpergröße (in Meter) zum Quadrat. Implementiere das zugehörige Programm mitsamt Eingabe, Variabelen und Ausgabe."
   ]
  },
  {
   "cell_type": "code",
   "execution_count": null,
   "id": "97c473fb-8a22-4cea-8973-a808c045c000",
   "metadata": {},
   "outputs": [],
   "source": [
    "#Aufgabe 2.5.7\n"
   ]
  },
  {
   "cell_type": "markdown",
   "id": "a3a30c9d-b618-4ca6-bf21-c07b41cbcb26",
   "metadata": {},
   "source": [
    "**Aufgabe 2.5.8:**\n",
    "Ein Eisenwarenhändler verkauft Schrauben zum Preis von 20 Cent das Stück und Nägel für 8 Cent pro Stück. Schreibe ein Programm zur Eingabe der jeweiligen Einkaufsmenge und Ausgabe der Gesamtkosten in Euro."
   ]
  },
  {
   "cell_type": "code",
   "execution_count": null,
   "id": "4bee0ff6-5527-48dd-8071-23bf310d38f9",
   "metadata": {},
   "outputs": [],
   "source": [
    "#Aufgabe 2.5.8\n"
   ]
  },
  {
   "cell_type": "markdown",
   "id": "f178f188",
   "metadata": {},
   "source": [
    "\n",
    "# Vertiefende Aufgaben\n",
    "\n",
    "Wir wollen die Ein- und Ausgabe von Basistypen sowie die Verwendung von Variablen abschließend durch einige Aufgaben vertiefen. In den Kommentaren zur Aufgabenstellung findest Du teilweise zusätzliche Informationen, die Du zum Bearbeiten benötigst. Im Anschluss findest Du zur Kontrolle auch mögliche Musterlösungen zum Vergleich mit Deinen Ergebnissen. Viel Erfolg und auch Vergnügen.\n"
   ]
  },
  {
   "cell_type": "code",
   "execution_count": null,
   "id": "06185fef-8525-45c8-b890-240c0a09a8c5",
   "metadata": {},
   "outputs": [],
   "source": [
    "# Aufgabe Vorgänger und Nachfolger\n",
    "# Aufgabenstellung:\n",
    "# Lasse Dir eine ganze Zahl z eingeben.\n",
    "# Gib dazu den Vorgänger und den Nachfolger der Zahl aus\n"
   ]
  },
  {
   "cell_type": "code",
   "execution_count": null,
   "id": "717a6dd4-e7cf-4258-9339-c2f55de6fe37",
   "metadata": {},
   "outputs": [],
   "source": [
    "# Aufgabe Betrag einer ganzen Zahl\n",
    "\n",
    "# Python kennt nur den Datentyp Integer einer ganzen Zahl,\n",
    "# nicht jedoch einen Datentyp für natürliche Zahlen.\n",
    "# Falls Dein Programm Probleme bei der Eingabe negativer Zahlen z hätte,\n",
    "# kannst Du dies mit dem Betrag der Zahl vermeiden.\n",
    "\n",
    "# Aufgabenstellung:\n",
    "# Lasse Dir eine ganze Zahl z eingeben.\n",
    "# Weise der Variablen n den Betrag der Zahl z zu und gib n aus.\n"
   ]
  },
  {
   "cell_type": "code",
   "execution_count": null,
   "id": "1f8dbf60-f289-4373-90e3-cf96d41455b2",
   "metadata": {},
   "outputs": [],
   "source": [
    "# Aufgabe Rechteck\n",
    "# Aufgabenstellung:\n",
    "# Lasse Dir die Seitenlängen a und b eines Rechtecks in Zentimetern angeben.\n",
    "# Berechne dazu den Umfang U=2(a+b) und die Fläche A=ab des Rechtecks und gib diese Informationen aus.\n",
    "# Hinweis: Das in der Mathematik übliche Weglassen des Multiplikationszeichens * ist in Programmen nicht erlaubt.\n"
   ]
  },
  {
   "cell_type": "markdown",
   "id": "0389df14-2a31-41fc-bc33-7c520ff625bd",
   "metadata": {},
   "source": [
    "So, und nun die Musterlösungen zu vorigen Aufgaben:"
   ]
  },
  {
   "cell_type": "code",
   "execution_count": null,
   "id": "c8ac60ee-303c-4a17-84ec-92df1d09b5a3",
   "metadata": {},
   "outputs": [],
   "source": [
    "# Musterlösung zur Aufgabe Vorgänger und Nachfolger\n",
    "# Aufgabenstellung:\n",
    "# Lasse Dir eine ganze Zahl z eingeben.\n",
    "# Gib dazu den Vorgänger und den Nachfolger der Zahl aus\n",
    "\n",
    "z = int( input( \"Bitte gib eine ganze Zahl ein: \") )\n",
    "\n",
    "print (\"Der Vorgänger der Zahl\", z, \"ist die Zahl\",z-1)\n",
    "print (\"Der Nachfolger der Zahl\", z, \"ist die Zahl\",z+1)\n"
   ]
  },
  {
   "cell_type": "code",
   "execution_count": null,
   "id": "b66d67d1-2db4-4a0f-a60b-f961b05b1a7d",
   "metadata": {},
   "outputs": [],
   "source": [
    "# Musterlösung zur Aufgabe Betrag einer ganzen Zahl\n",
    "\n",
    "# Python kennt nur den Datentyp Integer einer ganzen Zahl,\n",
    "# nicht jedoch einen Datentyp für natürliche Zahlen.\n",
    "# Falls Dein Programm Probleme bei der Eingabe negativer Zahlen z hätte,\n",
    "# kannst Du dies mit dem Betrag der Zahl vermeiden.\n",
    "\n",
    "# Aufgabenstellung:\n",
    "# Lasse Dir eine ganze Zahl z eingeben.\n",
    "# Weise der Variablen n den Betrag der Zahl z zu und gib n aus.\n",
    "\n",
    "z = int( input( \"Bitte gib eine ganze Zahl ein: \") )\n",
    "n = abs(z)\n",
    "print (\"Der Betrag der Zahl\", z, \"ist die Zahl\",n)"
   ]
  },
  {
   "cell_type": "code",
   "execution_count": null,
   "id": "a55af2fb-8790-4004-bb62-27d8760e965d",
   "metadata": {},
   "outputs": [],
   "source": [
    "# Musterlösung zur Aufgabe Rechteck\n",
    "# Aufgabenstellung:\n",
    "# Lasse Dir die Seitenlängen a und b eines Rechtecks in Zentimetern angeben.\n",
    "# Berechne dazu den Umfang U=2(a+b) und die Fläche A=ab des Rechtecks und gib diese Informationen aus.\n",
    "# Hinweis: Das in der Mathematik übliche Weglassen des Multiplikationszeichens * ist in Programmen nicht erlaubt.\n",
    "\n",
    "a = float( input( \"Angabe der Seitlänge a in cm: \") )\n",
    "b = float( input( \"Angabe der Seitlänge b in cm: \") )\n",
    "\n",
    "U = 2*(a+b)\n",
    "A = a*b\n",
    "\n",
    "print (\"Umfang des Rechtecks:\", U, \"cm\")\n",
    "print (\"Fläche des Rechtecks:\", A, \"cm²\")\n"
   ]
  },
  {
   "cell_type": "markdown",
   "id": "c5fff6bc-515d-480b-a499-d2c754744545",
   "metadata": {},
   "source": [
    "# 2.6 Grundlegende Aufgaben zur Turtle\n",
    "**Achtung:** Die Aufgaben zur Turtle muss du in **Tigerjython** oder **Webtigerjython** implementieren. Dies ist nicht in dieser Umgebung möglich!"
   ]
  },
  {
   "cell_type": "markdown",
   "id": "47920c6c-2049-49b4-ae76-f075816149ae",
   "metadata": {},
   "source": [
    "Die Turtle besitzt unter anderem die folgenden Befehle:\n",
    "- from gturtle import* #Turtle-Bibliothek einbinden\n",
    "- makeTurtle() #Turtle erzeugen\n",
    "- forward(Zahl) #vorwärts um angegebene Zahl\n",
    "- backward(Zahl) #rückwärts um angegebene Zahl\n",
    "- left(Winkel) #um angegebenen Winkel nach links drehen\n",
    "- right(Winkel) #um angegebenen Winkel nach rechts drehen\n",
    "- penUp() #hebt den Zeichenstift\n",
    "- penDown() #senkt den Zeichenstift\n",
    "- dot(Zahl) #zeichnet einen Punkt in angegebener Größe\n",
    "Natürlich sind auch alle vorher kennengelernte Dinge wie Variablen, Formeln, Eingaben und Ausgaben mit der Turtle kombinierbar."
   ]
  },
  {
   "cell_type": "markdown",
   "id": "fbb468e4-a053-415c-9417-8f0104d8afec",
   "metadata": {},
   "source": [
    "**Aufgabe 2.6.1:**\n",
    "Die Turtle soll einfache Objekte zeichnen, die Distanz ist dabei frei wählbar. Verwende für die Distanzen sowie Winkel Variablen und trage diese in den Klammern des Turtle-Befehls ein.  \n",
    "Beispiel:  \n",
    "winkel = 90  \n",
    "left(winkel)\n",
    "\n",
    "1. Quadrat\n",
    "2. Rechteck\n",
    "3. rechtwinklig-gleichschenkliges Dreieck\n",
    "4. gleichseitige Dreieck"
   ]
  },
  {
   "cell_type": "code",
   "execution_count": null,
   "id": "0d672dc3-990b-4136-82ad-7832aba45508",
   "metadata": {},
   "outputs": [],
   "source": [
    "#Aufgabe 2.6.1\n"
   ]
  },
  {
   "cell_type": "markdown",
   "id": "88ceaf96-032b-47b0-9e8f-c49c8b78dbfd",
   "metadata": {},
   "source": [
    "**Aufgabe 2.6.2:**\n",
    "Erweitere deine Programme aus 2.6.1 um die Eingabe und Zwischenspeicherung relevanter Informationen. Python soll notwendige Distanzen bzw. Winkel berechnen."
   ]
  },
  {
   "cell_type": "code",
   "execution_count": null,
   "id": "8dc078e8-8f85-48f0-870b-c41fc21843db",
   "metadata": {},
   "outputs": [],
   "source": [
    "#Aufgabe 2.6.2\n"
   ]
  },
  {
   "cell_type": "markdown",
   "id": "4349ed89-4766-44ef-a2d3-b0ad4f8c7304",
   "metadata": {},
   "source": [
    "**Aufgabe 2.6.3:**\n",
    "Zeichne das Haus vom Nikolaus mit einem rechtwinklig-gleichschenkligen Dreieck als Dach. Python soll notwendige Distanzen bzw. Winkel berechnen."
   ]
  },
  {
   "cell_type": "code",
   "execution_count": null,
   "id": "9416638b-e1fa-4513-88f7-a836b80a0c1e",
   "metadata": {},
   "outputs": [],
   "source": [
    "#Aufgabe 2.6.3\n"
   ]
  }
 ],
 "metadata": {
  "colab": {
   "collapsed_sections": [],
   "name": "Python.Intro.ipynb",
   "private_outputs": true,
   "provenance": []
  },
  "kernelspec": {
   "display_name": "Python 3 (ipykernel)",
   "language": "python",
   "name": "python3"
  },
  "language_info": {
   "codemirror_mode": {
    "name": "ipython",
    "version": 3
   },
   "file_extension": ".py",
   "mimetype": "text/x-python",
   "name": "python",
   "nbconvert_exporter": "python",
   "pygments_lexer": "ipython3",
   "version": "3.7.12"
  }
 },
 "nbformat": 4,
 "nbformat_minor": 5
}
