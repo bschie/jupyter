{
 "cells": [
  {
   "cell_type": "markdown",
   "id": "7ff322cf",
   "metadata": {
    "id": "7ff322cf"
   },
   "source": [
    "# Ein- und Ausgabe\n",
    "Um mit uns Anwendern zu kommunizieren, können Programme Informationen ausgeben und bei uns anfragen. Starten wir mit der Ausgabe des Textes *Hallo Welt*.\n",
    "\n",
    "## Der Basistyp Zeichenkette (String)\n",
    "Eine sehr einfache Form von Information ist eine Folge von Zeichen, die wir Zeichenkette oder englisch String nennen. Wir markieren den Beginn und das Ende einer Zeichenkette in Python jeweils mit einem Anführungszeichen.\n",
    "\n",
    "**Beispiele:**\n",
    "\"Dies ist eine Zeichenkette.\"\n",
    "\"Hurra\"\n",
    "\"das ist sehr einfach!\"\n",
    "\n",
    "So, und hier kommt nun endlich unser erstes Programm in Python:"
   ]
  },
  {
   "cell_type": "code",
   "execution_count": 1,
   "id": "4f54a7d4",
   "metadata": {
    "id": "4f54a7d4"
   },
   "outputs": [
    {
     "name": "stdout",
     "output_type": "stream",
     "text": [
      "Hallo Welt\n"
     ]
    }
   ],
   "source": [
    "# Tradition ist Tradition\n",
    "\n",
    "# eine neue Sprache probiert man üblicherweise durch ein Program aus,\n",
    "# das nichts weiter tut, als die Welt zu begrüßen.\n",
    "\n",
    "# der Rest einer Zeile, rechts von einem Hashtag ist in Python ein Kommentar\n",
    "# und wird bei der Ausführung ignoriert.\n",
    "# Bis zu dieser Zeile ist also noch nichts passiert.\n",
    "\n",
    "print (\"Hallo Welt\")"
   ]
  },
  {
   "cell_type": "markdown",
   "id": "67dc16ea",
   "metadata": {
    "id": "67dc16ea"
   },
   "source": [
    "**Aufgabe:**\n",
    "Wähle den Code oberhalb dieser Aufgabe aus und starte ihn durch Klick auf den Befehl `Run` mit dem kleinen Dreieck davor oben im Menu. Die Ausgabe des Programms findest Du dann direkt darunter.\n",
    "\n",
    "\n",
    "Der Befehl `print()` kann Informationen, wie zum Beispiel die Zeichenkette *Hallo Welt* ausgeben. Falls mehr als eine Information ausgegeben werden soll, dann werden diese durch Kommata voneinander getrennt.\n",
    "\n",
    "`print (\"Hallo\",\"Welt\")` gäbe also die beiden Zeichenketten *Hallo* und *Welt* aus.\n",
    "\n",
    "Dieses wundervolle Programm soll nun erweitert werden, so dass es nicht die ganze Welt, sondern nur die Nutzer:in an der Eingabe begrüßt.\n",
    "Dazu verwenden wir eine **Variable**, die sich deren Namen merken kann. Wir nennen diese Variable *Anwender*."
   ]
  },
  {
   "cell_type": "code",
   "execution_count": null,
   "id": "6a033272",
   "metadata": {
    "id": "6a033272"
   },
   "outputs": [],
   "source": [
    "# Individuelle Begrüßung\n",
    "\n",
    "Anwender = input( \"Wie lautet Dein werter Name, Fremder? \")\n",
    "\n",
    "print (\"Sei gegrüßt,\", Anwender)"
   ]
  },
  {
   "cell_type": "markdown",
   "id": "Xg3dBAl7VHcp",
   "metadata": {
    "id": "Xg3dBAl7VHcp"
   },
   "source": [
    "**Aufgabe**\n",
    "Starte auch diesen Code und wähle einen Namen Deiner Wahl zur angefragten Eingabe. Er wird dann in der Begrüßung verwendet werden.\n",
    "\n",
    "## Der Basistyp Ganzzahl (Integer)\n",
    "\n",
    "Wenden wir uns nach der Eingabe von Zeichenketten nun auch der Eingabe ganzer Zahlen zu."
   ]
  },
  {
   "cell_type": "code",
   "execution_count": null,
   "id": "BaJwcpZgwNSt",
   "metadata": {
    "id": "BaJwcpZgwNSt"
   },
   "outputs": [],
   "source": [
    "# Unterscheide Zeichenketten und ganze Zahlen\n",
    "\n",
    "# + als Addition ganzer Zahlen\n",
    "a = 1\n",
    "b = 2\n",
    "print (\"1+2=\",a+b)\n",
    "\n",
    "# + als Konkatenation von Zeichenketten\n",
    "a = \"1\"\n",
    "b = \"2\"\n",
    "print ('\"1\"+\"2\"=',a+b)\n",
    "\n",
    "# Eingaben gelten als Zeichenketten\n",
    "a = input( \"Bitte eine 1 eingeben: \")\n",
    "b = input( \"Bitte eine 2 eingeben: \")\n",
    "print ( a, \"+\", b, \"ergibt\",a+b)\n",
    "\n",
    "# Umwandeln (casten) in ganze Zahlen\n",
    "a = int( input( \"Bitte eine 1 eingeben: \") )\n",
    "b = int( input( \"Bitte eine 2 eingeben: \") )\n",
    "print ( a, \"+\", b, \"ergibt mit cast\", a+b)\n"
   ]
  },
  {
   "cell_type": "markdown",
   "id": "fS7MHsGZx7x_",
   "metadata": {
    "id": "fS7MHsGZx7x_"
   },
   "source": [
    "Das Casten einer Zeichenkette in eine ganze Zahl erledigt die Funktion `int()`, der man die Zeichenkette als Parameter übergibt.\n",
    "\n",
    "**Aufgabe:**\n",
    "Ergänze das unvollständige Programm *Summe*, derart, dass die Summe der beiden Zahlen a und b ausgegeben wird. Du kannst dazu einfach den Quellcode verändern und ergänzen.\n"
   ]
  },
  {
   "cell_type": "code",
   "execution_count": null,
   "id": "kMXOwWajXe7r",
   "metadata": {
    "id": "kMXOwWajXe7r"
   },
   "outputs": [],
   "source": [
    "# Die Summe zweier Zahlen\n",
    "\n",
    "# Eingabe der beiden Summanden\n",
    "a = int( input(\"Die erste Zahl lautet: \") )\n",
    "b = \"todo\"\n",
    "print (\"Die Summe der beiden Zahlen lautet\", a)"
   ]
  },
  {
   "cell_type": "markdown",
   "id": "9GB7mKvwaGvV",
   "metadata": {
    "id": "9GB7mKvwaGvV"
   },
   "source": [
    "## Der Basistyp Fließkommazahl (Float)\n",
    "\n",
    "Nach den Zeichenketten und den ganzen Zahlen schauen wir uns nun die Ein- und Ausgabe von Fließkommazahlen an.\n",
    "\n",
    "**Aufgabe:**\n",
    "Im folgenden Quellcode ist ein typischer Fehler enthalten. Er führt zu einem Typfehler. Achtung: Der angezeigte Ort des Fehlers ist schon eine Zeile über den wirklichen Fehler hinaus.\n",
    "Probiere den Code aus und korrigiere den Fehler. Falls Du ihn nicht findest, lies den Hinweis im Anschluss."
   ]
  },
  {
   "cell_type": "code",
   "execution_count": null,
   "id": "3da24f0f",
   "metadata": {
    "scrolled": true
   },
   "outputs": [],
   "source": [
    "# Der Umfang eines Kreises\n",
    "\n",
    "Pi = 3.141592654 # zumindest gerundet auf 9 Nachkommastellen\n",
    "\n",
    "Radius = 3,5\n",
    "\n",
    "Umfang = 2 * Pi * Radius\n",
    "\n",
    "print( \"Ein Kreis mit Radius\", Radius, \"Einheiten hat einen Umfang von\", Umfang,\"Einheiten.\" )"
   ]
  },
  {
   "cell_type": "markdown",
   "id": "55636f7b",
   "metadata": {
    "id": "9GB7mKvwaGvV"
   },
   "source": [
    "**Hinweis:** (Achtung Spoiler, Auflösung zur obigen Aufgabe)\n",
    "\n",
    "Die Fehlermeldung bezieht sich auf den Versuch, die beiden Variablen Pi und Radius zu multiplizieren. Der Fehler steckt jedoch bereits in der Zuweisung des Radius. Die englische Schreibweise für Kommazahlen verwendet einen Punkt statt des in Deutschland üblichen Kommas. Korrekt lautet die Zuweisung daher `Radius = 3.5` statt `Radius = 3,5`.\n"
   ]
  },
  {
   "cell_type": "code",
   "execution_count": null,
   "id": "d2b99354",
   "metadata": {},
   "outputs": [],
   "source": [
    "# Der Umfang eines Kreises mit Eingabe des Radius\n",
    "\n",
    "Pi = 3.141592654 # zumindest gerundet auf 9 Nachkommastellen\n",
    "\n",
    "Radius = float( input( \"Gib den Radius des Kreises ohne Einheit an: \") )\n",
    "\n",
    "Umfang = 2 * Pi * Radius\n",
    "\n",
    "print( \"Ein Kreis mit Radius\", Radius, \"Einheiten hat einen Umfang von\", Umfang,\"Einheiten.\" )"
   ]
  },
  {
   "cell_type": "markdown",
   "id": "0e0e0c5e",
   "metadata": {
    "id": "9GB7mKvwaGvV"
   },
   "source": [
    "Auch hier wird die Eingabe als Zeichenkette interpretiert und muss erst durch den cast `float()`analog dem cast `ìnt()` für ganze Zahlen in eine Fließkommazahl umgewandelt werden.\n",
    "\n",
    "**Aufgabe:**\n",
    "Editiere den obigen Code und entferne den cast `float()`. Zur Laufzeit erscheint nun wieder eine Fehlermeldung.\n",
    "\n",
    "## Der Basistyp Wahrheitswert (Boolean)\n",
    "\n",
    "Der letzte uns noch fehlende der vier Basistypen ist der Wahrheitswert. Eine Eingabe eines Wahrheitswertes durch den Anwender ist eher ungewöhnlich. Er entsteht üblicherweise aus anderen Informationen.\n",
    "\n",
    "**Aufgabe:**\n",
    "Ändere die Deklaration der drei Variablen a, b und c im folgenden Programm nach Belieben auf wahr (True) oder belasse sie bei falsch (False). Ziel ist es jedoch, dass das Programm den Wahrheitswert True ausgibt. \n",
    "Notfalls hilt Probieren, es gibt ja nur acht Möglichkeiten ...\n",
    "\n"
   ]
  },
  {
   "cell_type": "code",
   "execution_count": null,
   "id": "628f3931",
   "metadata": {},
   "outputs": [],
   "source": [
    "# Finde die passende Belegung der drei booleschen Variablen a, b und c.\n",
    "# Die Ausgabe des Programms soll True sein.\n",
    "a = False # darf auf True verändert werden\n",
    "b = False # darf auf True verändert werden\n",
    "c = False # darf auf True verändert werden\n",
    "\n",
    "# Finger weg vom weiteren Code\n",
    "# print (True) gilt nicht!\n",
    "\n",
    "d = a and b\n",
    "e = (not b) and c\n",
    "f = not d\n",
    "\n",
    "print (e and f and a)"
   ]
  },
  {
   "cell_type": "markdown",
   "id": "c14090ed-a6ab-4b57-ae35-42a5adc17a05",
   "metadata": {},
   "source": [
    "# Elementare Ausdrücke\n",
    "\n",
    "Wir haben schon bemerkt, dass man mit dem Plus - Operator sowohl Zahlen addieren kann, als auch Zeichenketten miteinander verbinden. Der Fachbegriff dafür heißt Überladung von Operatoren. Es gibt Computersprachen, in denen man auch selbst Operatoren überladen kann, sich also seine eigene Addition definieren kann.\n",
    "Aber das ist für uns noch ferne Zukunftsmusik. Wir beschäftigen uns lieber mit weiteren, einfachen Beispielen von Berechnungen mit den Informationen, die wir nun ja schon ein- und ausgeben können.\n",
    "\n",
    "Beginnen wir mit Rechenoperatoren."
   ]
  },
  {
   "cell_type": "code",
   "execution_count": null,
   "id": "ca74ff76",
   "metadata": {},
   "outputs": [],
   "source": [
    "# Beispiel für diverse Rechenoperatoren\n",
    "\n",
    "a = 1 + 2      # Addition\n",
    "b = 3 - 4      # Subtraktion\n",
    "c = 5 * 6      # Multiplikation\n",
    "d = 7 // 8     # ganzzahlige Division\n",
    "e = 7 % 8      # Rest der ganzzahligen Division (Modulo - Operation)\n",
    "f = 7 / 8      # Fließkomma-Division\n",
    "g = 9 ** 10    # Potenzieren\n",
    "\n",
    "print( a, b, c, d, e, f, g)\n",
    "\n",
    "h = abs(-11)   # und als Zugabe der Betrag einer Zahl\n",
    "print (\"Zugabe:\",h)\n"
   ]
  },
  {
   "cell_type": "markdown",
   "id": "b4a18d80",
   "metadata": {},
   "source": [
    "Nach den Rechenoperatoren schauen wir nun noch, was ein Taschenrechner, noch so zu bieten hat.\n",
    "Nicht alles davon werden wir brauchen, aber falls doch, so erspart Ihr Euch die Suche dannach.\n"
   ]
  },
  {
   "cell_type": "code",
   "execution_count": null,
   "id": "f10ea422",
   "metadata": {},
   "outputs": [],
   "source": [
    "# Der eingebaute Taschenrechner\n",
    "\n",
    "import math\n",
    "\n",
    "print (math.sqrt(2))         # Quadratwurzelfunktion\n",
    "print (math.pi)              # Die Konstante Pi\n",
    "print (math.sin(math.pi))    # Die Sinus-Funktion\n",
    "print (math.cos(math.pi))    # Die Kosinus-Funktion\n",
    "print (math.tan(math.pi))    # Die Tangens-Funktion\n",
    "print (math.e)               # Die eulersche Zahl e\n",
    "print (math.log(math.e))     # natürlicher Logarithmus\n",
    "print (math.log(8,2))        # Logarithmus zur Basis 2\n",
    "print (math.factorial(4))    # Fakultät 4!"
   ]
  },
  {
   "cell_type": "markdown",
   "id": "f178f188",
   "metadata": {},
   "source": [
    "\n",
    "# Vertiefende Aufgaben\n",
    "\n",
    "Wir wollen die Ein- und Ausgabe von Basistypen abschließend durch einige Aufgaben vertiefen. In den Kommentaren zur Aufgabenstellung findest Du teiweise zusätzliche Informationen, die Du zum Bearbeiten benötigst. Im Anschluss findest Du zur Kontrolle auch mögliche Musterlösungen zum Vergleich mit Deinen Ergebnissen. Viel Erfolg und auch Vergnügen.\n"
   ]
  },
  {
   "cell_type": "code",
   "execution_count": null,
   "id": "06185fef-8525-45c8-b890-240c0a09a8c5",
   "metadata": {},
   "outputs": [],
   "source": [
    "# Aufgabe Vorgänger und Nachfolger\n",
    "# Aufgabenstellung:\n",
    "# Lasse Dir eine ganze Zahl z eingeben.\n",
    "# Gib dazu den Vorgänger und den Nachfolger der Zahl aus\n"
   ]
  },
  {
   "cell_type": "code",
   "execution_count": null,
   "id": "717a6dd4-e7cf-4258-9339-c2f55de6fe37",
   "metadata": {},
   "outputs": [],
   "source": [
    "# Aufgabe Betrag einer ganzen Zahl\n",
    "\n",
    "# Python kennt nur den Datentyp Integer einer ganzen Zahl,\n",
    "# nicht jedoch einen Datentyp für natürliche Zahlen.\n",
    "# Falls Dein Programm Probleme bei der Eingabe negativer Zahlen z hätte,\n",
    "# kannst Du dies mit dem Betrag der Zahl vermeiden.\n",
    "\n",
    "# Aufgabenstellung:\n",
    "# Lasse Dir eine ganze Zahl z eingeben.\n",
    "# Weise der Variablen n den Betrag der Zahl z zu und gib n aus.\n"
   ]
  },
  {
   "cell_type": "code",
   "execution_count": null,
   "id": "1f8dbf60-f289-4373-90e3-cf96d41455b2",
   "metadata": {},
   "outputs": [],
   "source": [
    "# Aufgabe Rechteck\n",
    "# Aufgabenstellung:\n",
    "# Lasse Dir die Seitenlängen a und b eines Rechtecks in Zentimetern angeben.\n",
    "# Berechne dazu den Umfang U=2(a+b) und die Fläche A=ab des Rechtecks und gib diese Informationen aus.\n",
    "# Hinweis: Das in der Mathematik übliche Weglassen des Multiplikationszeichens * ist in Programmen nicht erlaubt.\n"
   ]
  },
  {
   "cell_type": "markdown",
   "id": "0389df14-2a31-41fc-bc33-7c520ff625bd",
   "metadata": {},
   "source": [
    "So, und nun die Musterlösungen zu vorigen Aufgaben:"
   ]
  },
  {
   "cell_type": "code",
   "execution_count": null,
   "id": "c8ac60ee-303c-4a17-84ec-92df1d09b5a3",
   "metadata": {},
   "outputs": [],
   "source": [
    "# Musterlösung zur Aufgabe Vorgänger und Nachfolger\n",
    "# Aufgabenstellung:\n",
    "# Lasse Dir eine ganze Zahl z eingeben.\n",
    "# Gib dazu den Vorgänger und den Nachfolger der Zahl aus\n",
    "\n",
    "z = int( input( \"Bitte gib eine ganze Zahl ein: \") )\n",
    "\n",
    "print (\"Der Vorgänger der Zahl\", z, \"ist die Zahl\",z-1)\n",
    "print (\"Der Nachfolger der Zahl\", z, \"ist die Zahl\",z+1)\n"
   ]
  },
  {
   "cell_type": "code",
   "execution_count": null,
   "id": "b66d67d1-2db4-4a0f-a60b-f961b05b1a7d",
   "metadata": {
    "scrolled": false
   },
   "outputs": [],
   "source": [
    "# Musterlösung zur Aufgabe Betrag einer ganzen Zahl\n",
    "\n",
    "# Python kennt nur den Datentyp Integer einer ganzen Zahl,\n",
    "# nicht jedoch einen Datentyp für natürliche Zahlen.\n",
    "# Falls Dein Programm Probleme bei der Eingabe negativer Zahlen z hätte,\n",
    "# kannst Du dies mit dem Betrag der Zahl vermeiden.\n",
    "\n",
    "# Aufgabenstellung:\n",
    "# Lasse Dir eine ganze Zahl z eingeben.\n",
    "# Weise der Variablen n den Betrag der Zahl z zu und gib n aus.\n",
    "\n",
    "z = int( input( \"Bitte gib eine ganze Zahl ein: \") )\n",
    "n = abs(z)\n",
    "print (\"Der Betrag der Zahl\", z, \"ist die Zahl\",n)"
   ]
  },
  {
   "cell_type": "code",
   "execution_count": null,
   "id": "a55af2fb-8790-4004-bb62-27d8760e965d",
   "metadata": {},
   "outputs": [],
   "source": [
    "# Musterlösung zur Aufgabe Rechteck\n",
    "# Aufgabenstellung:\n",
    "# Lasse Dir die Seitenlängen a und b eines Rechtecks in Zentimetern angeben.\n",
    "# Berechne dazu den Umfang U=2(a+b) und die Fläche A=ab des Rechtecks und gib diese Informationen aus.\n",
    "# Hinweis: Das in der Mathematik übliche Weglassen des Multiplikationszeichens * ist in Programmen nicht erlaubt.\n",
    "\n",
    "a = float( input( \"Angabe der Seitlänge a in cm: \") )\n",
    "b = float( input( \"Angabe der Seitlänge b in cm: \") )\n",
    "\n",
    "U = 2*(a+b)\n",
    "A = a*b\n",
    "\n",
    "print (\"Umfang des Rechtecks:\", U, \"cm\")\n",
    "print (\"Fläche des Rechtecks:\", A, \"cm²\")\n"
   ]
  }
 ],
 "metadata": {
  "colab": {
   "collapsed_sections": [],
   "name": "Python.Intro.ipynb",
   "private_outputs": true,
   "provenance": []
  },
  "kernelspec": {
   "display_name": "Python 3 (ipykernel)",
   "language": "python",
   "name": "python3"
  },
  "language_info": {
   "codemirror_mode": {
    "name": "ipython",
    "version": 3
   },
   "file_extension": ".py",
   "mimetype": "text/x-python",
   "name": "python",
   "nbconvert_exporter": "python",
   "pygments_lexer": "ipython3",
   "version": "3.10.4"
  }
 },
 "nbformat": 4,
 "nbformat_minor": 5
}
