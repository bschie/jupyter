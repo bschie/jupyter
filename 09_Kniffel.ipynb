{
 "cells": [
  {
   "cell_type": "markdown",
   "id": "262f09a6-e563-47ee-a5a1-3ed9fcf1e7fb",
   "metadata": {},
   "source": [
    "# Kniffel\n",
    "*Schwierigkeits\n",
    "**Hinweis: Für diese Aufgabe sollte der Umgang mit Feldern bereits bekannt sein.**\n",
    "\n",
    "Das Würfelspiel \"Kniffel\" (auch bekannt unter den Namen \"Yahtzee\" oder \"Yatzy\") besteht im Wesentlichen darin, beim Wurf mit 5 Würfeln möglichst viele Punkte durch bestimmte Kombinationen von Augenzahlen zu erreichen.\n",
    "\n",
    "In diesem Abschnitt werden wir ein Programm entwickeln, welches einen Wurf von 5 Würfeln simuliert und erkennt, ob eine besondere Konstellation vorliegt.\n",
    "\n",
    "Folgende Konstellationen werden wir dabei betrachten:  \n",
    "- \"Kniffel\": 5 gleiche Augenzahlen\n",
    "- \"Viererpasch\": 4 gleiche Augenzahlen\n",
    "- \"Dreierpasch\": 3 gleiche Augenzahlen\n",
    "- \"Full House\": 3 gleiche und 2 gleiche Augenzahlen\n",
    "- \"Große Straße\": 5 aufeinanderfolgende Augenzahlen\n",
    "- \"Kleine Straße\": 4 aufeinanderfolgende Augenzahlen\n",
    "\n",
    "### Prüfen auf Kniffel\n",
    "\n",
    "Die erste Konstellation, ein Kniffel, ist dabei am leichtesten zu überprüfen.\n",
    "\n",
    "**Aufgabe 1.1** Schreibe ein Python-Programm, welches einen Wurf mit 5 Würfeln simuliert und überprüft, ob es sich beim Ergebnis um ein Kniffel handelt. "
   ]
  },
  {
   "cell_type": "code",
   "execution_count": null,
   "id": "c233c4e8-0417-4c5d-aee9-2daac2618bca",
   "metadata": {},
   "outputs": [],
   "source": [
    "#Aufgabe 1.1: Prüfen auf Kniffel\n",
    "#... an die import-Anweisung für die Zufallszahlen denken!\n",
    "#... fünf Würfel simulieren\n",
    "#... geworfene Augenzahlen anzeigen\n",
    "#... prüfen, ob ein Kniffel vorliegt\n",
    "#... Rückmeldung an den Benutzer"
   ]
  },
  {
   "cell_type": "markdown",
   "id": "de8a5644-bc6d-4338-bce6-845fbfae8846",
   "metadata": {},
   "source": [
    "Schon bei der zweiten Konstellation, dem Viererpasch, wird es kompliziert. Es genügt ja nicht, zu überprüfen, ob die ersten vier Würfel die gleiche Augenzahl zeigen - der eine Würfel, der anders ist, könnte ja an jeder beliebigen Position stehen. Also müssten wir gleich 5 verschiedene Möglichkeiten überprüfen. Bei Full House und Dreierpasch sind es sogar gleich 10 Möglichkeiten, von den Straßen ganz zuschweigen - das muss doch auch einfacher gehen?! Richtig, das geht einfacher - nämlich dann, wenn die Ergebnisse der Größe nach sortiert sind.\n",
    "\n",
    "#### Vereinfachung durch Verwendung von Feldern\n",
    "Möglicherweise hast du bereits bei der Simulation in Aufgabe 1.1 eine Feldvariable für die 5 Würfelergebnisse benutzt und die Ergebnisse in einer einzigen Variablen gespeichert. Dadurch ist die Ausgabe der Würfelergebnisse viel einfacher - man muss nur eine Variable ausgeben und nicht fünf.\n",
    "\n",
    "Falls du zuvor nicht mit einer Feldvariablen gearbeitet hast:\n",
    "\n",
    "**Aufgabe 1.2** Speichere die Ergebnisse deines simulierten Wurfs in einer Feldvariablen namens wuerfel ab.  \n",
    "Mögliche Vorgehensweisen:\n",
    "- Lege eine Feldvariable w an, in der fünf Zufallszahlen zwischen 1 und 6 gespeichert sind.  \n",
    "\n",
    "oder\n",
    "- Lege eine Feldvariable w an, in der zunächst fünf Nullen gespeichert sind. Nutze eine for-Schleife, um die Nullen nacheinander durch eine Zufallszahl zu ersetzen.\n",
    "\n",
    "*Hinweis: Musterlösung im zusammengeklappten Abschnitt nach dem Programm*"
   ]
  },
  {
   "cell_type": "code",
   "execution_count": null,
   "id": "d396561e-a013-468f-a7f4-d0f52ad7d90f",
   "metadata": {},
   "outputs": [],
   "source": [
    "#Aufgabe 1.2: Prüfen auf Kniffel\n",
    "#... an die import-Anweisung für die Zufallszahlen denken!\n",
    "#... fünf Würfel simulieren und in einer Feldvariablen abspeichern\n",
    "#... geworfene Augenzahlen anzeigen\n",
    "#... prüfen, ob ein Kniffel vorliegt\n",
    "#... Rückmeldung an den Benutzer"
   ]
  },
  {
   "cell_type": "code",
   "execution_count": null,
   "id": "19a3ccd5-c159-45fe-9036-322a8d0ed8b6",
   "metadata": {
    "jupyter": {
     "source_hidden": true
    },
    "tags": []
   },
   "outputs": [],
   "source": [
    "#Aufgabe 1.2: Prüfen auf Kniffel - mögliche Lösung\n",
    "from random import *\n",
    "w = [randint(1,6),randint(1,6),randint(1,6),randint(1,6),randint(1,6)] # fünf Würfel simulieren und in einer Feldvariablen abspeichern\n",
    "print(\"geworfene Augenzahlen:\", w) # geworfene Augenzahlen ausgeben\n",
    "\n",
    "if (w[0]==w[1]) and (w[1]==w[2]) and (w[2]==w[3]) and (w[3]==w[4]):   # prüfen, ob ein Kniffel vorliegt\n",
    "    print(\"Das ist ein Kniffel!\") # Rückmeldung an den Benutzer\n",
    "else: \n",
    "    print(\"Leider kein Kniffel.\")"
   ]
  },
  {
   "cell_type": "markdown",
   "id": "2eebdfb3-d98e-4eba-8e87-ca61222df7e4",
   "metadata": {},
   "source": [
    "Die Verwendung von Feldvariablen hat aber noch weitere Vorteile. In Python gibt es eine Reihe von vordefinierten Methoden (Unterprogrammen), die man auf solche Variablen anwenden kann. Für uns in diesem Fall von Interesse sind die Methoden sort() und count().\n",
    "\n",
    "**Aufgabe 2** Teste mit dem folgenden Python-Programm, was die beiden Methoden sort() und count() bewirken. Ändere dabei z.B. den Parameter von count oder die vorgegebenen Elemente in der Feldvariablen. Warum wird die Methode count() in Verbindung mit einem print()-Befehl genutzt, die Methode sort() aber nicht? Probiere aus, was passiert, wenn man den print-Befehl bei count() weglässt oder bei sort() hinzufügt.  \n",
    "*Hinweis: Erklärung befindet sich im zusammengeklappten Abschnitt unter dem Programm*"
   ]
  },
  {
   "cell_type": "code",
   "execution_count": null,
   "id": "fec09af5-dccb-4f2e-8407-b8ddda1b3032",
   "metadata": {},
   "outputs": [],
   "source": [
    "#Aufgabe 2: sort() und count()\n",
    "\n",
    "zahlen = [17,5,96,33,40,17,38,17,40]\n",
    "\n",
    "print(zahlen)\n",
    "print(zahlen.count(17))\n",
    "print(zahlen) \n",
    "zahlen.sort()\n",
    "print(zahlen)"
   ]
  },
  {
   "cell_type": "markdown",
   "id": "0aa56a8b-3927-4258-9633-87ac8ed74309",
   "metadata": {
    "jupyter": {
     "source_hidden": true
    },
    "tags": []
   },
   "source": [
    "#### Erklärung zu Aufgabe 2:\n",
    "Die Methode count() liefert als Rückgabewert die Häufigkeit, mit der das angegebene Element in der Feldvariablen vorkommt. Damit handelt es sich bei \"zahlen.count(17)\" um eine **Anfrage**, die einen Wert zurückgibt (\"Sag mir, wie oft 17 in zahlen vorkommt!\"). Um mit diesem Wert zu arbeiten oder ihn zumindest zu sehen, muss man ihn entweder in einer Variablen speichern oder wie hier direkt ausgeben.\n",
    "\n",
    "Die Methode sort() hingegen sortiert die Elemente, sie verändert also die Reihenfolge der Elemente in der Feldvariablen. Einen Rückgabewert gibt es hier nicht. Versucht man dennoch, diese Methode in Verbindung mit print() zu verwenden, so erhält man den Wert \"None\". Bei \"zahlen.sort()\" handelt es sich um einen **Auftrag**, der ohne Rückmeldung ausgeführt wird (\"Sortiere die Elemente von zahlen!\"). \n",
    "\n",
    "Die Unterscheidung bei Methoden (bzw. generell bei Unterprogrammen) in **Anfrage** und **Auftrag** ist eine Konvention, die nicht in allen Programmiersprachen gleichermaßen konsequent gefordert und praktiziert wird. Mischformen sind oft möglich, gelten aber in der Regel als schlechter Stil."
   ]
  },
  {
   "cell_type": "markdown",
   "id": "a01618cd-d390-4742-b5b5-f04232f7ac1a",
   "metadata": {},
   "source": [
    "### Prüfen auf Viererpasch\n",
    "\n",
    "Mit Hilfe der Methoden sort() und count() ist es nun viel einfacher, das Vorhandensein eines Viererpaschs zu überprüfen. Mit sortierten Würfelergebnissen reduziert sich die Anzahl der Möglichkeiten auf zwei Fälle - die ersten vier sind gleich oder die letzten vier. Alternativ kann man auch der Reihe nach prüfen, ob eine der Zahlen von 1 bis 6 viermal in den Ergebnissen vorhanden ist.\n",
    "\n",
    "**Aufgabe 3** Ändere das Programm aus 1.2 so ab, dass statt auf Kniffel auf Viererpasch geprüft wird. Probiere beide Varianten der Überprüfung aus.   \n",
    "***Tipp:*** Um nicht ewig auf einen \"erwürfelten\" Viererpasch warten zu müssen, kann zum Testen auch eine manuell vorgegebene Reihe von Wurfergebnissen verwendet werden.\n",
    "\n",
    "*Hinweis: Musterlösung im zusammengeklappten Abschnitt nach dem Programm*"
   ]
  },
  {
   "cell_type": "code",
   "execution_count": null,
   "id": "2c215e48-b734-4e9e-8bdc-5c54b24f65c3",
   "metadata": {},
   "outputs": [],
   "source": [
    "#Aufgabe 3: Prüfen auf Viererpasch\n",
    "#... an die import-Anweisung für die Zufallszahlen denken!\n",
    "#... fünf Würfel simulieren und in einer Feldvariablen abspeichern, ggf. sortieren\n",
    "#... geworfene Augenzahlen anzeigen\n",
    "#... prüfen, ob ein Viererpasch vorliegt\n",
    "#... Rückmeldung an den Benutzer"
   ]
  },
  {
   "cell_type": "code",
   "execution_count": null,
   "id": "0f0ec157-e5b0-44d6-8d67-a8e6d1769d14",
   "metadata": {
    "jupyter": {
     "source_hidden": true
    },
    "tags": []
   },
   "outputs": [],
   "source": [
    "#Aufgabe 3: Prüfen auf Viererpasch - mögliche Lösung\n",
    "from random import *\n",
    "w = [randint(1,6),randint(1,6),randint(1,6),randint(1,6),randint(1,6)] #... fünf Würfel simulieren und in einer Feldvariablen abspeichern\n",
    "print(\"geworfene Augenzahlen:\", w)\n",
    "\n",
    "## Lösung mit sort():\n",
    "w.sort() # Ergebnisse sortieren\n",
    "if ((w[0]==w[1]) and (w[1]==w[2]) and (w[2]==w[3])) or ((w[1]==w[2]) and (w[2]==w[3]) and (w[3]==w[4])):   # prüfen, ob ein Viererpasch vorliegt\n",
    "    print(\"Das ist ein Viererpasch!\") # Rückmeldung an den Benutzer\n",
    "    \n",
    "## Lösung mit count():\n",
    "viererpasch = False\n",
    "i = 1\n",
    "while (i<=6) and not(viererpasch): \n",
    "    if w.count(i) == 4: # für jeden Wert von 1-6 wird die Anzahl der Vorkommen im Wurfergebnis gezählt. \n",
    "        viererpasch = True # Kommt ein Ergebnis 4x vor, ist es ein Viererpasch. Dann wird die Schleife nach diesem Durchgang abgebrochen.\n",
    "    i = i+1\n",
    "if viererpasch:\n",
    "    print(\"Das ist ein Viererpasch!\") # Rückmeldung an den Benutzer\n",
    "else: \n",
    "    print(\"Leider kein Viererpasch.\")"
   ]
  },
  {
   "cell_type": "markdown",
   "id": "8d4dd353-9cac-41a7-b2c3-de054917a5fa",
   "metadata": {},
   "source": [
    "#### Vereinfachung mit Hilfe von Booleschen Variablen\n",
    "\n",
    "Beim Überprüfen auf Viererpasch mit Hilfe von sort() mussten wir zwei Fälle prüfen: ob die ersten vier gleich sind und ob die letzten vier gleich sind. Die dazu nötige Bedingung besteht aus insgesamt 6 einzelnen Vergleichen:"
   ]
  },
  {
   "cell_type": "code",
   "execution_count": null,
   "id": "bb494e95-020d-4ae0-8159-232b269a5b9b",
   "metadata": {
    "jupyter": {
     "source_hidden": true
    },
    "tags": []
   },
   "outputs": [],
   "source": [
    "if ((w[0]==w[1]) and (w[1]==w[2]) and (w[2]==w[3])) or ((w[1]==w[2]) and (w[2]==w[3]) and (w[3]==w[4])):\n",
    "    print(\"Das ist ein Viererpasch!\")"
   ]
  },
  {
   "cell_type": "markdown",
   "id": "dfc4aced-11d7-4a09-948c-b168194855b0",
   "metadata": {},
   "source": [
    "Solche Fallunterscheidungen können schnell unübersichtlich werden. Einfacher zu überblicken wird es, wenn man die Fälle einzeln überprüft und das Ergebnis jeweils in einer booleschen Variablen speichert:\n",
    "\n",
    "`erste_vier_gleich = (w[0]==w[1]) and (w[1]==w[2]) and (w[2]==w[3])`\n",
    "\n",
    "`letzte_vier_gleich = (w[1]==w[2]) and (w[2]==w[3]) and (w[3]==w[4])` \n",
    "\n",
    "Die einzelnen Fälle können dann - repräsentiert durch ihre jeweilige boolesche Variable - wieder miteinander verknüpft werden:\n",
    "\n",
    "`if erste_vier_gleich or letzte_vier_gleich: `\n",
    "\n",
    "`     print(\"Das ist ein Viererpasch!\")`\n",
    "\n",
    "Auf diese Weise lassen sich einige der nun folgenden Würfelkonstellationen deutlich übersichtlicher überprüfen.\n",
    "\n",
    "\n",
    "### Prüfen auf Dreierpasch\n",
    "\n",
    "**Aufgabe 4** Das folgende Python-Programm soll das Würfelergebnis sortieren und auf Vorhandensein eines Dreierpaschs untersuchen. Ergänze das Programm und verwende boolesche Variablen, um die Fallunterscheidungen übersichtlicher zu machen.\n",
    "\n",
    "*Hinweis: Musterlösung im zusammengeklappten Abschnitt nach dem Programm*"
   ]
  },
  {
   "cell_type": "code",
   "execution_count": null,
   "id": "af91be78-9886-435c-bec8-063b373c9ac3",
   "metadata": {},
   "outputs": [],
   "source": [
    "#Aufgabe 4: Prüfen auf Dreierpasch\n",
    "from random import *\n",
    "w = [randint(1,6),randint(1,6),randint(1,6),randint(1,6),randint(1,6)] #... fünf Würfel simulieren und in einer Feldvariablen abspeichern\n",
    "print(\"geworfene Augenzahlen:\", w)\n",
    "\n",
    "#... Ergebnisse sortieren\n",
    "\n",
    "#... mögliche Fälle einzeln überprüfen\n",
    "\n",
    "if #... Fälle mit einander kombinieren\n",
    "    print(\"Das ist ein Dreierpasch!\") # Rückmeldung an den Benutzer\n",
    "else: \n",
    "    print(\"Leider kein Dreierpasch.\")"
   ]
  },
  {
   "cell_type": "code",
   "execution_count": null,
   "id": "f8daa26c-50a7-4be9-971c-baee2190fdec",
   "metadata": {
    "jupyter": {
     "source_hidden": true
    },
    "tags": []
   },
   "outputs": [],
   "source": [
    "#Aufgabe 4: Prüfen auf Dreierpasch - mögliche Lösung\n",
    "from random import *\n",
    "w = [randint(1,6),randint(1,6),randint(1,6),randint(1,6),randint(1,6)] #... fünf Würfel simulieren und in einer Feldvariablen abspeichern\n",
    "print(\"geworfene Augenzahlen:\", w)\n",
    "\n",
    "w. sort() # Ergebnisse sortieren\n",
    "\n",
    "# mögliche Fälle einzeln überprüfen:\n",
    "erste_drei_gleich = (w[0]==w[1]) and (w[1]==w[2])\n",
    "mittlere_drei_gleich = (w[1]==w[2]) and (w[2]==w[3])\n",
    "letzte_drei_gleich = (w[2]==w[3]) and (w[3]==w[4])\n",
    "\n",
    "if erste_drei_gleich or mittlere_drei_gleich or letzte_drei_gleich: # Fälle mit einander kombinieren\n",
    "    print(\"Das ist ein Dreierpasch!\") # Rückmeldung an den Benutzer\n",
    "else: \n",
    "    print(\"Leider kein Dreierpasch.\")"
   ]
  },
  {
   "cell_type": "markdown",
   "id": "81adc232-4d35-4edb-8de4-4799d0d63280",
   "metadata": {},
   "source": [
    "### Prüfen auf Full House\n",
    "\n",
    "Ein Full House besteht aus einem Drilling und einem Zwilling. Auch hier reduziert die Methode sort() die zu überprüfenden Fälle erheblich. \n",
    "\n",
    "**Aufgabe 5** Überlege dir, welche Möglichkeiten es nach einer Sortierung für die Anordnung eines Full House gibt, und ergänze das folgende Programm so, dass es einen Wurf auf ein Full House prüft.\n",
    "\n",
    "*Hinweis: Musterlösung im zusammengeklappten Abschnitt nach dem Programm*"
   ]
  },
  {
   "cell_type": "code",
   "execution_count": null,
   "id": "1abfb8f5-2b42-47d1-8bd9-3b74976ecf27",
   "metadata": {},
   "outputs": [],
   "source": [
    "#Aufgabe 5: Prüfen auf Full House\n",
    "from random import *\n",
    "w = [randint(1,6),randint(1,6),randint(1,6),randint(1,6),randint(1,6)] #... fünf Würfel simulieren und in einer Feldvariablen abspeichern\n",
    "print(\"geworfene Augenzahlen:\", w)\n",
    "\n",
    "#... Ergebnisse sortieren\n",
    "\n",
    "#... ggf. Fälle einzeln prüfen\n",
    "\n",
    "if #... Full House?\n",
    "    print(\"Das ist ein Full House!\") # Rückmeldung an den Benutzer\n",
    "else: \n",
    "    print(\"Leider kein Full House.\")"
   ]
  },
  {
   "cell_type": "code",
   "execution_count": null,
   "id": "42428015-06d8-4f6d-9df4-71d9de84ec35",
   "metadata": {
    "jupyter": {
     "source_hidden": true
    },
    "tags": []
   },
   "outputs": [],
   "source": [
    "#Aufgabe 5: Prüfen auf Full House - mögliche Lösung\n",
    "from random import *\n",
    "w = [randint(1,6),randint(1,6),randint(1,6),randint(1,6),randint(1,6)] #... fünf Würfel simulieren und in einer Feldvariablen abspeichern\n",
    "print(\"geworfene Augenzahlen:\", w)\n",
    "\n",
    "w.sort() # Ergebnisse sortieren\n",
    "\n",
    "# hier könnte man die beiden Fälle \"erste drei und letzte zwei gleich\" und \"erste zwei und letzte drei gleich\" prüfen und speichern\n",
    "# und anschließend mit \"or\" kombinieren.\n",
    "# Eine elegante Variante nutzt die Gemeinsamkeiten aus: Die ersten beiden und letzten beiden müssen in jedem Fall gleich sein,\n",
    "# der mittlere ist dann entweder gleich den ersten oder den letzten beiden:\n",
    "\n",
    "if (w[0]==w[1]) and (w[3]==w[4]) and ((w[2]==w[1]) or (w[2]==w[3])) :\n",
    "    print(\"Das ist ein Full House!\") # Rückmeldung an den Benutzer\n",
    "else: \n",
    "    print(\"Leider kein Full House.\")"
   ]
  },
  {
   "cell_type": "markdown",
   "id": "b7fc219e-af8b-4e58-8c78-16b0520e8897",
   "metadata": {},
   "source": [
    "### Prüfen auf Große Straße\n",
    "\n",
    "Für eine Große Straße gibt es genau zwei Möglichkeiten: Die Würfel zeigen entweder die Augenzahlen 1 bis 5 oder die Augenzahlen von 2 bis 6. Ob eine Große Straße vorliegt, kann man auf mehrere unterschiedliche Arten überprüfen. Auch die Methode count() kann hier wieder genutzt werden - unabhängig davon, ob die Ergebnisse zuvor sortiert wurden.\n",
    "\n",
    "**Aufgabe 6.1** Finde mindestens zwei Möglichkeiten, wie man ein (sortiertes) Würfelergebnis auf das Vorliegen einer Großen Straße überprüfen kann.\n",
    "\n",
    "*Hinweis: Musterlösung im anschließenden zusammengeklappten Abschnitt*"
   ]
  },
  {
   "cell_type": "markdown",
   "id": "27ecfbb5-abbd-4d71-98ac-b3f8ccb4834c",
   "metadata": {
    "jupyter": {
     "source_hidden": true
    },
    "tags": []
   },
   "source": [
    "#### Mögliche Lösungen für Aufgabe 6.1\n",
    "- man kann die beiden Fälle einzeln Zahl für Zahl überprüfen, in boolesche Variablen speichern und mit \"or\" kombinieren\n",
    "- man kann zählen, ob die Zahlen 2 bis 5 jeweils genau einmal vorhanden sind und zusätzlich eine 1 oder eine 6 vorhanden ist.\n",
    "- man kann prüfen, ob der zweite Würfel eine um 1 größere Augenzahl hat als der erste UND der dritte eine um 1 größere als der zweite usw."
   ]
  },
  {
   "cell_type": "markdown",
   "id": "7d316f03-47a3-4b68-ad90-4d793c19f2e0",
   "metadata": {},
   "source": [
    "**Aufgabe 6.2** Verwende eine Möglichkeit deiner Wahl, um ein Programm zur Erkennung einer Großen Straße zu schreiben.\n",
    "\n",
    "*Hinweis: Musterlösung im zusammengeklappten Abschnitt nach dem Programm*"
   ]
  },
  {
   "cell_type": "code",
   "execution_count": null,
   "id": "eb9d666e-ea33-4835-995a-38860d9d956a",
   "metadata": {
    "tags": []
   },
   "outputs": [],
   "source": [
    "#Aufgabe 6.2: Prüfen auf Große Straße\n",
    "from random import *\n",
    "w = [randint(1,6),randint(1,6),randint(1,6),randint(1,6),randint(1,6)] #... fünf Würfel simulieren und in einer Feldvariablen abspeichern\n",
    "print(\"geworfene Augenzahlen:\", w)\n",
    "\n",
    "#... Ergebnisse sortieren\n",
    "\n",
    "#... ggf. Fälle einzeln prüfen oder Teilaussagen anlegen\n",
    "\n",
    "if #... Große Straße?\n",
    "    print(\"Das ist eine Große Straße!\") # Rückmeldung an den Benutzer\n",
    "else: \n",
    "    print(\"Leider keine Große Straße.\")"
   ]
  },
  {
   "cell_type": "code",
   "execution_count": null,
   "id": "c9af95b4-64a4-401d-a871-661e037f6f4a",
   "metadata": {
    "jupyter": {
     "source_hidden": true
    },
    "tags": []
   },
   "outputs": [],
   "source": [
    "#Aufgabe 6.2: Prüfen auf Große Straße - mögliche Lösung\n",
    "from random import *\n",
    "w = [randint(1,6),randint(1,6),randint(1,6),randint(1,6),randint(1,6)] #... fünf Würfel simulieren und in einer Feldvariablen abspeichern\n",
    "print(\"geworfene Augenzahlen:\", w)\n",
    "\n",
    "eineEins = (w.count(1)==1)\n",
    "eineZwei = (w.count(2)==1)\n",
    "eineDrei = (w.count(3)==1)\n",
    "eineVier = (w.count(4)==1)\n",
    "eineFuenf = (w.count(5)==1)\n",
    "eineSechs = (w.count(6)==1)\n",
    "\n",
    "if (eineZwei and eineDrei and eineVier and eineFuenf) and (eineEins or eineSechs):\n",
    "    print(\"Das ist eine Große Straße!\") # Rückmeldung an den Benutzer\n",
    "else: \n",
    "    print(\"Leider keine Große Straße.\")"
   ]
  },
  {
   "cell_type": "markdown",
   "id": "5090201d-1f4a-4a6c-a8dc-2dc5470c690d",
   "metadata": {},
   "source": [
    "### Prüfen auf Kleine Straße\n",
    "\n",
    "Die am kniffligsten (haha, Wortspiel :-D ) zu überprüfende Konstellation ist die Kleine Straße. Hier gilt es zu berücksichtigen, dass nicht alle Würfel an der Konstellation beteiligt sind. Wieder gibt es mehrere Möglichkeiten, die sich stark an die Möglichkeiten für die Große Straße anlehnen. Eine Anmerkung an dieser Stelle: Wir gehen also davon aus, dass das Ergebnis keine Große Straße ist, denn da diese höherwertig ist, würde man ja zuerst auf eine Große Straße prüfen, bevor man schaut ob eine Kleine Straße vorliegt.\n",
    "\n",
    "**Aufgabe 7.1** Finde eine Möglichkeit zum Überprüfen, ob eine Kleine Straße vorliegt, indem du eine der Strategien für die Große Straße passend modifizierst.\n",
    "\n",
    "*Hinweis: Musterlösung im anschließenden zusammengeklappten Abschnitt*"
   ]
  },
  {
   "cell_type": "markdown",
   "id": "3ffee459-5c75-4ff9-ad17-6601ece0644c",
   "metadata": {
    "jupyter": {
     "source_hidden": true
    },
    "tags": []
   },
   "source": [
    "#### Mögliche Lösungen für Aufgabe 7.1\n",
    "Es gibt 3 mögliche Kleinen Straßen: 1 2 3 4, 2 3 4 5 und 3 4 5 6.\n",
    "Bei jeder dieser Straßen kann der fünfte (der unbeteiligte) Würfel an jeder Position stehen. Somit gibt es 15 Fälle:\n",
    "\n",
    "`(X) 1 2 3 4     1 (X) 2 3 4     1 2 (X) 3 4     1 2 3 (X) 4     1 2 3 4 (X)`   \n",
    "`(X) 2 3 4 5     2 (X) 3 4 5     2 3 (X) 4 5     2 3 4 (X) 5     2 3 4 5 (X)`   \n",
    "`(X) 3 4 5 6     3 (X) 4 5 6     3 4 (X) 5 6     3 4 5 (X) 6     3 4 5 6 (X)`  \n",
    "\n",
    "- Die Fälle einzeln Zahl für Zahl zu überprüfen, ist bei der Kleinen Straße zu umständlich - zu viele Möglichkeiten.\n",
    "- Analog zur Großen Straße kann man prüfen, ob der zweite Würfel eine um 1 größere Augenzahl hat als der erste UND der dritte eine um 1 größere als der zweite usw. - und dies für jeweils vier der 5 Würfel. Man hat also 5 verschiedene Fälle (-> boolesche Variablen), bei denen jeweils einer der 5 Würfel nicht vorkommt (übersprungen wird). Auch das ist noch ziemlich aufwändig, aber machbar.\n",
    "- Mit count(): In jeder Kleinen Straße muss die 3 und die 4 enthalten sein, ferner muss entweder 1 und 2, 2 und 5 oder 5 und 6 enthalten sein. "
   ]
  },
  {
   "cell_type": "markdown",
   "id": "32e7dacc-c85e-4151-93ba-7601e03aed83",
   "metadata": {},
   "source": [
    "**Aufgabe 7.2** Setze eine Überprüfungsstrategie deiner Wahl für die Kleine Straße in ein Programm um.\n",
    "\n",
    "*Hinweis: Musterlösung im zusammengeklappten Abschnitt nach dem Programm*"
   ]
  },
  {
   "cell_type": "code",
   "execution_count": null,
   "id": "3b38761a-53b6-4c13-b6d4-c7cd4710980a",
   "metadata": {},
   "outputs": [],
   "source": [
    "#Aufgabe 7.2: Prüfen auf Kleine Straße\n",
    "from random import *\n",
    "w = [randint(1,6),randint(1,6),randint(1,6),randint(1,6),randint(1,6)] #... fünf Würfel simulieren und in einer Feldvariablen abspeichern\n",
    "print(\"geworfene Augenzahlen:\", w)\n",
    "\n",
    "#... ggf. Ergebnisse sortieren\n",
    "\n",
    "#... ggf. Fälle einzeln prüfen oder Teilaussagen anlegen\n",
    "\n",
    "if #... Kleine Straße?\n",
    "    print(\"Das ist eine Kleine Straße!\") # Rückmeldung an den Benutzer\n",
    "else: \n",
    "    print(\"Leider keine Kleine Straße.\")"
   ]
  },
  {
   "cell_type": "code",
   "execution_count": null,
   "id": "1925d9b6-6d9d-47df-a9bc-64b60da5b651",
   "metadata": {
    "jupyter": {
     "source_hidden": true
    },
    "tags": []
   },
   "outputs": [],
   "source": [
    "#Aufgabe 7.2: Prüfen auf Kleine Straße - mögliche Lösungen\n",
    "from random import *\n",
    "w = [randint(1,6),randint(1,6),randint(1,6),randint(1,6),randint(1,6)] #... fünf Würfel simulieren und in einer Feldvariablen abspeichern\n",
    "print(\"geworfene Augenzahlen:\", w)\n",
    "\n",
    "## Lösung mit count():\n",
    "drei_und_vier = (w.count(3)>=1) and (w.count(4)>=1) # Beachte: >=1 wegen möglicher Doppelungen\n",
    "eins_und_zwei = (w.count(1)>=1) and (w.count(2)>=1)\n",
    "zwei_und_fuenf = (w.count(2)>=1) and (w.count(5)>=1)\n",
    "fuenf_und_sechs = (w.count(5)>=1) and (w.count(6)>=1)\n",
    "\n",
    "if drei_und_vier and (eins_und_zwei or zwei_und_fuenf or fuenf_und_sechs):\n",
    "    print(\"Das ist eine Kleine Straße!\") # Rückmeldung an den Benutzer\n",
    "else: \n",
    "    print(\"Leider keine Kleine Straße.\")\n",
    "    \n",
    "## Lösung mit sort() und Fallunterscheidungen:\n",
    "w. sort()\n",
    "str_ohne0 = (w[1] + 1 == w[2]) and (w[2] + 1 == w[3]) and (w[3] + 1 == w[4])\n",
    "str_ohne1 = (w[0] + 1 == w[2]) and (w[2] + 1 == w[3]) and (w[3] + 1 == w[4])\n",
    "str_ohne2 = (w[0] + 1 == w[1]) and (w[1] + 1 == w[3]) and (w[3] + 1 == w[4])\n",
    "str_ohne3 = (w[0] + 1 == w[1]) and (w[1] + 1 == w[2]) and (w[2] + 1 == w[4])\n",
    "str_ohne4 = (w[0] + 1 == w[1]) and (w[1] + 1 == w[2]) and (w[2] + 1 == w[3])\n",
    "\n",
    "if str_ohne0 or str_ohne1 or str_ohne2 or str_ohne3 or str_ohne4:\n",
    "    print(\"Das ist eine Kleine Straße!\") # Rückmeldung an den Benutzer\n",
    "else: \n",
    "    print(\"Leider keine Kleine Straße.\")    "
   ]
  },
  {
   "cell_type": "markdown",
   "id": "c7dab8c1-32b5-4e4d-a687-39b713d451d1",
   "metadata": {},
   "source": [
    "## Nun alles zusammen!\n",
    "\n",
    "Unsere Programme haben bisher immer nur nach einer bestimmten Würfelkonstellation gesucht. Nun wollen wir die verschiedenen Kombinationen alle nacheinander abprüfen. Hinsichtlich der Reihenfolge richten wir uns im Wesentlichen nach der Punktzahl, die es für die Konstellationen gibt:\n",
    "\n",
    "- Kniffel: 50 Punkte\n",
    "- Große Straße: 40 Punkte\n",
    "- Kleine Straße: 30 Punkte\n",
    "- Full House: 25 Punkte\n",
    "- Viererpasch: alle Augen zählen\n",
    "- Dreierpasch: alle Augen zählen\n",
    "\n",
    "Außerdem gehen wir davon aus, dass keine der Konstellationen bereits \"verbraucht\" oder \"gestrichen\" ist (d.h. nicht mehr gewertet werden kann).\n",
    "\n",
    "Wer sich mit Kniffel etwas auskennt, wird nun vielleicht einwenden: Mit einem guten Viererpasch kann man mehr als für ein Full House erzielen, mit einem schlechten Viererpasch bleibt man möglicherweise unter der Punktzahl für einen mäßigen Dreierpasch. Das ist korrekt - um hier die optimale Auswertung eines Wurfs zu bekommen, muss man die Punktzahl bei den Paschwürfen mit einbeziehen. Das heben wir uns noch für ein bisschen später auf und nehmen fürs erste die oben genannte Reihenfolge.\n",
    "\n",
    "Damit die ganze Sache etwas übersichtlicher wird, verwenden wir wieder boolesche Variablen für die einzelnen Würfelkonstellationen (kniffel, fullhouse etc).\n",
    "\n",
    "**Aufgabe 8** Ergänze das folgende Programm um deine Lösungen für die einzelnen Konstellationen sowie um die nötige Kontrollstruktur, um nacheinander die verschiedenen Konstellationen abzufragen.\n",
    "\n",
    "*Hinweis: Musterlösung im zusammengeklappten Abschnitt nach dem Programm*"
   ]
  },
  {
   "cell_type": "code",
   "execution_count": null,
   "id": "dd6f3c50-a6fd-4259-a673-be7e0b6afce3",
   "metadata": {},
   "outputs": [],
   "source": [
    "#Aufgabe 8: Alles zusammen\n",
    "from random import *\n",
    "w = [randint(1,6),randint(1,6),randint(1,6),randint(1,6),randint(1,6)] #... fünf Würfel simulieren und in einer Feldvariablen abspeichern\n",
    "print(\"geworfene Augenzahlen:\", w)\n",
    "\n",
    "#... Ergebnis sortieren, falls für eine der Konstellationen nötig\n",
    "\n",
    "#-----------------------------------------------------------------------\n",
    "## boolesche Variablen für die einzelnen Konstellationen:\n",
    "\n",
    "kniffel = # hier deine Lösung für die Kniffel-Bedingung\n",
    "\n",
    "# ... evtl. vorbereitende Berechnungen für Große Straße...\n",
    "große_strasse = # ...\n",
    "\n",
    "# ... evtl. vorbereitende Berechnungen für Kleine Straße...\n",
    "kleine_strasse = # ...\n",
    "\n",
    "# usw. für alle Konstellationen\n",
    "#-----------------------------------------------------------------------\n",
    "\n",
    "# abfragen der Konstellationen mit Rückmeldung der zuerst gefundenen Konstellation..."
   ]
  },
  {
   "cell_type": "code",
   "execution_count": null,
   "id": "3579d8cb-e5c1-46d1-b360-4834d58f0dc1",
   "metadata": {
    "jupyter": {
     "source_hidden": true
    },
    "tags": []
   },
   "outputs": [],
   "source": [
    "#Aufgabe 8: Alles zusammen\n",
    "from random import *\n",
    "w = [randint(1,6),randint(1,6),randint(1,6),randint(1,6),randint(1,6)] #... fünf Würfel simulieren und in einer Feldvariablen abspeichern\n",
    "print(\"geworfene Augenzahlen:\", w)\n",
    "\n",
    "w.sort()\n",
    "\n",
    "#-----------------------------------------------------------------------\n",
    "## boolesche Variablen für die einzelnen Konstellationen:\n",
    "\n",
    "#kniffel\n",
    "kniffel = (w[0]==w[1]) and (w[1]==w[2]) and (w[2]==w[3]) and (w[3]==w[4])\n",
    "\n",
    "#Vorbereitung große und kleine Straße\n",
    "drei_und_vier = (w.count(3)>=1) and (w.count(4)>=1) # Beachte: >=1 wegen möglicher Doppelungen\n",
    "eins_und_zwei = (w.count(1)>=1) and (w.count(2)>=1)\n",
    "zwei_und_fuenf = (w.count(2)>=1) and (w.count(5)>=1)\n",
    "fuenf_und_sechs = (w.count(5)>=1) and (w.count(6)>=1)\n",
    "eins_oder_sechs = (w.count(1)>=1) or (w.count(6)>=1)\n",
    "\n",
    "\n",
    "#Große Straße\n",
    "grosse_strasse = drei_und_vier and zwei_und_fuenf and eins_oder_sechs\n",
    "#Kleine Straße\n",
    "kleine_strasse = drei_und_vier and (eins_und_zwei or zwei_und_fuenf or fuenf_und_sechs)\n",
    "\n",
    "#Full House\n",
    "fullhouse = (w[0]==w[1]) and (w[3]==w[4]) and ((w[2]==w[1]) or (w[2]==w[3]))\n",
    "\n",
    "#Viererpasch\n",
    "erste_vier_gleich = (w[0]==w[1]) and (w[1]==w[2]) and (w[2]==w[3])\n",
    "letzte_vier_gleich = (w[1]==w[2]) and (w[2]==w[3]) and (w[3]==w[4])\n",
    "viererpasch = erste_vier_gleich or letzte_vier_gleich\n",
    "\n",
    "#Dreierpasch\n",
    "erste_drei_gleich = (w[0]==w[1]) and (w[1]==w[2])\n",
    "mittlere_drei_gleich = (w[1]==w[2]) and (w[2]==w[3])\n",
    "letzte_drei_gleich = (w[2]==w[3]) and (w[3]==w[4])\n",
    "dreierpasch = erste_drei_gleich or mittlere_drei_gleich or letzte_drei_gleich\n",
    "\n",
    "#-----------------------------------------------------------------------\n",
    "\n",
    "if kniffel:\n",
    "    print(\"Das ist ein Kniffel!\")\n",
    "elif grosse_strasse:\n",
    "    print(\"Das ist eine große Straße!\")\n",
    "elif kleine_strasse:\n",
    "    print(\"Das ist eine kleine Straße!\")\n",
    "elif fullhouse:\n",
    "    print(\"Das ist ein Full House!\")\n",
    "elif viererpasch: \n",
    "    print(\"Das ist ein Viererpasch!\")\n",
    "elif dreierpasch:\n",
    "    print(\"Das ist ein Dreierpasch!\")\n",
    "else:\n",
    "    print(\"Das ist leider keine besondere Würfelkonstellation.\")"
   ]
  },
  {
   "cell_type": "markdown",
   "id": "fe8fe9a1-c306-4724-9f20-83089f2bcb64",
   "metadata": {},
   "source": [
    "### Geschafft! Und jetzt?\n",
    "\n",
    "Wer noch nicht genug gekniffelt hat, der kann das bestehende Programm nun nach Belieben erweitern / umbauen / komplett neu aufziehen ...\n",
    "\n",
    "**Einige Anregungen:**\n",
    "- Füge bei der Auswertung die erzielte Punktzahl hinzu. Für die Pasche wäre dazu ein Unterprogramm hilfreich, das als Parameter das Wurfergebnis w erhält und die Summe aller Augenzahlen zurückliefert. \n",
    "- Für die Ausgabe war bisher nur die vorgegebene Prioritätsliste entscheidend. Hier könnte man bei der Auswertung am Ende dafür sorgen, dass in mehrdeutigen Fällen, bei denen z.B. Full House und Dreierpasch erfüllt ist, die höherwertige Konstellation angezeigt wird. \n",
    "- Die ganzen Würfelkonstellationen wären auch als Unterprogramme denkbar, welche als Rückgabewert die Punktzahl liefern, die man damit erzielen würde. Das Unterprogramm fullhouse(w) würde demnach im Falle eines Full House 25 zurückliefern und sonst 0; das Unterprogramm dreierpasch(w) würde bei einem Dreierpasch die Summe aller Augen liefern und 0, wenn das Ergebnis kein Dreierpasch ist.\n",
    "- Auch das Hinzufügen einer Auswertung für den oberen Teil des Blocks über entsprechende Unterprogramme wäre eine Möglichkeit."
   ]
  }
 ],
 "metadata": {
  "kernelspec": {
   "display_name": "Python 3 (ipykernel)",
   "language": "python",
   "name": "python3"
  },
  "language_info": {
   "codemirror_mode": {
    "name": "ipython",
    "version": 3
   },
   "file_extension": ".py",
   "mimetype": "text/x-python",
   "name": "python",
   "nbconvert_exporter": "python",
   "pygments_lexer": "ipython3",
   "version": "3.9.7"
  }
 },
 "nbformat": 4,
 "nbformat_minor": 5
}
